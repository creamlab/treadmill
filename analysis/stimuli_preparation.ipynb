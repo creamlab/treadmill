{
 "cells": [
  {
   "cell_type": "code",
   "execution_count": 1,
   "metadata": {
    "ExecuteTime": {
     "end_time": "2021-05-06T05:46:53.374535Z",
     "start_time": "2021-05-06T05:46:46.912112Z"
    }
   },
   "outputs": [],
   "source": [
    "import glob, os\n",
    "import numpy as np\n",
    "import pysptk\n",
    "import librosa\n",
    "import time\n",
    "import pandas as pd\n",
    "import sys\n",
    "from scipy.io import wavfile"
   ]
  },
  {
   "cell_type": "markdown",
   "metadata": {},
   "source": [
    "# Sound stimuli preparation \n",
    "Treadmill experiment &copy; Quentin Decultot, JJ Aucouturier, 2021"
   ]
  },
  {
   "cell_type": "code",
   "execution_count": 2,
   "metadata": {
    "ExecuteTime": {
     "end_time": "2021-05-06T05:46:53.379334Z",
     "start_time": "2021-05-06T05:46:53.375344Z"
    }
   },
   "outputs": [],
   "source": [
    "sound_dir = \"../experiment/sounds/\""
   ]
  },
  {
   "cell_type": "markdown",
   "metadata": {},
   "source": [
    "## Sound file conversion"
   ]
  },
  {
   "cell_type": "markdown",
   "metadata": {},
   "source": [
    "Only select mf files, and convert from aiff to wav"
   ]
  },
  {
   "cell_type": "code",
   "execution_count": 3,
   "metadata": {
    "ExecuteTime": {
     "end_time": "2021-05-06T05:46:59.142704Z",
     "start_time": "2021-05-06T05:46:53.381336Z"
    },
    "scrolled": true
   },
   "outputs": [
    {
     "name": "stdout",
     "output_type": "stream",
     "text": [
      "Piano.mf.A1.wav,Piano.mf.A2.wav,Piano.mf.A3.wav,Piano.mf.A4.wav,Piano.mf.A5.wav,Piano.mf.A6.wav,Piano.mf.A7.wav,Piano.mf.Ab1.wav,Piano.mf.Ab2.wav,Piano.mf.Ab3.wav,Piano.mf.Ab4.wav,Piano.mf.Ab5.wav,Piano.mf.Ab6.wav,Piano.mf.Ab7.wav,Piano.mf.B0.wav,Piano.mf.B1.wav,Piano.mf.B2.wav,Piano.mf.B3.wav,Piano.mf.B4.wav,Piano.mf.B5.wav,Piano.mf.B6.wav,Piano.mf.B7.wav,Piano.mf.Bb1.wav,Piano.mf.Bb2.wav,Piano.mf.Bb3.wav,Piano.mf.Bb4.wav,Piano.mf.Bb5.wav,Piano.mf.Bb6.wav,Piano.mf.Bb7.wav,Piano.mf.C1.wav,Piano.mf.C2.wav,Piano.mf.C3.wav,Piano.mf.C4.wav,Piano.mf.C5.wav,Piano.mf.C6.wav,Piano.mf.C7.wav,Piano.mf.C8.wav,Piano.mf.D1.wav,Piano.mf.D2.wav,Piano.mf.D3.wav,Piano.mf.D4.wav,Piano.mf.D5.wav,Piano.mf.D6.wav,Piano.mf.D7.wav,Piano.mf.Db1.wav,Piano.mf.Db2.wav,Piano.mf.Db3.wav,Piano.mf.Db4.wav,Piano.mf.Db5.wav,Piano.mf.Db6.wav,Piano.mf.Db7.wav,Piano.mf.E1.wav,Piano.mf.E2.wav,Piano.mf.E3.wav,Piano.mf.E4.wav,Piano.mf.E5.wav,Piano.mf.E6.wav,Piano.mf.E7.wav,Piano.mf.Eb1.wav,Piano.mf.Eb2.wav,Piano.mf.Eb3.wav,Piano.mf.Eb4.wav,Piano.mf.Eb5.wav,Piano.mf.Eb6.wav,Piano.mf.Eb7.wav,Piano.mf.F1.wav,Piano.mf.F2.wav,Piano.mf.F3.wav,Piano.mf.F4.wav,Piano.mf.F5.wav,Piano.mf.F6.wav,Piano.mf.F7.wav,Piano.mf.G1.wav,Piano.mf.G2.wav,Piano.mf.G3.wav,Piano.mf.G4.wav,Piano.mf.G5.wav,Piano.mf.G6.wav,Piano.mf.G7.wav,Piano.mf.Gb1.wav,Piano.mf.Gb2.wav,Piano.mf.Gb3.wav,Piano.mf.Gb4.wav,Piano.mf.Gb5.wav,Piano.mf.Gb6.wav,"
     ]
    }
   ],
   "source": [
    "# convert aiff to wav files\n",
    "for input_file in glob.glob(sound_dir+\"piano/Piano.mf.*.aiff\"):\n",
    "    output_file = os.path.splitext(input_file)[0] +'.wav'\n",
    "    print(os.path.basename(output_file)+',', end='')\n",
    "    convert_cmd = \"ffmpeg -i \" + input_file + \" -acodec pcm_s16le -ar 44100 -ac 1 \" + output_file\n",
    "    os.system(convert_cmd)"
   ]
  },
  {
   "cell_type": "code",
   "execution_count": 4,
   "metadata": {
    "ExecuteTime": {
     "end_time": "2021-05-06T05:47:30.230401Z",
     "start_time": "2021-05-06T05:47:30.221424Z"
    }
   },
   "outputs": [
    {
     "name": "stdout",
     "output_type": "stream",
     "text": [
      "44100\n"
     ]
    }
   ],
   "source": [
    "sr, x = wavfile.read(sound_dir+\"piano/\"+\"Piano.mf.A2.wav\")\n",
    "print(sr)"
   ]
  },
  {
   "cell_type": "markdown",
   "metadata": {},
   "source": [
    "## Trim silence and normalize"
   ]
  },
  {
   "cell_type": "markdown",
   "metadata": {},
   "source": [
    "Cut leading silence"
   ]
  },
  {
   "cell_type": "code",
   "execution_count": 5,
   "metadata": {
    "ExecuteTime": {
     "end_time": "2021-05-06T05:47:57.417083Z",
     "start_time": "2021-05-06T05:47:48.229491Z"
    }
   },
   "outputs": [
    {
     "name": "stdout",
     "output_type": "stream",
     "text": [
      "Piano.mf.A1.t.wav,Piano.mf.A2.t.wav,Piano.mf.A3.t.wav,Piano.mf.A4.t.wav,Piano.mf.A5.t.wav,Piano.mf.A6.t.wav,Piano.mf.A7.t.wav,Piano.mf.Ab1.t.wav,Piano.mf.Ab2.t.wav,Piano.mf.Ab3.t.wav,Piano.mf.Ab4.t.wav,Piano.mf.Ab5.t.wav,Piano.mf.Ab6.t.wav,Piano.mf.Ab7.t.wav,Piano.mf.B0.t.wav,Piano.mf.B1.t.wav,Piano.mf.B2.t.wav,Piano.mf.B3.t.wav,Piano.mf.B4.t.wav,Piano.mf.B5.t.wav,Piano.mf.B6.t.wav,Piano.mf.B7.t.wav,Piano.mf.Bb1.t.wav,Piano.mf.Bb2.t.wav,Piano.mf.Bb3.t.wav,Piano.mf.Bb4.t.wav,Piano.mf.Bb5.t.wav,Piano.mf.Bb6.t.wav,Piano.mf.Bb7.t.wav,Piano.mf.C1.t.wav,Piano.mf.C2.t.wav,Piano.mf.C3.t.wav,Piano.mf.C4.t.wav,Piano.mf.C5.t.wav,Piano.mf.C6.t.wav,Piano.mf.C7.t.wav,Piano.mf.C8.t.wav,Piano.mf.D1.t.wav,Piano.mf.D2.t.wav,Piano.mf.D3.t.wav,Piano.mf.D4.t.wav,Piano.mf.D5.t.wav,Piano.mf.D6.t.wav,Piano.mf.D7.t.wav,Piano.mf.Db1.t.wav,Piano.mf.Db2.t.wav,Piano.mf.Db3.t.wav,Piano.mf.Db4.t.wav,Piano.mf.Db5.t.wav,Piano.mf.Db6.t.wav,Piano.mf.Db7.t.wav,Piano.mf.E1.t.wav,Piano.mf.E2.t.wav,Piano.mf.E3.t.wav,Piano.mf.E4.t.wav,Piano.mf.E5.t.wav,Piano.mf.E6.t.wav,Piano.mf.E7.t.wav,Piano.mf.Eb1.t.wav,Piano.mf.Eb2.t.wav,Piano.mf.Eb3.t.wav,Piano.mf.Eb4.t.wav,Piano.mf.Eb5.t.wav,Piano.mf.Eb6.t.wav,Piano.mf.Eb7.t.wav,Piano.mf.F1.t.wav,Piano.mf.F2.t.wav,Piano.mf.F3.t.wav,Piano.mf.F4.t.wav,Piano.mf.F5.t.wav,Piano.mf.F6.t.wav,Piano.mf.F7.t.wav,Piano.mf.G1.t.wav,Piano.mf.G2.t.wav,Piano.mf.G3.t.wav,Piano.mf.G4.t.wav,Piano.mf.G5.t.wav,Piano.mf.G6.t.wav,Piano.mf.G7.t.wav,Piano.mf.Gb1.t.wav,Piano.mf.Gb2.t.wav,Piano.mf.Gb3.t.wav,Piano.mf.Gb4.t.wav,Piano.mf.Gb5.t.wav,Piano.mf.Gb6.t.wav,"
     ]
    }
   ],
   "source": [
    "duration = 1.5\n",
    "fade_duration = 0.05\n",
    "\n",
    "for input_file in glob.glob(sound_dir+\"piano/*.wav\"):\n",
    "    \n",
    "    output_file = sound_dir+\"/original/\"+os.path.splitext(os.path.basename(input_file))[0] +'.t.wav'\n",
    "    trim_cmd = \"ffmpeg -i \" + input_file + (\" -af loudnorm,\"\n",
    "                                            \"aformat=s16,\"\n",
    "                                            \"silenceremove=start_periods=1:start_silence=0.05:start_threshold=-30dB,\"\n",
    "                                            \"afade=out:st=%f:d=%f,\"\n",
    "                                            \"afade=in:st=0:d=%f -ar 44100 \"\n",
    "                                            \"-to %f \")%(duration-fade_duration,\n",
    "                                                        fade_duration, \n",
    "                                                        fade_duration, \n",
    "                                                        duration) + output_file\n",
    "    os.system(trim_cmd)\n",
    "    print(os.path.basename(output_file)+',', end='')\n"
   ]
  },
  {
   "cell_type": "code",
   "execution_count": 6,
   "metadata": {
    "ExecuteTime": {
     "end_time": "2021-05-06T05:48:10.931918Z",
     "start_time": "2021-05-06T05:48:10.926931Z"
    }
   },
   "outputs": [
    {
     "name": "stdout",
     "output_type": "stream",
     "text": [
      "44100\n"
     ]
    }
   ],
   "source": [
    "sr, x = wavfile.read(sound_dir+\"original/\"+\"Piano.mf.A2.t.wav\")\n",
    "print(sr)"
   ]
  },
  {
   "cell_type": "markdown",
   "metadata": {},
   "source": [
    "## Compute pitch and list in a file"
   ]
  },
  {
   "cell_type": "code",
   "execution_count": 7,
   "metadata": {
    "ExecuteTime": {
     "end_time": "2021-05-06T05:48:15.700229Z",
     "start_time": "2021-05-06T05:48:15.694276Z"
    }
   },
   "outputs": [],
   "source": [
    "PITCH_WIN = .01\n",
    "PITCH_BOUNDS = [20,4200] # minimum maximum freq on piano\n",
    "\n",
    "def compute_swipe_pitch(sound_file):\n",
    "    \"\"\"Computes a time series of pitch values using the SWIPE algorithm\n",
    "    Pitch is computed on successive windows (PITCH_WIN, in sec.), \n",
    "    and returns an array of pitch values (in Hz) and array of window time positions (in ms).\n",
    "    PITCH_BOUNDS = [min_f0,max_f0] in which the pitch should be searched.\n",
    "    Pitch on windows where pitch is undefined is set as np.nan\n",
    "    \"\"\"\n",
    "    sr, x = wavfile.read(sound_file) #sr=sampling_rate\n",
    "    hop_size = np.floor(sr * PITCH_WIN)\n",
    "    min_f0, max_f0 = PITCH_BOUNDS\n",
    "    pitch = np.array(pysptk.swipe(x.astype(np.float64),\n",
    "                         fs=sr,\n",
    "                         hopsize=hop_size,\n",
    "                         min=min_f0,\n",
    "                         max=max_f0,\n",
    "                         otype=1))\n",
    "    \n",
    "    # pitch on windows where pitch is undefined (ex. non-voiced) is returned as 0\n",
    "    # replace these values by np.nan\n",
    "    pitch[np.where(pitch == 0)] = np.nan\n",
    "    \n",
    "    # times at which pitch is computed \n",
    "    times = 1000*np.arange(len(pitch))*hop_size/sr\n",
    "    \n",
    "    return pitch, times\n"
   ]
  },
  {
   "cell_type": "code",
   "execution_count": 8,
   "metadata": {
    "ExecuteTime": {
     "end_time": "2021-05-06T05:49:05.349173Z",
     "start_time": "2021-05-06T05:48:31.384949Z"
    }
   },
   "outputs": [
    {
     "name": "stdout",
     "output_type": "stream",
     "text": [
      "pitch Piano.mf.A1.t.wav: 55.4 Hz, pitch Piano.mf.A2.t.wav: 110.3 Hz, pitch Piano.mf.A3.t.wav: 221.0 Hz, pitch Piano.mf.A4.t.wav: 442.1 Hz, pitch Piano.mf.A5.t.wav: 887.3 Hz, pitch Piano.mf.A6.t.wav: 1782.7 Hz, pitch Piano.mf.A7.t.wav: "
     ]
    },
    {
     "name": "stderr",
     "output_type": "stream",
     "text": [
      "c:\\users\\aucouturier\\appdata\\local\\programs\\python\\python36\\lib\\site-packages\\numpy\\core\\fromnumeric.py:3335: RuntimeWarning: Mean of empty slice.\n",
      "  out=out, **kwargs)\n",
      "c:\\users\\aucouturier\\appdata\\local\\programs\\python\\python36\\lib\\site-packages\\numpy\\core\\_methods.py:161: RuntimeWarning: invalid value encountered in double_scalars\n",
      "  ret = ret.dtype.type(ret / rcount)\n"
     ]
    },
    {
     "name": "stdout",
     "output_type": "stream",
     "text": [
      "nan Hz, pitch Piano.mf.Ab1.t.wav: 52.1 Hz, pitch Piano.mf.Ab2.t.wav: 104.1 Hz, pitch Piano.mf.Ab3.t.wav: 209.0 Hz, pitch Piano.mf.Ab4.t.wav: 418.4 Hz, pitch Piano.mf.Ab5.t.wav: 839.0 Hz, pitch Piano.mf.Ab6.t.wav: 1696.3 Hz, pitch Piano.mf.Ab7.t.wav: nan Hz, pitch Piano.mf.B0.t.wav: nan Hz, pitch Piano.mf.B1.t.wav: 62.0 Hz, pitch Piano.mf.B2.t.wav: 124.0 Hz, pitch Piano.mf.B3.t.wav: 248.5 Hz, pitch Piano.mf.B4.t.wav: 498.4 Hz, pitch Piano.mf.B5.t.wav: 1003.2 Hz, pitch Piano.mf.B6.t.wav: 2029.2 Hz, pitch Piano.mf.B7.t.wav: nan Hz, pitch Piano.mf.Bb1.t.wav: 58.4 Hz, pitch Piano.mf.Bb2.t.wav: 117.0 Hz, pitch Piano.mf.Bb3.t.wav: 234.8 Hz, pitch Piano.mf.Bb4.t.wav: 469.6 Hz, pitch Piano.mf.Bb5.t.wav: 946.0 Hz, pitch Piano.mf.Bb6.t.wav: 1889.5 Hz, pitch Piano.mf.Bb7.t.wav: nan Hz, pitch Piano.mf.C1.t.wav: 32.7 Hz, pitch Piano.mf.C2.t.wav: 65.7 Hz, pitch Piano.mf.C3.t.wav: 131.3 Hz, pitch Piano.mf.C4.t.wav: 263.1 Hz, pitch Piano.mf.C5.t.wav: 527.1 Hz, pitch Piano.mf.C6.t.wav: 1057.1 Hz, pitch Piano.mf.C7.t.wav: 2139.2 Hz, pitch Piano.mf.C8.t.wav: nan Hz, pitch Piano.mf.D1.t.wav: 36.8 Hz, pitch Piano.mf.D2.t.wav: 73.7 Hz, pitch Piano.mf.D3.t.wav: 147.7 Hz, pitch Piano.mf.D4.t.wav: 295.3 Hz, pitch Piano.mf.D5.t.wav: 595.4 Hz, pitch Piano.mf.D6.t.wav: 1200.6 Hz, pitch Piano.mf.D7.t.wav: nan Hz, pitch Piano.mf.Db1.t.wav: 34.7 Hz, pitch Piano.mf.Db2.t.wav: 69.7 Hz, pitch Piano.mf.Db3.t.wav: 139.7 Hz, pitch Piano.mf.Db4.t.wav: 279.7 Hz, pitch Piano.mf.Db5.t.wav: 559.5 Hz, pitch Piano.mf.Db6.t.wav: 1126.1 Hz, pitch Piano.mf.Db7.t.wav: 2266.4 Hz, pitch Piano.mf.E1.t.wav: 41.2 Hz, pitch Piano.mf.E2.t.wav: 83.1 Hz, pitch Piano.mf.E3.t.wav: 166.2 Hz, pitch Piano.mf.E4.t.wav: 332.4 Hz, pitch Piano.mf.E5.t.wav: 668.3 Hz, pitch Piano.mf.E6.t.wav: 1350.0 Hz, pitch Piano.mf.E7.t.wav: 2744.3 Hz, pitch Piano.mf.Eb1.t.wav: 39.1 Hz, pitch Piano.mf.Eb2.t.wav: 78.4 Hz, pitch Piano.mf.Eb3.t.wav: 156.4 Hz, pitch Piano.mf.Eb4.t.wav: 312.9 Hz, pitch Piano.mf.Eb5.t.wav: 628.0 Hz, pitch Piano.mf.Eb6.t.wav: 1269.7 Hz, pitch Piano.mf.Eb7.t.wav: nan Hz, pitch Piano.mf.F1.t.wav: 86.4 Hz, pitch Piano.mf.F2.t.wav: 87.5 Hz, pitch Piano.mf.F3.t.wav: 175.3 Hz, pitch Piano.mf.F4.t.wav: 349.8 Hz, pitch Piano.mf.F5.t.wav: 697.9 Hz, pitch Piano.mf.F6.t.wav: 1399.0 Hz, pitch Piano.mf.F7.t.wav: 2832.4 Hz, pitch Piano.mf.G1.t.wav: 49.3 Hz, pitch Piano.mf.G2.t.wav: 98.2 Hz, pitch Piano.mf.G3.t.wav: 196.6 Hz, pitch Piano.mf.G4.t.wav: 394.2 Hz, pitch Piano.mf.G5.t.wav: 783.4 Hz, pitch Piano.mf.G6.t.wav: 1572.5 Hz, pitch Piano.mf.G7.t.wav: nan Hz, pitch Piano.mf.Gb1.t.wav: 46.5 Hz, pitch Piano.mf.Gb2.t.wav: 92.8 Hz, pitch Piano.mf.Gb3.t.wav: 185.7 Hz, pitch Piano.mf.Gb4.t.wav: 371.1 Hz, pitch Piano.mf.Gb5.t.wav: 740.8 Hz, pitch Piano.mf.Gb6.t.wav: 1490.9 Hz, "
     ]
    }
   ],
   "source": [
    "files = []\n",
    "dynamics = [] \n",
    "pitches = []\n",
    "notes = []\n",
    "octaves = []\n",
    "\n",
    "for input_file in glob.glob(sound_dir+\"/original/*.t.wav\"):\n",
    "    \n",
    "    base_name = os.path.basename(input_file)\n",
    "    files.append(\"original/\"+base_name)\n",
    "    \n",
    "    # parse note & dynamics from file name\n",
    "    dynamics.append(base_name.split('.')[1])\n",
    "    notes.append(base_name.split('.')[2])\n",
    "    octaves.append(base_name.split('.')[2][-1])\n",
    "    \n",
    "    # compute pitch\n",
    "    print(\"pitch %s: \"%(base_name), end='')\n",
    "    swipe_pitches, times = compute_swipe_pitch(input_file)\n",
    "    swipe_pitches = swipe_pitches[~np.isnan(swipe_pitches)]\n",
    "    pitch = np.median(swipe_pitches) # note: median instead of mean, to focus on the tonal parts\n",
    "    print(\"%.1f Hz, \"%pitch,end='')\n",
    "    pitches.append(float(\"%.1f\"%pitch))\n",
    "                   \n",
    "# list all sounds in a dataframe        \n",
    "sounds = pd.DataFrame({\"file\":files,\n",
    "                       'octave':octaves,\n",
    "                      \"note\":notes,\n",
    "                      \"dynamics\":dynamics,\n",
    "                      \"pitch\":pitches})   \n",
    "    \n",
    "    \n"
   ]
  },
  {
   "cell_type": "code",
   "execution_count": 9,
   "metadata": {
    "ExecuteTime": {
     "end_time": "2021-05-06T05:49:24.165572Z",
     "start_time": "2021-05-06T05:49:24.155612Z"
    }
   },
   "outputs": [],
   "source": [
    "sounds.to_csv('../experiment/sounds/list.csv')"
   ]
  },
  {
   "cell_type": "markdown",
   "metadata": {},
   "source": [
    "## Pitch shift"
   ]
  },
  {
   "cell_type": "markdown",
   "metadata": {},
   "source": [
    "Pitch shift each file to [-50,+50] cents, to expand the dataset. Uses a proprietary method in pyvoimooo. "
   ]
  },
  {
   "cell_type": "code",
   "execution_count": 10,
   "metadata": {
    "ExecuteTime": {
     "end_time": "2021-05-06T05:49:27.657713Z",
     "start_time": "2021-05-06T05:49:26.334173Z"
    }
   },
   "outputs": [
    {
     "name": "stdout",
     "output_type": "stream",
     "text": [
      "INFO: Wav write/read: Using libsndfile in Voimooo\n"
     ]
    },
    {
     "data": {
      "text/plain": [
       "'0.17.6'"
      ]
     },
     "execution_count": 10,
     "metadata": {},
     "output_type": "execute_result"
    }
   ],
   "source": [
    "# Load Voimooo python wrapper\n",
    "sys.path.insert(0, os.path.abspath('../../../pyvoimooo/'))\n",
    "import pyvoimooo as vmo\n",
    "vmo.__version__"
   ]
  },
  {
   "cell_type": "code",
   "execution_count": 12,
   "metadata": {
    "ExecuteTime": {
     "end_time": "2021-05-06T05:50:22.443547Z",
     "start_time": "2021-05-06T05:50:16.185683Z"
    }
   },
   "outputs": [
    {
     "name": "stdout",
     "output_type": "stream",
     "text": [
      "scale original/Piano.mf.A1.t.wav by 0.97; scale original/Piano.mf.A1.t.wav by 0.98; scale original/Piano.mf.A1.t.wav by 0.98; scale original/Piano.mf.A1.t.wav by 0.99; scale original/Piano.mf.A1.t.wav by 0.99; scale original/Piano.mf.A1.t.wav by 1.00; scale original/Piano.mf.A1.t.wav by 1.01; scale original/Piano.mf.A1.t.wav by 1.01; scale original/Piano.mf.A1.t.wav by 1.02; scale original/Piano.mf.A1.t.wav by 1.02; scale original/Piano.mf.A2.t.wav by 0.97; scale original/Piano.mf.A2.t.wav by 0.98; scale original/Piano.mf.A2.t.wav by 0.98; scale original/Piano.mf.A2.t.wav by 0.99; scale original/Piano.mf.A2.t.wav by 0.99; scale original/Piano.mf.A2.t.wav by 1.00; scale original/Piano.mf.A2.t.wav by 1.01; scale original/Piano.mf.A2.t.wav by 1.01; scale original/Piano.mf.A2.t.wav by 1.02; scale original/Piano.mf.A2.t.wav by 1.02; scale original/Piano.mf.A3.t.wav by 0.97; scale original/Piano.mf.A3.t.wav by 0.98; scale original/Piano.mf.A3.t.wav by 0.98; scale original/Piano.mf.A3.t.wav by 0.99; scale original/Piano.mf.A3.t.wav by 0.99; scale original/Piano.mf.A3.t.wav by 1.00; scale original/Piano.mf.A3.t.wav by 1.01; scale original/Piano.mf.A3.t.wav by 1.01; scale original/Piano.mf.A3.t.wav by 1.02; scale original/Piano.mf.A3.t.wav by 1.02; scale original/Piano.mf.A4.t.wav by 0.97; scale original/Piano.mf.A4.t.wav by 0.98; scale original/Piano.mf.A4.t.wav by 0.98; scale original/Piano.mf.A4.t.wav by 0.99; scale original/Piano.mf.A4.t.wav by 0.99; scale original/Piano.mf.A4.t.wav by 1.00; scale original/Piano.mf.A4.t.wav by 1.01; scale original/Piano.mf.A4.t.wav by 1.01; scale original/Piano.mf.A4.t.wav by 1.02; scale original/Piano.mf.A4.t.wav by 1.02; scale original/Piano.mf.A5.t.wav by 0.97; scale original/Piano.mf.A5.t.wav by 0.98; scale original/Piano.mf.A5.t.wav by 0.98; scale original/Piano.mf.A5.t.wav by 0.99; scale original/Piano.mf.A5.t.wav by 0.99; scale original/Piano.mf.A5.t.wav by 1.00; scale original/Piano.mf.A5.t.wav by 1.01; scale original/Piano.mf.A5.t.wav by 1.01; scale original/Piano.mf.A5.t.wav by 1.02; scale original/Piano.mf.A5.t.wav by 1.02; scale original/Piano.mf.A6.t.wav by 0.97; scale original/Piano.mf.A6.t.wav by 0.98; scale original/Piano.mf.A6.t.wav by 0.98; scale original/Piano.mf.A6.t.wav by 0.99; scale original/Piano.mf.A6.t.wav by 0.99; scale original/Piano.mf.A6.t.wav by 1.00; scale original/Piano.mf.A6.t.wav by 1.01; scale original/Piano.mf.A6.t.wav by 1.01; scale original/Piano.mf.A6.t.wav by 1.02; scale original/Piano.mf.A6.t.wav by 1.02; scale original/Piano.mf.A7.t.wav by 0.97; scale original/Piano.mf.A7.t.wav by 0.98; scale original/Piano.mf.A7.t.wav by 0.98; scale original/Piano.mf.A7.t.wav by 0.99; scale original/Piano.mf.A7.t.wav by 0.99; scale original/Piano.mf.A7.t.wav by 1.00; scale original/Piano.mf.A7.t.wav by 1.01; scale original/Piano.mf.A7.t.wav by 1.01; scale original/Piano.mf.A7.t.wav by 1.02; scale original/Piano.mf.A7.t.wav by 1.02; scale original/Piano.mf.Ab1.t.wav by 0.97; scale original/Piano.mf.Ab1.t.wav by 0.98; scale original/Piano.mf.Ab1.t.wav by 0.98; scale original/Piano.mf.Ab1.t.wav by 0.99; scale original/Piano.mf.Ab1.t.wav by 0.99; scale original/Piano.mf.Ab1.t.wav by 1.00; scale original/Piano.mf.Ab1.t.wav by 1.01; scale original/Piano.mf.Ab1.t.wav by 1.01; scale original/Piano.mf.Ab1.t.wav by 1.02; scale original/Piano.mf.Ab1.t.wav by 1.02; scale original/Piano.mf.Ab2.t.wav by 0.97; scale original/Piano.mf.Ab2.t.wav by 0.98; scale original/Piano.mf.Ab2.t.wav by 0.98; scale original/Piano.mf.Ab2.t.wav by 0.99; scale original/Piano.mf.Ab2.t.wav by 0.99; scale original/Piano.mf.Ab2.t.wav by 1.00; scale original/Piano.mf.Ab2.t.wav by 1.01; scale original/Piano.mf.Ab2.t.wav by 1.01; scale original/Piano.mf.Ab2.t.wav by 1.02; scale original/Piano.mf.Ab2.t.wav by 1.02; scale original/Piano.mf.Ab3.t.wav by 0.97; scale original/Piano.mf.Ab3.t.wav by 0.98; scale original/Piano.mf.Ab3.t.wav by 0.98; scale original/Piano.mf.Ab3.t.wav by 0.99; scale original/Piano.mf.Ab3.t.wav by 0.99; scale original/Piano.mf.Ab3.t.wav by 1.00; scale original/Piano.mf.Ab3.t.wav by 1.01; scale original/Piano.mf.Ab3.t.wav by 1.01; scale original/Piano.mf.Ab3.t.wav by 1.02; scale original/Piano.mf.Ab3.t.wav by 1.02; scale original/Piano.mf.Ab4.t.wav by 0.97; scale original/Piano.mf.Ab4.t.wav by 0.98; scale original/Piano.mf.Ab4.t.wav by 0.98; scale original/Piano.mf.Ab4.t.wav by 0.99; scale original/Piano.mf.Ab4.t.wav by 0.99; scale original/Piano.mf.Ab4.t.wav by 1.00; scale original/Piano.mf.Ab4.t.wav by 1.01; scale original/Piano.mf.Ab4.t.wav by 1.01; scale original/Piano.mf.Ab4.t.wav by 1.02; scale original/Piano.mf.Ab4.t.wav by 1.02; scale original/Piano.mf.Ab5.t.wav by 0.97; scale original/Piano.mf.Ab5.t.wav by 0.98; scale original/Piano.mf.Ab5.t.wav by 0.98; scale original/Piano.mf.Ab5.t.wav by 0.99; scale original/Piano.mf.Ab5.t.wav by 0.99; scale original/Piano.mf.Ab5.t.wav by 1.00; scale original/Piano.mf.Ab5.t.wav by 1.01; scale original/Piano.mf.Ab5.t.wav by 1.01; scale original/Piano.mf.Ab5.t.wav by 1.02; scale original/Piano.mf.Ab5.t.wav by 1.02; scale original/Piano.mf.Ab6.t.wav by 0.97; scale original/Piano.mf.Ab6.t.wav by 0.98; scale original/Piano.mf.Ab6.t.wav by 0.98; scale original/Piano.mf.Ab6.t.wav by 0.99; scale original/Piano.mf.Ab6.t.wav by 0.99; scale original/Piano.mf.Ab6.t.wav by 1.00; scale original/Piano.mf.Ab6.t.wav by 1.01; scale original/Piano.mf.Ab6.t.wav by 1.01; scale original/Piano.mf.Ab6.t.wav by 1.02; scale original/Piano.mf.Ab6.t.wav by 1.02; scale original/Piano.mf.Ab7.t.wav by 0.97; scale original/Piano.mf.Ab7.t.wav by 0.98; scale original/Piano.mf.Ab7.t.wav by 0.98; scale original/Piano.mf.Ab7.t.wav by 0.99; scale original/Piano.mf.Ab7.t.wav by 0.99; scale original/Piano.mf.Ab7.t.wav by 1.00; scale original/Piano.mf.Ab7.t.wav by 1.01; scale original/Piano.mf.Ab7.t.wav by 1.01; scale original/Piano.mf.Ab7.t.wav by 1.02; scale original/Piano.mf.Ab7.t.wav by 1.02; scale original/Piano.mf.B0.t.wav by 0.97; scale original/Piano.mf.B0.t.wav by 0.98; scale original/Piano.mf.B0.t.wav by 0.98; scale original/Piano.mf.B0.t.wav by 0.99; scale original/Piano.mf.B0.t.wav by 0.99; scale original/Piano.mf.B0.t.wav by 1.00; scale original/Piano.mf.B0.t.wav by 1.01; scale original/Piano.mf.B0.t.wav by 1.01; scale original/Piano.mf.B0.t.wav by 1.02; scale original/Piano.mf.B0.t.wav by 1.02; scale original/Piano.mf.B1.t.wav by 0.97; scale original/Piano.mf.B1.t.wav by 0.98; scale original/Piano.mf.B1.t.wav by 0.98; scale original/Piano.mf.B1.t.wav by 0.99; scale original/Piano.mf.B1.t.wav by 0.99; scale original/Piano.mf.B1.t.wav by 1.00; scale original/Piano.mf.B1.t.wav by 1.01; scale original/Piano.mf.B1.t.wav by 1.01; scale original/Piano.mf.B1.t.wav by 1.02; scale original/Piano.mf.B1.t.wav by 1.02; scale original/Piano.mf.B2.t.wav by 0.97; scale original/Piano.mf.B2.t.wav by 0.98; scale original/Piano.mf.B2.t.wav by 0.98; scale original/Piano.mf.B2.t.wav by 0.99; scale original/Piano.mf.B2.t.wav by 0.99; scale original/Piano.mf.B2.t.wav by 1.00; scale original/Piano.mf.B2.t.wav by 1.01; scale original/Piano.mf.B2.t.wav by 1.01; scale original/Piano.mf.B2.t.wav by 1.02; scale original/Piano.mf.B2.t.wav by 1.02; scale original/Piano.mf.B3.t.wav by 0.97; scale original/Piano.mf.B3.t.wav by 0.98; scale original/Piano.mf.B3.t.wav by 0.98; scale original/Piano.mf.B3.t.wav by 0.99; scale original/Piano.mf.B3.t.wav by 0.99; scale original/Piano.mf.B3.t.wav by 1.00; scale original/Piano.mf.B3.t.wav by 1.01; scale original/Piano.mf.B3.t.wav by 1.01; scale original/Piano.mf.B3.t.wav by 1.02; scale original/Piano.mf.B3.t.wav by 1.02; scale original/Piano.mf.B4.t.wav by 0.97; scale original/Piano.mf.B4.t.wav by 0.98; scale original/Piano.mf.B4.t.wav by 0.98; scale original/Piano.mf.B4.t.wav by 0.99; scale original/Piano.mf.B4.t.wav by 0.99; scale original/Piano.mf.B4.t.wav by 1.00; scale original/Piano.mf.B4.t.wav by 1.01; scale original/Piano.mf.B4.t.wav by 1.01; scale original/Piano.mf.B4.t.wav by 1.02; scale original/Piano.mf.B4.t.wav by 1.02; scale original/Piano.mf.B5.t.wav by 0.97; scale original/Piano.mf.B5.t.wav by 0.98; scale original/Piano.mf.B5.t.wav by 0.98; scale original/Piano.mf.B5.t.wav by 0.99; scale original/Piano.mf.B5.t.wav by 0.99; scale original/Piano.mf.B5.t.wav by 1.00; scale original/Piano.mf.B5.t.wav by 1.01; scale original/Piano.mf.B5.t.wav by 1.01; scale original/Piano.mf.B5.t.wav by 1.02; scale original/Piano.mf.B5.t.wav by 1.02; scale original/Piano.mf.B6.t.wav by 0.97; scale original/Piano.mf.B6.t.wav by 0.98; scale original/Piano.mf.B6.t.wav by 0.98; scale original/Piano.mf.B6.t.wav by 0.99; scale original/Piano.mf.B6.t.wav by 0.99; "
     ]
    },
    {
     "name": "stdout",
     "output_type": "stream",
     "text": [
      "scale original/Piano.mf.B6.t.wav by 1.00; scale original/Piano.mf.B6.t.wav by 1.01; scale original/Piano.mf.B6.t.wav by 1.01; scale original/Piano.mf.B6.t.wav by 1.02; scale original/Piano.mf.B6.t.wav by 1.02; scale original/Piano.mf.B7.t.wav by 0.97; scale original/Piano.mf.B7.t.wav by 0.98; scale original/Piano.mf.B7.t.wav by 0.98; scale original/Piano.mf.B7.t.wav by 0.99; scale original/Piano.mf.B7.t.wav by 0.99; scale original/Piano.mf.B7.t.wav by 1.00; scale original/Piano.mf.B7.t.wav by 1.01; scale original/Piano.mf.B7.t.wav by 1.01; scale original/Piano.mf.B7.t.wav by 1.02; scale original/Piano.mf.B7.t.wav by 1.02; scale original/Piano.mf.Bb1.t.wav by 0.97; scale original/Piano.mf.Bb1.t.wav by 0.98; scale original/Piano.mf.Bb1.t.wav by 0.98; scale original/Piano.mf.Bb1.t.wav by 0.99; scale original/Piano.mf.Bb1.t.wav by 0.99; scale original/Piano.mf.Bb1.t.wav by 1.00; scale original/Piano.mf.Bb1.t.wav by 1.01; scale original/Piano.mf.Bb1.t.wav by 1.01; scale original/Piano.mf.Bb1.t.wav by 1.02; scale original/Piano.mf.Bb1.t.wav by 1.02; scale original/Piano.mf.Bb2.t.wav by 0.97; scale original/Piano.mf.Bb2.t.wav by 0.98; scale original/Piano.mf.Bb2.t.wav by 0.98; scale original/Piano.mf.Bb2.t.wav by 0.99; scale original/Piano.mf.Bb2.t.wav by 0.99; scale original/Piano.mf.Bb2.t.wav by 1.00; scale original/Piano.mf.Bb2.t.wav by 1.01; scale original/Piano.mf.Bb2.t.wav by 1.01; scale original/Piano.mf.Bb2.t.wav by 1.02; scale original/Piano.mf.Bb2.t.wav by 1.02; scale original/Piano.mf.Bb3.t.wav by 0.97; scale original/Piano.mf.Bb3.t.wav by 0.98; scale original/Piano.mf.Bb3.t.wav by 0.98; scale original/Piano.mf.Bb3.t.wav by 0.99; scale original/Piano.mf.Bb3.t.wav by 0.99; scale original/Piano.mf.Bb3.t.wav by 1.00; scale original/Piano.mf.Bb3.t.wav by 1.01; scale original/Piano.mf.Bb3.t.wav by 1.01; scale original/Piano.mf.Bb3.t.wav by 1.02; scale original/Piano.mf.Bb3.t.wav by 1.02; scale original/Piano.mf.Bb4.t.wav by 0.97; scale original/Piano.mf.Bb4.t.wav by 0.98; scale original/Piano.mf.Bb4.t.wav by 0.98; scale original/Piano.mf.Bb4.t.wav by 0.99; scale original/Piano.mf.Bb4.t.wav by 0.99; scale original/Piano.mf.Bb4.t.wav by 1.00; scale original/Piano.mf.Bb4.t.wav by 1.01; scale original/Piano.mf.Bb4.t.wav by 1.01; scale original/Piano.mf.Bb4.t.wav by 1.02; scale original/Piano.mf.Bb4.t.wav by 1.02; scale original/Piano.mf.Bb5.t.wav by 0.97; scale original/Piano.mf.Bb5.t.wav by 0.98; scale original/Piano.mf.Bb5.t.wav by 0.98; scale original/Piano.mf.Bb5.t.wav by 0.99; scale original/Piano.mf.Bb5.t.wav by 0.99; scale original/Piano.mf.Bb5.t.wav by 1.00; scale original/Piano.mf.Bb5.t.wav by 1.01; scale original/Piano.mf.Bb5.t.wav by 1.01; scale original/Piano.mf.Bb5.t.wav by 1.02; scale original/Piano.mf.Bb5.t.wav by 1.02; scale original/Piano.mf.Bb6.t.wav by 0.97; scale original/Piano.mf.Bb6.t.wav by 0.98; scale original/Piano.mf.Bb6.t.wav by 0.98; scale original/Piano.mf.Bb6.t.wav by 0.99; scale original/Piano.mf.Bb6.t.wav by 0.99; scale original/Piano.mf.Bb6.t.wav by 1.00; scale original/Piano.mf.Bb6.t.wav by 1.01; scale original/Piano.mf.Bb6.t.wav by 1.01; scale original/Piano.mf.Bb6.t.wav by 1.02; scale original/Piano.mf.Bb6.t.wav by 1.02; scale original/Piano.mf.Bb7.t.wav by 0.97; scale original/Piano.mf.Bb7.t.wav by 0.98; scale original/Piano.mf.Bb7.t.wav by 0.98; scale original/Piano.mf.Bb7.t.wav by 0.99; scale original/Piano.mf.Bb7.t.wav by 0.99; scale original/Piano.mf.Bb7.t.wav by 1.00; scale original/Piano.mf.Bb7.t.wav by 1.01; scale original/Piano.mf.Bb7.t.wav by 1.01; scale original/Piano.mf.Bb7.t.wav by 1.02; scale original/Piano.mf.Bb7.t.wav by 1.02; scale original/Piano.mf.C1.t.wav by 0.97; scale original/Piano.mf.C1.t.wav by 0.98; scale original/Piano.mf.C1.t.wav by 0.98; scale original/Piano.mf.C1.t.wav by 0.99; scale original/Piano.mf.C1.t.wav by 0.99; scale original/Piano.mf.C1.t.wav by 1.00; scale original/Piano.mf.C1.t.wav by 1.01; scale original/Piano.mf.C1.t.wav by 1.01; scale original/Piano.mf.C1.t.wav by 1.02; scale original/Piano.mf.C1.t.wav by 1.02; scale original/Piano.mf.C2.t.wav by 0.97; scale original/Piano.mf.C2.t.wav by 0.98; scale original/Piano.mf.C2.t.wav by 0.98; scale original/Piano.mf.C2.t.wav by 0.99; scale original/Piano.mf.C2.t.wav by 0.99; scale original/Piano.mf.C2.t.wav by 1.00; scale original/Piano.mf.C2.t.wav by 1.01; scale original/Piano.mf.C2.t.wav by 1.01; scale original/Piano.mf.C2.t.wav by 1.02; scale original/Piano.mf.C2.t.wav by 1.02; scale original/Piano.mf.C3.t.wav by 0.97; scale original/Piano.mf.C3.t.wav by 0.98; scale original/Piano.mf.C3.t.wav by 0.98; scale original/Piano.mf.C3.t.wav by 0.99; scale original/Piano.mf.C3.t.wav by 0.99; scale original/Piano.mf.C3.t.wav by 1.00; scale original/Piano.mf.C3.t.wav by 1.01; scale original/Piano.mf.C3.t.wav by 1.01; scale original/Piano.mf.C3.t.wav by 1.02; scale original/Piano.mf.C3.t.wav by 1.02; scale original/Piano.mf.C4.t.wav by 0.97; scale original/Piano.mf.C4.t.wav by 0.98; scale original/Piano.mf.C4.t.wav by 0.98; scale original/Piano.mf.C4.t.wav by 0.99; scale original/Piano.mf.C4.t.wav by 0.99; scale original/Piano.mf.C4.t.wav by 1.00; scale original/Piano.mf.C4.t.wav by 1.01; scale original/Piano.mf.C4.t.wav by 1.01; scale original/Piano.mf.C4.t.wav by 1.02; scale original/Piano.mf.C4.t.wav by 1.02; scale original/Piano.mf.C5.t.wav by 0.97; scale original/Piano.mf.C5.t.wav by 0.98; scale original/Piano.mf.C5.t.wav by 0.98; scale original/Piano.mf.C5.t.wav by 0.99; scale original/Piano.mf.C5.t.wav by 0.99; scale original/Piano.mf.C5.t.wav by 1.00; scale original/Piano.mf.C5.t.wav by 1.01; scale original/Piano.mf.C5.t.wav by 1.01; scale original/Piano.mf.C5.t.wav by 1.02; scale original/Piano.mf.C5.t.wav by 1.02; scale original/Piano.mf.C6.t.wav by 0.97; scale original/Piano.mf.C6.t.wav by 0.98; scale original/Piano.mf.C6.t.wav by 0.98; scale original/Piano.mf.C6.t.wav by 0.99; scale original/Piano.mf.C6.t.wav by 0.99; scale original/Piano.mf.C6.t.wav by 1.00; scale original/Piano.mf.C6.t.wav by 1.01; scale original/Piano.mf.C6.t.wav by 1.01; scale original/Piano.mf.C6.t.wav by 1.02; scale original/Piano.mf.C6.t.wav by 1.02; scale original/Piano.mf.C7.t.wav by 0.97; scale original/Piano.mf.C7.t.wav by 0.98; scale original/Piano.mf.C7.t.wav by 0.98; scale original/Piano.mf.C7.t.wav by 0.99; scale original/Piano.mf.C7.t.wav by 0.99; scale original/Piano.mf.C7.t.wav by 1.00; scale original/Piano.mf.C7.t.wav by 1.01; scale original/Piano.mf.C7.t.wav by 1.01; scale original/Piano.mf.C7.t.wav by 1.02; scale original/Piano.mf.C7.t.wav by 1.02; scale original/Piano.mf.C8.t.wav by 0.97; scale original/Piano.mf.C8.t.wav by 0.98; scale original/Piano.mf.C8.t.wav by 0.98; scale original/Piano.mf.C8.t.wav by 0.99; scale original/Piano.mf.C8.t.wav by 0.99; scale original/Piano.mf.C8.t.wav by 1.00; scale original/Piano.mf.C8.t.wav by 1.01; scale original/Piano.mf.C8.t.wav by 1.01; scale original/Piano.mf.C8.t.wav by 1.02; scale original/Piano.mf.C8.t.wav by 1.02; scale original/Piano.mf.D1.t.wav by 0.97; scale original/Piano.mf.D1.t.wav by 0.98; scale original/Piano.mf.D1.t.wav by 0.98; scale original/Piano.mf.D1.t.wav by 0.99; scale original/Piano.mf.D1.t.wav by 0.99; scale original/Piano.mf.D1.t.wav by 1.00; scale original/Piano.mf.D1.t.wav by 1.01; scale original/Piano.mf.D1.t.wav by 1.01; scale original/Piano.mf.D1.t.wav by 1.02; scale original/Piano.mf.D1.t.wav by 1.02; scale original/Piano.mf.D2.t.wav by 0.97; scale original/Piano.mf.D2.t.wav by 0.98; scale original/Piano.mf.D2.t.wav by 0.98; scale original/Piano.mf.D2.t.wav by 0.99; scale original/Piano.mf.D2.t.wav by 0.99; scale original/Piano.mf.D2.t.wav by 1.00; scale original/Piano.mf.D2.t.wav by 1.01; scale original/Piano.mf.D2.t.wav by 1.01; scale original/Piano.mf.D2.t.wav by 1.02; scale original/Piano.mf.D2.t.wav by 1.02; scale original/Piano.mf.D3.t.wav by 0.97; scale original/Piano.mf.D3.t.wav by 0.98; scale original/Piano.mf.D3.t.wav by 0.98; scale original/Piano.mf.D3.t.wav by 0.99; scale original/Piano.mf.D3.t.wav by 0.99; scale original/Piano.mf.D3.t.wav by 1.00; scale original/Piano.mf.D3.t.wav by 1.01; scale original/Piano.mf.D3.t.wav by 1.01; scale original/Piano.mf.D3.t.wav by 1.02; scale original/Piano.mf.D3.t.wav by 1.02; scale original/Piano.mf.D4.t.wav by 0.97; scale original/Piano.mf.D4.t.wav by 0.98; scale original/Piano.mf.D4.t.wav by 0.98; scale original/Piano.mf.D4.t.wav by 0.99; scale original/Piano.mf.D4.t.wav by 0.99; scale original/Piano.mf.D4.t.wav by 1.00; scale original/Piano.mf.D4.t.wav by 1.01; scale original/Piano.mf.D4.t.wav by 1.01; scale original/Piano.mf.D4.t.wav by 1.02; scale original/Piano.mf.D4.t.wav by 1.02; "
     ]
    },
    {
     "name": "stdout",
     "output_type": "stream",
     "text": [
      "scale original/Piano.mf.D5.t.wav by 0.97; scale original/Piano.mf.D5.t.wav by 0.98; scale original/Piano.mf.D5.t.wav by 0.98; scale original/Piano.mf.D5.t.wav by 0.99; scale original/Piano.mf.D5.t.wav by 0.99; scale original/Piano.mf.D5.t.wav by 1.00; scale original/Piano.mf.D5.t.wav by 1.01; scale original/Piano.mf.D5.t.wav by 1.01; scale original/Piano.mf.D5.t.wav by 1.02; scale original/Piano.mf.D5.t.wav by 1.02; scale original/Piano.mf.D6.t.wav by 0.97; scale original/Piano.mf.D6.t.wav by 0.98; scale original/Piano.mf.D6.t.wav by 0.98; scale original/Piano.mf.D6.t.wav by 0.99; scale original/Piano.mf.D6.t.wav by 0.99; scale original/Piano.mf.D6.t.wav by 1.00; scale original/Piano.mf.D6.t.wav by 1.01; scale original/Piano.mf.D6.t.wav by 1.01; scale original/Piano.mf.D6.t.wav by 1.02; scale original/Piano.mf.D6.t.wav by 1.02; scale original/Piano.mf.D7.t.wav by 0.97; scale original/Piano.mf.D7.t.wav by 0.98; scale original/Piano.mf.D7.t.wav by 0.98; scale original/Piano.mf.D7.t.wav by 0.99; scale original/Piano.mf.D7.t.wav by 0.99; scale original/Piano.mf.D7.t.wav by 1.00; scale original/Piano.mf.D7.t.wav by 1.01; scale original/Piano.mf.D7.t.wav by 1.01; scale original/Piano.mf.D7.t.wav by 1.02; scale original/Piano.mf.D7.t.wav by 1.02; scale original/Piano.mf.Db1.t.wav by 0.97; scale original/Piano.mf.Db1.t.wav by 0.98; scale original/Piano.mf.Db1.t.wav by 0.98; scale original/Piano.mf.Db1.t.wav by 0.99; scale original/Piano.mf.Db1.t.wav by 0.99; scale original/Piano.mf.Db1.t.wav by 1.00; scale original/Piano.mf.Db1.t.wav by 1.01; scale original/Piano.mf.Db1.t.wav by 1.01; scale original/Piano.mf.Db1.t.wav by 1.02; scale original/Piano.mf.Db1.t.wav by 1.02; scale original/Piano.mf.Db2.t.wav by 0.97; scale original/Piano.mf.Db2.t.wav by 0.98; scale original/Piano.mf.Db2.t.wav by 0.98; scale original/Piano.mf.Db2.t.wav by 0.99; scale original/Piano.mf.Db2.t.wav by 0.99; scale original/Piano.mf.Db2.t.wav by 1.00; scale original/Piano.mf.Db2.t.wav by 1.01; scale original/Piano.mf.Db2.t.wav by 1.01; scale original/Piano.mf.Db2.t.wav by 1.02; scale original/Piano.mf.Db2.t.wav by 1.02; scale original/Piano.mf.Db3.t.wav by 0.97; scale original/Piano.mf.Db3.t.wav by 0.98; scale original/Piano.mf.Db3.t.wav by 0.98; scale original/Piano.mf.Db3.t.wav by 0.99; scale original/Piano.mf.Db3.t.wav by 0.99; scale original/Piano.mf.Db3.t.wav by 1.00; scale original/Piano.mf.Db3.t.wav by 1.01; scale original/Piano.mf.Db3.t.wav by 1.01; scale original/Piano.mf.Db3.t.wav by 1.02; scale original/Piano.mf.Db3.t.wav by 1.02; scale original/Piano.mf.Db4.t.wav by 0.97; scale original/Piano.mf.Db4.t.wav by 0.98; scale original/Piano.mf.Db4.t.wav by 0.98; scale original/Piano.mf.Db4.t.wav by 0.99; scale original/Piano.mf.Db4.t.wav by 0.99; scale original/Piano.mf.Db4.t.wav by 1.00; scale original/Piano.mf.Db4.t.wav by 1.01; scale original/Piano.mf.Db4.t.wav by 1.01; scale original/Piano.mf.Db4.t.wav by 1.02; scale original/Piano.mf.Db4.t.wav by 1.02; scale original/Piano.mf.Db5.t.wav by 0.97; scale original/Piano.mf.Db5.t.wav by 0.98; scale original/Piano.mf.Db5.t.wav by 0.98; scale original/Piano.mf.Db5.t.wav by 0.99; scale original/Piano.mf.Db5.t.wav by 0.99; scale original/Piano.mf.Db5.t.wav by 1.00; scale original/Piano.mf.Db5.t.wav by 1.01; scale original/Piano.mf.Db5.t.wav by 1.01; scale original/Piano.mf.Db5.t.wav by 1.02; scale original/Piano.mf.Db5.t.wav by 1.02; scale original/Piano.mf.Db6.t.wav by 0.97; scale original/Piano.mf.Db6.t.wav by 0.98; scale original/Piano.mf.Db6.t.wav by 0.98; scale original/Piano.mf.Db6.t.wav by 0.99; scale original/Piano.mf.Db6.t.wav by 0.99; scale original/Piano.mf.Db6.t.wav by 1.00; scale original/Piano.mf.Db6.t.wav by 1.01; scale original/Piano.mf.Db6.t.wav by 1.01; scale original/Piano.mf.Db6.t.wav by 1.02; scale original/Piano.mf.Db6.t.wav by 1.02; scale original/Piano.mf.Db7.t.wav by 0.97; scale original/Piano.mf.Db7.t.wav by 0.98; scale original/Piano.mf.Db7.t.wav by 0.98; scale original/Piano.mf.Db7.t.wav by 0.99; scale original/Piano.mf.Db7.t.wav by 0.99; scale original/Piano.mf.Db7.t.wav by 1.00; scale original/Piano.mf.Db7.t.wav by 1.01; scale original/Piano.mf.Db7.t.wav by 1.01; scale original/Piano.mf.Db7.t.wav by 1.02; scale original/Piano.mf.Db7.t.wav by 1.02; scale original/Piano.mf.E1.t.wav by 0.97; scale original/Piano.mf.E1.t.wav by 0.98; scale original/Piano.mf.E1.t.wav by 0.98; scale original/Piano.mf.E1.t.wav by 0.99; scale original/Piano.mf.E1.t.wav by 0.99; scale original/Piano.mf.E1.t.wav by 1.00; scale original/Piano.mf.E1.t.wav by 1.01; scale original/Piano.mf.E1.t.wav by 1.01; scale original/Piano.mf.E1.t.wav by 1.02; scale original/Piano.mf.E1.t.wav by 1.02; scale original/Piano.mf.E2.t.wav by 0.97; scale original/Piano.mf.E2.t.wav by 0.98; scale original/Piano.mf.E2.t.wav by 0.98; scale original/Piano.mf.E2.t.wav by 0.99; scale original/Piano.mf.E2.t.wav by 0.99; scale original/Piano.mf.E2.t.wav by 1.00; scale original/Piano.mf.E2.t.wav by 1.01; scale original/Piano.mf.E2.t.wav by 1.01; scale original/Piano.mf.E2.t.wav by 1.02; scale original/Piano.mf.E2.t.wav by 1.02; scale original/Piano.mf.E3.t.wav by 0.97; scale original/Piano.mf.E3.t.wav by 0.98; scale original/Piano.mf.E3.t.wav by 0.98; scale original/Piano.mf.E3.t.wav by 0.99; scale original/Piano.mf.E3.t.wav by 0.99; scale original/Piano.mf.E3.t.wav by 1.00; scale original/Piano.mf.E3.t.wav by 1.01; scale original/Piano.mf.E3.t.wav by 1.01; scale original/Piano.mf.E3.t.wav by 1.02; scale original/Piano.mf.E3.t.wav by 1.02; scale original/Piano.mf.E4.t.wav by 0.97; scale original/Piano.mf.E4.t.wav by 0.98; scale original/Piano.mf.E4.t.wav by 0.98; scale original/Piano.mf.E4.t.wav by 0.99; scale original/Piano.mf.E4.t.wav by 0.99; scale original/Piano.mf.E4.t.wav by 1.00; scale original/Piano.mf.E4.t.wav by 1.01; scale original/Piano.mf.E4.t.wav by 1.01; scale original/Piano.mf.E4.t.wav by 1.02; scale original/Piano.mf.E4.t.wav by 1.02; scale original/Piano.mf.E5.t.wav by 0.97; scale original/Piano.mf.E5.t.wav by 0.98; scale original/Piano.mf.E5.t.wav by 0.98; scale original/Piano.mf.E5.t.wav by 0.99; scale original/Piano.mf.E5.t.wav by 0.99; scale original/Piano.mf.E5.t.wav by 1.00; scale original/Piano.mf.E5.t.wav by 1.01; scale original/Piano.mf.E5.t.wav by 1.01; scale original/Piano.mf.E5.t.wav by 1.02; scale original/Piano.mf.E5.t.wav by 1.02; scale original/Piano.mf.E6.t.wav by 0.97; scale original/Piano.mf.E6.t.wav by 0.98; scale original/Piano.mf.E6.t.wav by 0.98; scale original/Piano.mf.E6.t.wav by 0.99; scale original/Piano.mf.E6.t.wav by 0.99; scale original/Piano.mf.E6.t.wav by 1.00; scale original/Piano.mf.E6.t.wav by 1.01; scale original/Piano.mf.E6.t.wav by 1.01; scale original/Piano.mf.E6.t.wav by 1.02; scale original/Piano.mf.E6.t.wav by 1.02; scale original/Piano.mf.E7.t.wav by 0.97; scale original/Piano.mf.E7.t.wav by 0.98; scale original/Piano.mf.E7.t.wav by 0.98; scale original/Piano.mf.E7.t.wav by 0.99; scale original/Piano.mf.E7.t.wav by 0.99; scale original/Piano.mf.E7.t.wav by 1.00; scale original/Piano.mf.E7.t.wav by 1.01; scale original/Piano.mf.E7.t.wav by 1.01; scale original/Piano.mf.E7.t.wav by 1.02; scale original/Piano.mf.E7.t.wav by 1.02; scale original/Piano.mf.Eb1.t.wav by 0.97; scale original/Piano.mf.Eb1.t.wav by 0.98; scale original/Piano.mf.Eb1.t.wav by 0.98; scale original/Piano.mf.Eb1.t.wav by 0.99; scale original/Piano.mf.Eb1.t.wav by 0.99; scale original/Piano.mf.Eb1.t.wav by 1.00; scale original/Piano.mf.Eb1.t.wav by 1.01; scale original/Piano.mf.Eb1.t.wav by 1.01; scale original/Piano.mf.Eb1.t.wav by 1.02; scale original/Piano.mf.Eb1.t.wav by 1.02; scale original/Piano.mf.Eb2.t.wav by 0.97; scale original/Piano.mf.Eb2.t.wav by 0.98; scale original/Piano.mf.Eb2.t.wav by 0.98; scale original/Piano.mf.Eb2.t.wav by 0.99; scale original/Piano.mf.Eb2.t.wav by 0.99; scale original/Piano.mf.Eb2.t.wav by 1.00; scale original/Piano.mf.Eb2.t.wav by 1.01; scale original/Piano.mf.Eb2.t.wav by 1.01; scale original/Piano.mf.Eb2.t.wav by 1.02; scale original/Piano.mf.Eb2.t.wav by 1.02; scale original/Piano.mf.Eb3.t.wav by 0.97; scale original/Piano.mf.Eb3.t.wav by 0.98; scale original/Piano.mf.Eb3.t.wav by 0.98; scale original/Piano.mf.Eb3.t.wav by 0.99; scale original/Piano.mf.Eb3.t.wav by 0.99; scale original/Piano.mf.Eb3.t.wav by 1.00; scale original/Piano.mf.Eb3.t.wav by 1.01; scale original/Piano.mf.Eb3.t.wav by 1.01; scale original/Piano.mf.Eb3.t.wav by 1.02; scale original/Piano.mf.Eb3.t.wav by 1.02; scale original/Piano.mf.Eb4.t.wav by 0.97; scale original/Piano.mf.Eb4.t.wav by 0.98; scale original/Piano.mf.Eb4.t.wav by 0.98; scale original/Piano.mf.Eb4.t.wav by 0.99; scale original/Piano.mf.Eb4.t.wav by 0.99; scale original/Piano.mf.Eb4.t.wav by 1.00; "
     ]
    },
    {
     "name": "stdout",
     "output_type": "stream",
     "text": [
      "scale original/Piano.mf.Eb4.t.wav by 1.01; scale original/Piano.mf.Eb4.t.wav by 1.01; scale original/Piano.mf.Eb4.t.wav by 1.02; scale original/Piano.mf.Eb4.t.wav by 1.02; scale original/Piano.mf.Eb5.t.wav by 0.97; scale original/Piano.mf.Eb5.t.wav by 0.98; scale original/Piano.mf.Eb5.t.wav by 0.98; scale original/Piano.mf.Eb5.t.wav by 0.99; scale original/Piano.mf.Eb5.t.wav by 0.99; scale original/Piano.mf.Eb5.t.wav by 1.00; scale original/Piano.mf.Eb5.t.wav by 1.01; scale original/Piano.mf.Eb5.t.wav by 1.01; scale original/Piano.mf.Eb5.t.wav by 1.02; scale original/Piano.mf.Eb5.t.wav by 1.02; scale original/Piano.mf.Eb6.t.wav by 0.97; scale original/Piano.mf.Eb6.t.wav by 0.98; scale original/Piano.mf.Eb6.t.wav by 0.98; scale original/Piano.mf.Eb6.t.wav by 0.99; scale original/Piano.mf.Eb6.t.wav by 0.99; scale original/Piano.mf.Eb6.t.wav by 1.00; scale original/Piano.mf.Eb6.t.wav by 1.01; scale original/Piano.mf.Eb6.t.wav by 1.01; scale original/Piano.mf.Eb6.t.wav by 1.02; scale original/Piano.mf.Eb6.t.wav by 1.02; scale original/Piano.mf.Eb7.t.wav by 0.97; scale original/Piano.mf.Eb7.t.wav by 0.98; scale original/Piano.mf.Eb7.t.wav by 0.98; scale original/Piano.mf.Eb7.t.wav by 0.99; scale original/Piano.mf.Eb7.t.wav by 0.99; scale original/Piano.mf.Eb7.t.wav by 1.00; scale original/Piano.mf.Eb7.t.wav by 1.01; scale original/Piano.mf.Eb7.t.wav by 1.01; scale original/Piano.mf.Eb7.t.wav by 1.02; scale original/Piano.mf.Eb7.t.wav by 1.02; scale original/Piano.mf.F1.t.wav by 0.97; scale original/Piano.mf.F1.t.wav by 0.98; scale original/Piano.mf.F1.t.wav by 0.98; scale original/Piano.mf.F1.t.wav by 0.99; scale original/Piano.mf.F1.t.wav by 0.99; scale original/Piano.mf.F1.t.wav by 1.00; scale original/Piano.mf.F1.t.wav by 1.01; scale original/Piano.mf.F1.t.wav by 1.01; scale original/Piano.mf.F1.t.wav by 1.02; scale original/Piano.mf.F1.t.wav by 1.02; scale original/Piano.mf.F2.t.wav by 0.97; scale original/Piano.mf.F2.t.wav by 0.98; scale original/Piano.mf.F2.t.wav by 0.98; scale original/Piano.mf.F2.t.wav by 0.99; scale original/Piano.mf.F2.t.wav by 0.99; scale original/Piano.mf.F2.t.wav by 1.00; scale original/Piano.mf.F2.t.wav by 1.01; scale original/Piano.mf.F2.t.wav by 1.01; scale original/Piano.mf.F2.t.wav by 1.02; scale original/Piano.mf.F2.t.wav by 1.02; scale original/Piano.mf.F3.t.wav by 0.97; scale original/Piano.mf.F3.t.wav by 0.98; scale original/Piano.mf.F3.t.wav by 0.98; scale original/Piano.mf.F3.t.wav by 0.99; scale original/Piano.mf.F3.t.wav by 0.99; scale original/Piano.mf.F3.t.wav by 1.00; scale original/Piano.mf.F3.t.wav by 1.01; scale original/Piano.mf.F3.t.wav by 1.01; scale original/Piano.mf.F3.t.wav by 1.02; scale original/Piano.mf.F3.t.wav by 1.02; scale original/Piano.mf.F4.t.wav by 0.97; scale original/Piano.mf.F4.t.wav by 0.98; scale original/Piano.mf.F4.t.wav by 0.98; scale original/Piano.mf.F4.t.wav by 0.99; scale original/Piano.mf.F4.t.wav by 0.99; scale original/Piano.mf.F4.t.wav by 1.00; scale original/Piano.mf.F4.t.wav by 1.01; scale original/Piano.mf.F4.t.wav by 1.01; scale original/Piano.mf.F4.t.wav by 1.02; scale original/Piano.mf.F4.t.wav by 1.02; scale original/Piano.mf.F5.t.wav by 0.97; scale original/Piano.mf.F5.t.wav by 0.98; scale original/Piano.mf.F5.t.wav by 0.98; scale original/Piano.mf.F5.t.wav by 0.99; scale original/Piano.mf.F5.t.wav by 0.99; scale original/Piano.mf.F5.t.wav by 1.00; scale original/Piano.mf.F5.t.wav by 1.01; scale original/Piano.mf.F5.t.wav by 1.01; scale original/Piano.mf.F5.t.wav by 1.02; scale original/Piano.mf.F5.t.wav by 1.02; scale original/Piano.mf.F6.t.wav by 0.97; scale original/Piano.mf.F6.t.wav by 0.98; scale original/Piano.mf.F6.t.wav by 0.98; scale original/Piano.mf.F6.t.wav by 0.99; scale original/Piano.mf.F6.t.wav by 0.99; scale original/Piano.mf.F6.t.wav by 1.00; scale original/Piano.mf.F6.t.wav by 1.01; scale original/Piano.mf.F6.t.wav by 1.01; scale original/Piano.mf.F6.t.wav by 1.02; scale original/Piano.mf.F6.t.wav by 1.02; scale original/Piano.mf.F7.t.wav by 0.97; scale original/Piano.mf.F7.t.wav by 0.98; scale original/Piano.mf.F7.t.wav by 0.98; scale original/Piano.mf.F7.t.wav by 0.99; scale original/Piano.mf.F7.t.wav by 0.99; scale original/Piano.mf.F7.t.wav by 1.00; scale original/Piano.mf.F7.t.wav by 1.01; scale original/Piano.mf.F7.t.wav by 1.01; scale original/Piano.mf.F7.t.wav by 1.02; scale original/Piano.mf.F7.t.wav by 1.02; scale original/Piano.mf.G1.t.wav by 0.97; scale original/Piano.mf.G1.t.wav by 0.98; scale original/Piano.mf.G1.t.wav by 0.98; scale original/Piano.mf.G1.t.wav by 0.99; scale original/Piano.mf.G1.t.wav by 0.99; scale original/Piano.mf.G1.t.wav by 1.00; scale original/Piano.mf.G1.t.wav by 1.01; scale original/Piano.mf.G1.t.wav by 1.01; scale original/Piano.mf.G1.t.wav by 1.02; scale original/Piano.mf.G1.t.wav by 1.02; scale original/Piano.mf.G2.t.wav by 0.97; scale original/Piano.mf.G2.t.wav by 0.98; scale original/Piano.mf.G2.t.wav by 0.98; scale original/Piano.mf.G2.t.wav by 0.99; scale original/Piano.mf.G2.t.wav by 0.99; scale original/Piano.mf.G2.t.wav by 1.00; scale original/Piano.mf.G2.t.wav by 1.01; scale original/Piano.mf.G2.t.wav by 1.01; scale original/Piano.mf.G2.t.wav by 1.02; scale original/Piano.mf.G2.t.wav by 1.02; scale original/Piano.mf.G3.t.wav by 0.97; scale original/Piano.mf.G3.t.wav by 0.98; scale original/Piano.mf.G3.t.wav by 0.98; scale original/Piano.mf.G3.t.wav by 0.99; scale original/Piano.mf.G3.t.wav by 0.99; scale original/Piano.mf.G3.t.wav by 1.00; scale original/Piano.mf.G3.t.wav by 1.01; scale original/Piano.mf.G3.t.wav by 1.01; scale original/Piano.mf.G3.t.wav by 1.02; scale original/Piano.mf.G3.t.wav by 1.02; scale original/Piano.mf.G4.t.wav by 0.97; scale original/Piano.mf.G4.t.wav by 0.98; scale original/Piano.mf.G4.t.wav by 0.98; scale original/Piano.mf.G4.t.wav by 0.99; scale original/Piano.mf.G4.t.wav by 0.99; scale original/Piano.mf.G4.t.wav by 1.00; scale original/Piano.mf.G4.t.wav by 1.01; scale original/Piano.mf.G4.t.wav by 1.01; scale original/Piano.mf.G4.t.wav by 1.02; scale original/Piano.mf.G4.t.wav by 1.02; scale original/Piano.mf.G5.t.wav by 0.97; scale original/Piano.mf.G5.t.wav by 0.98; scale original/Piano.mf.G5.t.wav by 0.98; scale original/Piano.mf.G5.t.wav by 0.99; scale original/Piano.mf.G5.t.wav by 0.99; scale original/Piano.mf.G5.t.wav by 1.00; scale original/Piano.mf.G5.t.wav by 1.01; scale original/Piano.mf.G5.t.wav by 1.01; scale original/Piano.mf.G5.t.wav by 1.02; scale original/Piano.mf.G5.t.wav by 1.02; scale original/Piano.mf.G6.t.wav by 0.97; scale original/Piano.mf.G6.t.wav by 0.98; scale original/Piano.mf.G6.t.wav by 0.98; scale original/Piano.mf.G6.t.wav by 0.99; scale original/Piano.mf.G6.t.wav by 0.99; scale original/Piano.mf.G6.t.wav by 1.00; scale original/Piano.mf.G6.t.wav by 1.01; scale original/Piano.mf.G6.t.wav by 1.01; scale original/Piano.mf.G6.t.wav by 1.02; scale original/Piano.mf.G6.t.wav by 1.02; scale original/Piano.mf.G7.t.wav by 0.97; scale original/Piano.mf.G7.t.wav by 0.98; scale original/Piano.mf.G7.t.wav by 0.98; scale original/Piano.mf.G7.t.wav by 0.99; scale original/Piano.mf.G7.t.wav by 0.99; scale original/Piano.mf.G7.t.wav by 1.00; scale original/Piano.mf.G7.t.wav by 1.01; scale original/Piano.mf.G7.t.wav by 1.01; scale original/Piano.mf.G7.t.wav by 1.02; scale original/Piano.mf.G7.t.wav by 1.02; scale original/Piano.mf.Gb1.t.wav by 0.97; scale original/Piano.mf.Gb1.t.wav by 0.98; scale original/Piano.mf.Gb1.t.wav by 0.98; scale original/Piano.mf.Gb1.t.wav by 0.99; scale original/Piano.mf.Gb1.t.wav by 0.99; scale original/Piano.mf.Gb1.t.wav by 1.00; scale original/Piano.mf.Gb1.t.wav by 1.01; scale original/Piano.mf.Gb1.t.wav by 1.01; scale original/Piano.mf.Gb1.t.wav by 1.02; scale original/Piano.mf.Gb1.t.wav by 1.02; scale original/Piano.mf.Gb2.t.wav by 0.97; scale original/Piano.mf.Gb2.t.wav by 0.98; scale original/Piano.mf.Gb2.t.wav by 0.98; scale original/Piano.mf.Gb2.t.wav by 0.99; scale original/Piano.mf.Gb2.t.wav by 0.99; scale original/Piano.mf.Gb2.t.wav by 1.00; scale original/Piano.mf.Gb2.t.wav by 1.01; scale original/Piano.mf.Gb2.t.wav by 1.01; scale original/Piano.mf.Gb2.t.wav by 1.02; scale original/Piano.mf.Gb2.t.wav by 1.02; scale original/Piano.mf.Gb3.t.wav by 0.97; scale original/Piano.mf.Gb3.t.wav by 0.98; scale original/Piano.mf.Gb3.t.wav by 0.98; scale original/Piano.mf.Gb3.t.wav by 0.99; scale original/Piano.mf.Gb3.t.wav by 0.99; scale original/Piano.mf.Gb3.t.wav by 1.00; scale original/Piano.mf.Gb3.t.wav by 1.01; scale original/Piano.mf.Gb3.t.wav by 1.01; scale original/Piano.mf.Gb3.t.wav by 1.02; scale original/Piano.mf.Gb3.t.wav by 1.02; scale original/Piano.mf.Gb4.t.wav by 0.97; scale original/Piano.mf.Gb4.t.wav by 0.98; "
     ]
    },
    {
     "name": "stdout",
     "output_type": "stream",
     "text": [
      "scale original/Piano.mf.Gb4.t.wav by 0.98; scale original/Piano.mf.Gb4.t.wav by 0.99; scale original/Piano.mf.Gb4.t.wav by 0.99; scale original/Piano.mf.Gb4.t.wav by 1.00; scale original/Piano.mf.Gb4.t.wav by 1.01; scale original/Piano.mf.Gb4.t.wav by 1.01; scale original/Piano.mf.Gb4.t.wav by 1.02; scale original/Piano.mf.Gb4.t.wav by 1.02; scale original/Piano.mf.Gb5.t.wav by 0.97; scale original/Piano.mf.Gb5.t.wav by 0.98; scale original/Piano.mf.Gb5.t.wav by 0.98; scale original/Piano.mf.Gb5.t.wav by 0.99; scale original/Piano.mf.Gb5.t.wav by 0.99; scale original/Piano.mf.Gb5.t.wav by 1.00; scale original/Piano.mf.Gb5.t.wav by 1.01; scale original/Piano.mf.Gb5.t.wav by 1.01; scale original/Piano.mf.Gb5.t.wav by 1.02; scale original/Piano.mf.Gb5.t.wav by 1.02; scale original/Piano.mf.Gb6.t.wav by 0.97; scale original/Piano.mf.Gb6.t.wav by 0.98; scale original/Piano.mf.Gb6.t.wav by 0.98; scale original/Piano.mf.Gb6.t.wav by 0.99; scale original/Piano.mf.Gb6.t.wav by 0.99; scale original/Piano.mf.Gb6.t.wav by 1.00; scale original/Piano.mf.Gb6.t.wav by 1.01; scale original/Piano.mf.Gb6.t.wav by 1.01; scale original/Piano.mf.Gb6.t.wav by 1.02; scale original/Piano.mf.Gb6.t.wav by 1.02; "
     ]
    },
    {
     "name": "stderr",
     "output_type": "stream",
     "text": [
      "c:\\users\\aucouturier\\appdata\\local\\programs\\python\\python36\\lib\\site-packages\\pandas\\core\\frame.py:7138: FutureWarning: Sorting because non-concatenation axis is not aligned. A future version\n",
      "of pandas will change to not sort by default.\n",
      "\n",
      "To accept the future behavior, pass 'sort=False'.\n",
      "\n",
      "To retain the current behavior and silence the warning, pass 'sort=True'.\n",
      "\n",
      "  sort=sort,\n"
     ]
    }
   ],
   "source": [
    "files = []\n",
    "dynamics = [] \n",
    "pitches = []\n",
    "notes = []\n",
    "shifts = []\n",
    "octaves = []\n",
    "\n",
    "for index, row in sounds.iterrows():\n",
    "        \n",
    "    # read base sound\n",
    "    sound_file = sound_dir+\"/\"+row['file']\n",
    "    \n",
    "    sr, x = wavfile.read(sound_file)\n",
    "    #x, sr = librosa.load(sound_file) #sr=sampling_rate\n",
    "        \n",
    "    # generate pitch shifted versions by [10:90] cents\n",
    "    for cent in np.arange(-50,+50,10):\n",
    "        pitch_scale_factor = np.power(2,cent/1200) # pitch factor 2^(n/1200)\n",
    "        print(\"scale %s by %.2f; \"%(row['file'],pitch_scale_factor), end ='')\n",
    "        #transformed, times, f0s = vmo.pitch_scaling_snm(np.array(x), sr, sps= pitch_scale_factor)\n",
    "        transformed = vmo.pitch_scaling_doubledelay(np.array(x), sr, sps= pitch_scale_factor)\n",
    "        \n",
    "        output_file = os.path.splitext(os.path.basename(row['file']))[0] + \".shift%+d.wav\"%cent\n",
    "        wavfile.write(sound_dir + \"/transformed/\" + output_file, sr, transformed)\n",
    "    \n",
    "        files.append('transformed/'+output_file)\n",
    "        dynamics.append(row['dynamics'])\n",
    "        notes.append(row['note'])\n",
    "        octaves.append(row['octave'])\n",
    "        pitches.append(row['pitch']*pitch_scale_factor)\n",
    "        shifts.append(cent)\n",
    "        \n",
    "\n",
    "# save in a file        \n",
    "sounds = pd.read_csv('../experiment/sounds/list.csv') \n",
    "\n",
    "# mark base sounds as original\n",
    "sounds['origin'] = 'original'\n",
    "sounds['shift'] = 0\n",
    "\n",
    "new_sounds = pd.DataFrame({\"file\":files,\n",
    "                      \"note\":notes,\n",
    "                      \"dynamics\":dynamics,\n",
    "                           \"octave\":octaves,\n",
    "                      \"pitch\":pitches, \n",
    "                          'shift':shifts})\n",
    "new_sounds['origin'] = 'transformed'\n",
    "sounds = sounds.append(new_sounds)"
   ]
  },
  {
   "cell_type": "code",
   "execution_count": 13,
   "metadata": {
    "ExecuteTime": {
     "end_time": "2021-05-06T05:51:01.190704Z",
     "start_time": "2021-05-06T05:51:01.186714Z"
    }
   },
   "outputs": [
    {
     "name": "stdout",
     "output_type": "stream",
     "text": [
      "44100\n"
     ]
    }
   ],
   "source": [
    "sr, x = wavfile.read(sound_dir+\"transformed/\"+\"Piano.mf.A1.t.shift+0.wav\")\n",
    "print(sr)"
   ]
  },
  {
   "cell_type": "code",
   "execution_count": 14,
   "metadata": {
    "ExecuteTime": {
     "end_time": "2021-05-06T05:53:52.554065Z",
     "start_time": "2021-05-06T05:53:52.540101Z"
    }
   },
   "outputs": [],
   "source": [
    "sounds.to_csv('../experiment/sounds/list.csv')"
   ]
  }
 ],
 "metadata": {
  "kernelspec": {
   "display_name": "Python 3",
   "language": "python",
   "name": "python3"
  },
  "language_info": {
   "codemirror_mode": {
    "name": "ipython",
    "version": 3
   },
   "file_extension": ".py",
   "mimetype": "text/x-python",
   "name": "python",
   "nbconvert_exporter": "python",
   "pygments_lexer": "ipython3",
   "version": "3.6.8"
  },
  "toc": {
   "base_numbering": 1,
   "nav_menu": {},
   "number_sections": true,
   "sideBar": true,
   "skip_h1_title": true,
   "title_cell": "Table of Contents",
   "title_sidebar": "Contents",
   "toc_cell": false,
   "toc_position": {},
   "toc_section_display": true,
   "toc_window_display": true
  }
 },
 "nbformat": 4,
 "nbformat_minor": 4
}
