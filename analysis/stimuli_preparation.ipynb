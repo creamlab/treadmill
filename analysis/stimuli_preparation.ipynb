{
 "cells": [
  {
   "cell_type": "code",
   "execution_count": 1,
   "metadata": {
    "ExecuteTime": {
     "end_time": "2021-04-27T13:52:30.329020Z",
     "start_time": "2021-04-27T13:52:30.326028Z"
    }
   },
   "outputs": [],
   "source": [
    "import glob, os"
   ]
  },
  {
   "cell_type": "markdown",
   "metadata": {},
   "source": [
    "# Sound stimuli preparation \n",
    "Treadmill experiment &copy; Quentin Decultot, JJ Aucouturier, 2021"
   ]
  },
  {
   "cell_type": "code",
   "execution_count": 2,
   "metadata": {
    "ExecuteTime": {
     "end_time": "2021-04-27T13:52:31.126630Z",
     "start_time": "2021-04-27T13:52:31.122640Z"
    }
   },
   "outputs": [],
   "source": [
    "sound_dir = \"../experiment/sounds/piano\""
   ]
  },
  {
   "cell_type": "markdown",
   "metadata": {},
   "source": [
    "## Sound file conversion"
   ]
  },
  {
   "cell_type": "markdown",
   "metadata": {},
   "source": [
    "Only select mf files, and convert from aiff to wav"
   ]
  },
  {
   "cell_type": "code",
   "execution_count": 9,
   "metadata": {
    "ExecuteTime": {
     "end_time": "2021-04-27T14:02:57.454974Z",
     "start_time": "2021-04-27T14:02:51.731284Z"
    },
    "scrolled": true
   },
   "outputs": [
    {
     "name": "stdout",
     "output_type": "stream",
     "text": [
      "Piano.mf.A1.wav,Piano.mf.A2.wav,Piano.mf.A3.wav,Piano.mf.A4.wav,Piano.mf.A5.wav,Piano.mf.A6.wav,Piano.mf.A7.wav,Piano.mf.Ab1.wav,Piano.mf.Ab2.wav,Piano.mf.Ab3.wav,Piano.mf.Ab4.wav,Piano.mf.Ab5.wav,Piano.mf.Ab6.wav,Piano.mf.Ab7.wav,Piano.mf.B0.wav,Piano.mf.B1.wav,Piano.mf.B2.wav,Piano.mf.B3.wav,Piano.mf.B4.wav,Piano.mf.B5.wav,Piano.mf.B6.wav,Piano.mf.B7.wav,Piano.mf.Bb1.wav,Piano.mf.Bb2.wav,Piano.mf.Bb3.wav,Piano.mf.Bb4.wav,Piano.mf.Bb5.wav,Piano.mf.Bb6.wav,Piano.mf.Bb7.wav,Piano.mf.C1.wav,Piano.mf.C2.wav,Piano.mf.C3.wav,Piano.mf.C4.wav,Piano.mf.C5.wav,Piano.mf.C6.wav,Piano.mf.C7.wav,Piano.mf.C8.wav,Piano.mf.D1.wav,Piano.mf.D2.wav,Piano.mf.D3.wav,Piano.mf.D4.wav,Piano.mf.D5.wav,Piano.mf.D6.wav,Piano.mf.D7.wav,Piano.mf.Db1.wav,Piano.mf.Db2.wav,Piano.mf.Db3.wav,Piano.mf.Db4.wav,Piano.mf.Db5.wav,Piano.mf.Db6.wav,Piano.mf.Db7.wav,Piano.mf.E1.wav,Piano.mf.E2.wav,Piano.mf.E3.wav,Piano.mf.E4.wav,Piano.mf.E5.wav,Piano.mf.E6.wav,Piano.mf.E7.wav,Piano.mf.Eb1.wav,Piano.mf.Eb2.wav,Piano.mf.Eb3.wav,Piano.mf.Eb4.wav,Piano.mf.Eb5.wav,Piano.mf.Eb6.wav,Piano.mf.Eb7.wav,Piano.mf.F1.wav,Piano.mf.F2.wav,Piano.mf.F3.wav,Piano.mf.F4.wav,Piano.mf.F5.wav,Piano.mf.F6.wav,Piano.mf.F7.wav,Piano.mf.G1.wav,Piano.mf.G2.wav,Piano.mf.G3.wav,Piano.mf.G4.wav,Piano.mf.G5.wav,Piano.mf.G6.wav,Piano.mf.G7.wav,Piano.mf.Gb1.wav,Piano.mf.Gb2.wav,Piano.mf.Gb3.wav,Piano.mf.Gb4.wav,Piano.mf.Gb5.wav,Piano.mf.Gb6.wav,"
     ]
    }
   ],
   "source": [
    "# convert aiff to wav files\n",
    "for input_file in glob.glob(sound_dir+\"/Piano.mf.*.aiff\"):\n",
    "    output_file = os.path.splitext(input_file)[0] +'.wav'\n",
    "    print(os.path.basename(output_file)+',', end='')\n",
    "    convert_cmd = \"ffmpeg -i \" + input_file + \" -acodec pcm_s16le -ar 44100 \" + output_file\n",
    "    os.system(convert_cmd)"
   ]
  },
  {
   "cell_type": "markdown",
   "metadata": {},
   "source": [
    "## Trim silence and normalize"
   ]
  },
  {
   "cell_type": "markdown",
   "metadata": {},
   "source": [
    "Cut leading silence"
   ]
  },
  {
   "cell_type": "code",
   "execution_count": 10,
   "metadata": {
    "ExecuteTime": {
     "end_time": "2021-04-27T14:03:20.357930Z",
     "start_time": "2021-04-27T14:03:06.204571Z"
    }
   },
   "outputs": [
    {
     "name": "stdout",
     "output_type": "stream",
     "text": [
      "Piano.mf.A1.t.wav,Piano.mf.A2.t.wav,Piano.mf.A3.t.wav,Piano.mf.A4.t.wav,Piano.mf.A5.t.wav,Piano.mf.A6.t.wav,Piano.mf.A7.t.wav,Piano.mf.Ab1.t.wav,Piano.mf.Ab2.t.wav,Piano.mf.Ab3.t.wav,Piano.mf.Ab4.t.wav,Piano.mf.Ab5.t.wav,Piano.mf.Ab6.t.wav,Piano.mf.Ab7.t.wav,Piano.mf.B0.t.wav,Piano.mf.B1.t.wav,Piano.mf.B2.t.wav,Piano.mf.B3.t.wav,Piano.mf.B4.t.wav,Piano.mf.B5.t.wav,Piano.mf.B6.t.wav,Piano.mf.B7.t.wav,Piano.mf.Bb1.t.wav,Piano.mf.Bb2.t.wav,Piano.mf.Bb3.t.wav,Piano.mf.Bb4.t.wav,Piano.mf.Bb5.t.wav,Piano.mf.Bb6.t.wav,Piano.mf.Bb7.t.wav,Piano.mf.C1.t.wav,Piano.mf.C2.t.wav,Piano.mf.C3.t.wav,Piano.mf.C4.t.wav,Piano.mf.C5.t.wav,Piano.mf.C6.t.wav,Piano.mf.C7.t.wav,Piano.mf.C8.t.wav,Piano.mf.D1.t.wav,Piano.mf.D2.t.wav,Piano.mf.D3.t.wav,Piano.mf.D4.t.wav,Piano.mf.D5.t.wav,Piano.mf.D6.t.wav,Piano.mf.D7.t.wav,Piano.mf.Db1.t.wav,Piano.mf.Db2.t.wav,Piano.mf.Db3.t.wav,Piano.mf.Db4.t.wav,Piano.mf.Db5.t.wav,Piano.mf.Db6.t.wav,Piano.mf.Db7.t.wav,Piano.mf.E1.t.wav,Piano.mf.E2.t.wav,Piano.mf.E3.t.wav,Piano.mf.E4.t.wav,Piano.mf.E5.t.wav,Piano.mf.E6.t.wav,Piano.mf.E7.t.wav,Piano.mf.Eb1.t.wav,Piano.mf.Eb2.t.wav,Piano.mf.Eb3.t.wav,Piano.mf.Eb4.t.wav,Piano.mf.Eb5.t.wav,Piano.mf.Eb6.t.wav,Piano.mf.Eb7.t.wav,Piano.mf.F1.t.wav,Piano.mf.F2.t.wav,Piano.mf.F3.t.wav,Piano.mf.F4.t.wav,Piano.mf.F5.t.wav,Piano.mf.F6.t.wav,Piano.mf.F7.t.wav,Piano.mf.G1.t.wav,Piano.mf.G2.t.wav,Piano.mf.G3.t.wav,Piano.mf.G4.t.wav,Piano.mf.G5.t.wav,Piano.mf.G6.t.wav,Piano.mf.G7.t.wav,Piano.mf.Gb1.t.wav,Piano.mf.Gb2.t.wav,Piano.mf.Gb3.t.wav,Piano.mf.Gb4.t.wav,Piano.mf.Gb5.t.wav,Piano.mf.Gb6.t.wav,"
     ]
    }
   ],
   "source": [
    "for input_file in glob.glob(sound_dir+\"/*.wav\"):\n",
    "    \n",
    "    output_file = os.path.splitext(input_file)[0] +'.t.wav'\n",
    "    trim_cmd = \"ffmpeg -i \" + input_file + \" -af loudnorm,aformat=s16,silenceremove=start_periods=1:start_silence=0.05:start_threshold=-30dB,afade=out:st=1.25:d=0.25,afade=in:st=0:d=0.05 -to 1.5 \" + output_file\n",
    "    os.system(trim_cmd)\n",
    "    print(os.path.basename(output_file)+',', end='')\n"
   ]
  },
  {
   "cell_type": "code",
   "execution_count": null,
   "metadata": {
    "ExecuteTime": {
     "start_time": "2021-04-27T14:03:42.921Z"
    }
   },
   "outputs": [
    {
     "name": "stdout",
     "output_type": "stream",
     "text": [
      "Piano.mf.A1.t.n.wav,Piano.mf.A1.n.wav,Piano.mf.A2.t.n.wav,Piano.mf.A2.n.wav,Piano.mf.A3.t.n.wav,Piano.mf.A3.n.wav,Piano.mf.A4.t.n.wav,Piano.mf.A4.n.wav,Piano.mf.A5.t.n.wav,Piano.mf.A5.n.wav,Piano.mf.A6.t.n.wav,Piano.mf.A6.n.wav,Piano.mf.A7.t.n.wav,Piano.mf.A7.n.wav,Piano.mf.Ab1.t.n.wav,Piano.mf.Ab1.n.wav,Piano.mf.Ab2.t.n.wav,Piano.mf.Ab2.n.wav,Piano.mf.Ab3.t.n.wav,Piano.mf.Ab3.n.wav,Piano.mf.Ab4.t.n.wav,Piano.mf.Ab4.n.wav,Piano.mf.Ab5.t.n.wav,Piano.mf.Ab5.n.wav,Piano.mf.Ab6.t.n.wav,Piano.mf.Ab6.n.wav,Piano.mf.Ab7.t.n.wav,Piano.mf.Ab7.n.wav,Piano.mf.B0.t.n.wav,Piano.mf.B0.n.wav,Piano.mf.B1.t.n.wav,Piano.mf.B1.n.wav,Piano.mf.B2.t.n.wav,Piano.mf.B2.n.wav,Piano.mf.B3.t.n.wav,Piano.mf.B3.n.wav,Piano.mf.B4.t.n.wav,Piano.mf.B4.n.wav,Piano.mf.B5.t.n.wav,Piano.mf.B5.n.wav,Piano.mf.B6.t.n.wav,Piano.mf.B6.n.wav,Piano.mf.B7.t.n.wav,Piano.mf.B7.n.wav,Piano.mf.Bb1.t.n.wav,Piano.mf.Bb1.n.wav,Piano.mf.Bb2.t.n.wav,Piano.mf.Bb2.n.wav,Piano.mf.Bb3.t.n.wav,Piano.mf.Bb3.n.wav,Piano.mf.Bb4.t.n.wav,Piano.mf.Bb4.n.wav,Piano.mf.Bb5.t.n.wav,Piano.mf.Bb5.n.wav,Piano.mf.Bb6.t.n.wav,Piano.mf.Bb6.n.wav,Piano.mf.Bb7.t.n.wav,Piano.mf.Bb7.n.wav,Piano.mf.C1.t.n.wav,Piano.mf.C1.n.wav,Piano.mf.C2.t.n.wav,Piano.mf.C2.n.wav,Piano.mf.C3.t.n.wav,Piano.mf.C3.n.wav,Piano.mf.C4.t.n.wav,Piano.mf.C4.n.wav,Piano.mf.C5.t.n.wav,Piano.mf.C5.n.wav,Piano.mf.C6.t.n.wav,Piano.mf.C6.n.wav,Piano.mf.C7.t.n.wav,Piano.mf.C7.n.wav,Piano.mf.C8.t.n.wav,Piano.mf.C8.n.wav,Piano.mf.D1.t.n.wav,Piano.mf.D1.n.wav,Piano.mf.D2.t.n.wav,Piano.mf.D2.n.wav,Piano.mf.D3.t.n.wav,Piano.mf.D3.n.wav,Piano.mf.D4.t.n.wav,Piano.mf.D4.n.wav,Piano.mf.D5.t.n.wav,Piano.mf.D5.n.wav,Piano.mf.D6.t.n.wav,Piano.mf.D6.n.wav,Piano.mf.D7.t.n.wav,Piano.mf.D7.n.wav,Piano.mf.Db1.t.n.wav,Piano.mf.Db1.n.wav,Piano.mf.Db2.t.n.wav,Piano.mf.Db2.n.wav,Piano.mf.Db3.t.n.wav,Piano.mf.Db3.n.wav,Piano.mf.Db4.t.n.wav,Piano.mf.Db4.n.wav,Piano.mf.Db5.t.n.wav,Piano.mf.Db5.n.wav,Piano.mf.Db6.t.n.wav,Piano.mf.Db6.n.wav,Piano.mf.Db7.t.n.wav,Piano.mf.Db7.n.wav,Piano.mf.E1.t.n.wav,Piano.mf.E1.n.wav,Piano.mf.E2.t.n.wav,Piano.mf.E2.n.wav,Piano.mf.E3.t.n.wav,Piano.mf.E3.n.wav,Piano.mf.E4.t.n.wav,Piano.mf.E4.n.wav,Piano.mf.E5.t.n.wav,Piano.mf.E5.n.wav,Piano.mf.E6.t.n.wav,Piano.mf.E6.n.wav,Piano.mf.E7.t.n.wav,Piano.mf.E7.n.wav,Piano.mf.Eb1.t.n.wav,Piano.mf.Eb1.n.wav,Piano.mf.Eb2.t.n.wav,Piano.mf.Eb2.n.wav,Piano.mf.Eb3.t.n.wav,"
     ]
    }
   ],
   "source": [
    "# for input_file in glob.glob(sound_dir+\"/*.wav\"):\n",
    "    \n",
    "    output_file = os.path.splitext(input_file)[0] +'.n.wav'\n",
    "    normalize_cmd = \"ffmpeg-normalize \"+ input_file +\" -o \"+output_file + \" -ar 44100\"\n",
    "    os.system(normalize_cmd)\n",
    "    print(os.path.basename(output_file)+',', end='')"
   ]
  }
 ],
 "metadata": {
  "kernelspec": {
   "display_name": "Python 3",
   "language": "python",
   "name": "python3"
  },
  "language_info": {
   "codemirror_mode": {
    "name": "ipython",
    "version": 3
   },
   "file_extension": ".py",
   "mimetype": "text/x-python",
   "name": "python",
   "nbconvert_exporter": "python",
   "pygments_lexer": "ipython3",
   "version": "3.6.8"
  },
  "toc": {
   "base_numbering": 1,
   "nav_menu": {},
   "number_sections": true,
   "sideBar": true,
   "skip_h1_title": true,
   "title_cell": "Table of Contents",
   "title_sidebar": "Contents",
   "toc_cell": false,
   "toc_position": {},
   "toc_section_display": true,
   "toc_window_display": true
  }
 },
 "nbformat": 4,
 "nbformat_minor": 4
}
