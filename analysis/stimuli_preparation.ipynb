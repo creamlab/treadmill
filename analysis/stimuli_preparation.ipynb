{
 "cells": [
  {
   "cell_type": "code",
   "execution_count": 99,
   "metadata": {
    "ExecuteTime": {
     "end_time": "2021-05-01T12:17:20.776071Z",
     "start_time": "2021-05-01T12:17:20.771084Z"
    }
   },
   "outputs": [],
   "source": [
    "import glob, os\n",
    "import numpy as np\n",
    "import pysptk\n",
    "import librosa\n",
    "import time\n",
    "import pandas as pd\n",
    "import sys\n",
    "from scipy.io import wavfile"
   ]
  },
  {
   "cell_type": "markdown",
   "metadata": {},
   "source": [
    "# Sound stimuli preparation \n",
    "Treadmill experiment &copy; Quentin Decultot, JJ Aucouturier, 2021"
   ]
  },
  {
   "cell_type": "code",
   "execution_count": 100,
   "metadata": {
    "ExecuteTime": {
     "end_time": "2021-05-01T12:17:21.609586Z",
     "start_time": "2021-05-01T12:17:21.605596Z"
    }
   },
   "outputs": [],
   "source": [
    "sound_dir = \"../experiment/sounds/\""
   ]
  },
  {
   "cell_type": "markdown",
   "metadata": {},
   "source": [
    "## Sound file conversion"
   ]
  },
  {
   "cell_type": "markdown",
   "metadata": {},
   "source": [
    "Only select mf files, and convert from aiff to wav"
   ]
  },
  {
   "cell_type": "code",
   "execution_count": 101,
   "metadata": {
    "ExecuteTime": {
     "end_time": "2021-05-01T12:17:45.156502Z",
     "start_time": "2021-05-01T12:17:30.817000Z"
    },
    "scrolled": true
   },
   "outputs": [
    {
     "name": "stdout",
     "output_type": "stream",
     "text": [
      "Piano.mf.A1.wav,Piano.mf.A2.wav,Piano.mf.A3.wav,Piano.mf.A4.wav,Piano.mf.A5.wav,Piano.mf.A6.wav,Piano.mf.A7.wav,Piano.mf.Ab1.wav,Piano.mf.Ab2.wav,Piano.mf.Ab3.wav,Piano.mf.Ab4.wav,Piano.mf.Ab5.wav,Piano.mf.Ab6.wav,Piano.mf.Ab7.wav,Piano.mf.B0.wav,Piano.mf.B1.wav,Piano.mf.B2.wav,Piano.mf.B3.wav,Piano.mf.B4.wav,Piano.mf.B5.wav,Piano.mf.B6.wav,Piano.mf.B7.wav,Piano.mf.Bb1.wav,Piano.mf.Bb2.wav,Piano.mf.Bb3.wav,Piano.mf.Bb4.wav,Piano.mf.Bb5.wav,Piano.mf.Bb6.wav,Piano.mf.Bb7.wav,Piano.mf.C1.wav,Piano.mf.C2.wav,Piano.mf.C3.wav,Piano.mf.C4.wav,Piano.mf.C5.wav,Piano.mf.C6.wav,Piano.mf.C7.wav,Piano.mf.C8.wav,Piano.mf.D1.wav,Piano.mf.D2.wav,Piano.mf.D3.wav,Piano.mf.D4.wav,Piano.mf.D5.wav,Piano.mf.D6.wav,Piano.mf.D7.wav,Piano.mf.Db1.wav,Piano.mf.Db2.wav,Piano.mf.Db3.wav,Piano.mf.Db4.wav,Piano.mf.Db5.wav,Piano.mf.Db6.wav,Piano.mf.Db7.wav,Piano.mf.E1.wav,Piano.mf.E2.wav,Piano.mf.E3.wav,Piano.mf.E4.wav,Piano.mf.E5.wav,Piano.mf.E6.wav,Piano.mf.E7.wav,Piano.mf.Eb1.wav,Piano.mf.Eb2.wav,Piano.mf.Eb3.wav,Piano.mf.Eb4.wav,Piano.mf.Eb5.wav,Piano.mf.Eb6.wav,Piano.mf.Eb7.wav,Piano.mf.F1.wav,Piano.mf.F2.wav,Piano.mf.F3.wav,Piano.mf.F4.wav,Piano.mf.F5.wav,Piano.mf.F6.wav,Piano.mf.F7.wav,Piano.mf.G1.wav,Piano.mf.G2.wav,Piano.mf.G3.wav,Piano.mf.G4.wav,Piano.mf.G5.wav,Piano.mf.G6.wav,Piano.mf.G7.wav,Piano.mf.Gb1.wav,Piano.mf.Gb2.wav,Piano.mf.Gb3.wav,Piano.mf.Gb4.wav,Piano.mf.Gb5.wav,Piano.mf.Gb6.wav,"
     ]
    }
   ],
   "source": [
    "# convert aiff to wav files\n",
    "for input_file in glob.glob(sound_dir+\"piano/Piano.mf.*.aiff\"):\n",
    "    output_file = os.path.splitext(input_file)[0] +'.wav'\n",
    "    print(os.path.basename(output_file)+',', end='')\n",
    "    convert_cmd = \"ffmpeg -i \" + input_file + \" -acodec pcm_s16le -ar 44100 \" + output_file\n",
    "    os.system(convert_cmd)"
   ]
  },
  {
   "cell_type": "markdown",
   "metadata": {},
   "source": [
    "## Trim silence and normalize"
   ]
  },
  {
   "cell_type": "markdown",
   "metadata": {},
   "source": [
    "Cut leading silence"
   ]
  },
  {
   "cell_type": "code",
   "execution_count": 102,
   "metadata": {
    "ExecuteTime": {
     "end_time": "2021-05-01T12:18:35.462130Z",
     "start_time": "2021-05-01T12:17:54.617309Z"
    }
   },
   "outputs": [
    {
     "name": "stdout",
     "output_type": "stream",
     "text": [
      "Piano.mf.A1.t.wav,Piano.mf.A2.t.wav,Piano.mf.A3.t.wav,Piano.mf.A4.t.wav,Piano.mf.A5.t.wav,Piano.mf.A6.t.wav,Piano.mf.A7.t.wav,Piano.mf.Ab1.t.wav,Piano.mf.Ab2.t.wav,Piano.mf.Ab3.t.wav,Piano.mf.Ab4.t.wav,Piano.mf.Ab5.t.wav,Piano.mf.Ab6.t.wav,Piano.mf.Ab7.t.wav,Piano.mf.B0.t.wav,Piano.mf.B1.t.wav,Piano.mf.B2.t.wav,Piano.mf.B3.t.wav,Piano.mf.B4.t.wav,Piano.mf.B5.t.wav,Piano.mf.B6.t.wav,Piano.mf.B7.t.wav,Piano.mf.Bb1.t.wav,Piano.mf.Bb2.t.wav,Piano.mf.Bb3.t.wav,Piano.mf.Bb4.t.wav,Piano.mf.Bb5.t.wav,Piano.mf.Bb6.t.wav,Piano.mf.Bb7.t.wav,Piano.mf.C1.t.wav,Piano.mf.C2.t.wav,Piano.mf.C3.t.wav,Piano.mf.C4.t.wav,Piano.mf.C5.t.wav,Piano.mf.C6.t.wav,Piano.mf.C7.t.wav,Piano.mf.C8.t.wav,Piano.mf.D1.t.wav,Piano.mf.D2.t.wav,Piano.mf.D3.t.wav,Piano.mf.D4.t.wav,Piano.mf.D5.t.wav,Piano.mf.D6.t.wav,Piano.mf.D7.t.wav,Piano.mf.Db1.t.wav,Piano.mf.Db2.t.wav,Piano.mf.Db3.t.wav,Piano.mf.Db4.t.wav,Piano.mf.Db5.t.wav,Piano.mf.Db6.t.wav,Piano.mf.Db7.t.wav,Piano.mf.E1.t.wav,Piano.mf.E2.t.wav,Piano.mf.E3.t.wav,Piano.mf.E4.t.wav,Piano.mf.E5.t.wav,Piano.mf.E6.t.wav,Piano.mf.E7.t.wav,Piano.mf.Eb1.t.wav,Piano.mf.Eb2.t.wav,Piano.mf.Eb3.t.wav,Piano.mf.Eb4.t.wav,Piano.mf.Eb5.t.wav,Piano.mf.Eb6.t.wav,Piano.mf.Eb7.t.wav,Piano.mf.F1.t.wav,Piano.mf.F2.t.wav,Piano.mf.F3.t.wav,Piano.mf.F4.t.wav,Piano.mf.F5.t.wav,Piano.mf.F6.t.wav,Piano.mf.F7.t.wav,Piano.mf.G1.t.wav,Piano.mf.G2.t.wav,Piano.mf.G3.t.wav,Piano.mf.G4.t.wav,Piano.mf.G5.t.wav,Piano.mf.G6.t.wav,Piano.mf.G7.t.wav,Piano.mf.Gb1.t.wav,Piano.mf.Gb2.t.wav,Piano.mf.Gb3.t.wav,Piano.mf.Gb4.t.wav,Piano.mf.Gb5.t.wav,Piano.mf.Gb6.t.wav,"
     ]
    }
   ],
   "source": [
    "duration = 1.5\n",
    "fade_duration = 0.05\n",
    "\n",
    "for input_file in glob.glob(sound_dir+\"piano/*.wav\"):\n",
    "    \n",
    "    output_file = \"../original/\"+os.path.splitext(input_file)[0] +'.t.wav'\n",
    "    trim_cmd = \"ffmpeg -i \" + input_file + (\" -af loudnorm,\"\n",
    "                                            \"aformat=s16,\"\n",
    "                                            \"silenceremove=start_periods=1:start_silence=0.05:start_threshold=-30dB,\"\n",
    "                                            \"afade=out:st=%f:d=%f,\"\n",
    "                                            \"afade=in:st=0:d=%f \"\n",
    "                                            \"-to %f \")%(duration-fade_duration,\n",
    "                                                        fade_duration, \n",
    "                                                        fade_duration, \n",
    "                                                        duration) + output_file\n",
    "    os.system(trim_cmd)\n",
    "    print(os.path.basename(output_file)+',', end='')\n"
   ]
  },
  {
   "cell_type": "markdown",
   "metadata": {},
   "source": [
    "## Compute pitch and list in a file"
   ]
  },
  {
   "cell_type": "code",
   "execution_count": 103,
   "metadata": {
    "ExecuteTime": {
     "end_time": "2021-05-01T12:18:38.628890Z",
     "start_time": "2021-05-01T12:18:38.620912Z"
    }
   },
   "outputs": [],
   "source": [
    "PITCH_WIN = .01\n",
    "PITCH_BOUNDS = [20,4200] # minimum maximum freq on piano\n",
    "\n",
    "def compute_swipe_pitch(sound_file):\n",
    "    \"\"\"Computes a time series of pitch values using the SWIPE algorithm\n",
    "    Pitch is computed on successive windows (PITCH_WIN, in sec.), \n",
    "    and returns an array of pitch values (in Hz) and array of window time positions (in ms).\n",
    "    PITCH_BOUNDS = [min_f0,max_f0] in which the pitch should be searched.\n",
    "    Pitch on windows where pitch is undefined is set as np.nan\n",
    "    \"\"\"\n",
    "    x, sr = librosa.load(sound_file) #sr=sampling_rate\n",
    "    hop_size = np.floor(sr * PITCH_WIN)\n",
    "    min_f0, max_f0 = PITCH_BOUNDS\n",
    "    pitch = np.array(pysptk.swipe(x.astype(np.float64),\n",
    "                         fs=sr,\n",
    "                         hopsize=hop_size,\n",
    "                         min=min_f0,\n",
    "                         max=max_f0,\n",
    "                         otype=1))\n",
    "    \n",
    "    # pitch on windows where pitch is undefined (ex. non-voiced) is returned as 0\n",
    "    # replace these values by np.nan\n",
    "    pitch[np.where(pitch == 0)] = np.nan\n",
    "    \n",
    "    # times at which pitch is computed \n",
    "    times = 1000*np.arange(len(pitch))*hop_size/sr\n",
    "    \n",
    "    return pitch, times\n"
   ]
  },
  {
   "cell_type": "code",
   "execution_count": 105,
   "metadata": {
    "ExecuteTime": {
     "end_time": "2021-05-01T12:21:26.123157Z",
     "start_time": "2021-05-01T12:19:01.308985Z"
    }
   },
   "outputs": [
    {
     "name": "stdout",
     "output_type": "stream",
     "text": [
      "pitch Piano.mf.A1.t.wav: 55.4 Hz, pitch Piano.mf.A2.t.wav: 110.4 Hz, pitch Piano.mf.A3.t.wav: 221.0 Hz, pitch Piano.mf.A4.t.wav: 443.3 Hz, pitch Piano.mf.A5.t.wav: 897.0 Hz, pitch Piano.mf.A6.t.wav: 1833.2 Hz, pitch Piano.mf.A7.t.wav: 1716.4 Hz, pitch Piano.mf.Ab1.t.wav: 52.1 Hz, pitch Piano.mf.Ab2.t.wav: 104.2 Hz, pitch Piano.mf.Ab3.t.wav: 209.2 Hz, pitch Piano.mf.Ab4.t.wav: 419.5 Hz, pitch Piano.mf.Ab5.t.wav: 852.0 Hz, pitch Piano.mf.Ab6.t.wav: 1730.4 Hz, pitch Piano.mf.Ab7.t.wav: 2902.2 Hz, pitch Piano.mf.B0.t.wav: 31.0 Hz, pitch Piano.mf.B1.t.wav: 62.0 Hz, pitch Piano.mf.B2.t.wav: 124.0 Hz, pitch Piano.mf.B3.t.wav: 248.8 Hz, pitch Piano.mf.B4.t.wav: 502.5 Hz, pitch Piano.mf.B5.t.wav: 1023.3 Hz, pitch Piano.mf.B6.t.wav: 2097.1 Hz, pitch Piano.mf.B7.t.wav: 1388.3 Hz, pitch Piano.mf.Bb1.t.wav: 58.4 Hz, pitch Piano.mf.Bb2.t.wav: 117.0 Hz, pitch Piano.mf.Bb3.t.wav: 235.2 Hz, pitch Piano.mf.Bb4.t.wav: 471.7 Hz, pitch Piano.mf.Bb5.t.wav: 955.5 Hz, pitch Piano.mf.Bb6.t.wav: 1963.4 Hz, pitch Piano.mf.Bb7.t.wav: 2246.5 Hz, pitch Piano.mf.C1.t.wav: 32.8 Hz, pitch Piano.mf.C2.t.wav: 65.7 Hz, pitch Piano.mf.C3.t.wav: 131.4 Hz, pitch Piano.mf.C4.t.wav: 263.3 Hz, pitch Piano.mf.C5.t.wav: 529.0 Hz, pitch Piano.mf.C6.t.wav: 1068.6 Hz, pitch Piano.mf.C7.t.wav: 2191.9 Hz, pitch Piano.mf.C8.t.wav: 1377.1 Hz, pitch Piano.mf.D1.t.wav: 36.8 Hz, pitch Piano.mf.D2.t.wav: 73.7 Hz, pitch Piano.mf.D3.t.wav: 147.7 Hz, pitch Piano.mf.D4.t.wav: 295.6 Hz, pitch Piano.mf.D5.t.wav: 596.5 Hz, pitch Piano.mf.D6.t.wav: 1204.9 Hz, pitch Piano.mf.D7.t.wav: 2513.1 Hz, pitch Piano.mf.Db1.t.wav: 34.7 Hz, pitch Piano.mf.Db2.t.wav: 69.7 Hz, pitch Piano.mf.Db3.t.wav: 139.7 Hz, pitch Piano.mf.Db4.t.wav: 280.0 Hz, pitch Piano.mf.Db5.t.wav: 562.0 Hz, pitch Piano.mf.Db6.t.wav: 1135.2 Hz, pitch Piano.mf.Db7.t.wav: 2343.3 Hz, pitch Piano.mf.E1.t.wav: 41.2 Hz, pitch Piano.mf.E2.t.wav: 83.1 Hz, pitch Piano.mf.E3.t.wav: 166.2 Hz, pitch Piano.mf.E4.t.wav: 332.4 Hz, pitch Piano.mf.E5.t.wav: 669.6 Hz, pitch Piano.mf.E6.t.wav: 1354.9 Hz, pitch Piano.mf.E7.t.wav: 2744.3 Hz, pitch Piano.mf.Eb1.t.wav: 39.1 Hz, pitch Piano.mf.Eb2.t.wav: 78.4 Hz, pitch Piano.mf.Eb3.t.wav: 156.4 Hz, pitch Piano.mf.Eb4.t.wav: 313.1 Hz, pitch Piano.mf.Eb5.t.wav: 629.7 Hz, pitch Piano.mf.Eb6.t.wav: 1272.0 Hz, pitch Piano.mf.Eb7.t.wav: 2623.2 Hz, pitch Piano.mf.F1.t.wav: 86.5 Hz, pitch Piano.mf.F2.t.wav: 87.5 Hz, pitch Piano.mf.F3.t.wav: 175.3 Hz, pitch Piano.mf.F4.t.wav: 349.6 Hz, pitch Piano.mf.F5.t.wav: 697.3 Hz, pitch Piano.mf.F6.t.wav: 1385.8 Hz, pitch Piano.mf.F7.t.wav: 2756.7 Hz, pitch Piano.mf.G1.t.wav: 49.3 Hz, pitch Piano.mf.G2.t.wav: 98.3 Hz, pitch Piano.mf.G3.t.wav: 197.1 Hz, pitch Piano.mf.G4.t.wav: 394.9 Hz, pitch Piano.mf.G5.t.wav: 787.3 Hz, pitch Piano.mf.G6.t.wav: 1592.5 Hz, pitch Piano.mf.G7.t.wav: 2776.7 Hz, pitch Piano.mf.Gb1.t.wav: 46.5 Hz, pitch Piano.mf.Gb2.t.wav: 92.8 Hz, pitch Piano.mf.Gb3.t.wav: 185.9 Hz, pitch Piano.mf.Gb4.t.wav: 371.1 Hz, pitch Piano.mf.Gb5.t.wav: 747.5 Hz, pitch Piano.mf.Gb6.t.wav: 1490.9 Hz, "
     ]
    }
   ],
   "source": [
    "files = []\n",
    "dynamics = [] \n",
    "pitches = []\n",
    "notes = []\n",
    "octaves = []\n",
    "\n",
    "for input_file in glob.glob(sound_dir+\"/original/*.t.wav\"):\n",
    "    \n",
    "    base_name = os.path.basename(input_file)\n",
    "    files.append(\"original/\"+base_name)\n",
    "    \n",
    "    # parse note & dynamics from file name\n",
    "    dynamics.append(base_name.split('.')[1])\n",
    "    notes.append(base_name.split('.')[2])\n",
    "    octaves.append(base_name.split('.')[2][-1])\n",
    "    \n",
    "    # compute pitch\n",
    "    print(\"pitch %s: \"%(base_name), end='')\n",
    "    swipe_pitches, times = compute_swipe_pitch(input_file)\n",
    "    swipe_pitches = swipe_pitches[~np.isnan(swipe_pitches)]\n",
    "    pitch = np.median(swipe_pitches) # note: median instead of mean, to focus on the tonal parts\n",
    "    print(\"%.1f Hz, \"%pitch,end='')\n",
    "    pitches.append(float(\"%.1f\"%pitch))\n",
    "                   \n",
    "# list all sounds in a dataframe        \n",
    "sounds = pd.DataFrame({\"file\":files,\n",
    "                       'octave':octaves,\n",
    "                      \"note\":notes,\n",
    "                      \"dynamics\":dynamics,\n",
    "                      \"pitch\":pitches})   \n",
    "    \n",
    "    \n"
   ]
  },
  {
   "cell_type": "code",
   "execution_count": 107,
   "metadata": {
    "ExecuteTime": {
     "end_time": "2021-05-01T12:27:38.900391Z",
     "start_time": "2021-05-01T12:27:38.892381Z"
    }
   },
   "outputs": [],
   "source": [
    "sounds.to_csv('../experiment/sounds/list.csv')"
   ]
  },
  {
   "cell_type": "markdown",
   "metadata": {},
   "source": [
    "## Pitch shift"
   ]
  },
  {
   "cell_type": "markdown",
   "metadata": {},
   "source": [
    "Pitch shift each file to [-50,+50] cents, to expand the dataset. Uses a proprietary method in pyvoimooo. "
   ]
  },
  {
   "cell_type": "code",
   "execution_count": 108,
   "metadata": {
    "ExecuteTime": {
     "end_time": "2021-05-01T12:27:40.684899Z",
     "start_time": "2021-05-01T12:27:40.678884Z"
    }
   },
   "outputs": [
    {
     "data": {
      "text/plain": [
       "'0.17.6'"
      ]
     },
     "execution_count": 108,
     "metadata": {},
     "output_type": "execute_result"
    }
   ],
   "source": [
    "# Load Voimooo python wrapper\n",
    "sys.path.insert(0, os.path.abspath('../../../pyvoimooo/'))\n",
    "import pyvoimooo as vmo\n",
    "vmo.__version__"
   ]
  },
  {
   "cell_type": "code",
   "execution_count": 111,
   "metadata": {
    "ExecuteTime": {
     "end_time": "2021-05-01T12:28:45.780636Z",
     "start_time": "2021-05-01T12:28:45.775616Z"
    }
   },
   "outputs": [
    {
     "data": {
      "text/plain": [
       "'Piano.mf.Gb2.t'"
      ]
     },
     "execution_count": 111,
     "metadata": {},
     "output_type": "execute_result"
    }
   ],
   "source": [
    "os.path.splitext(os.path.basename('original/Piano.mf.Gb2.t.wav'))[0]"
   ]
  },
  {
   "cell_type": "code",
   "execution_count": 113,
   "metadata": {
    "ExecuteTime": {
     "end_time": "2021-05-01T12:33:51.680358Z",
     "start_time": "2021-05-01T12:32:38.333207Z"
    }
   },
   "outputs": [
    {
     "name": "stdout",
     "output_type": "stream",
     "text": [
      "scale original/Piano.mf.A1.t.wav by 0.97; scale original/Piano.mf.A1.t.wav by 0.98; scale original/Piano.mf.A1.t.wav by 0.98; scale original/Piano.mf.A1.t.wav by 0.99; scale original/Piano.mf.A1.t.wav by 0.99; scale original/Piano.mf.A1.t.wav by 1.00; scale original/Piano.mf.A1.t.wav by 1.01; scale original/Piano.mf.A1.t.wav by 1.01; scale original/Piano.mf.A1.t.wav by 1.02; scale original/Piano.mf.A1.t.wav by 1.02; scale original/Piano.mf.A2.t.wav by 0.97; scale original/Piano.mf.A2.t.wav by 0.98; scale original/Piano.mf.A2.t.wav by 0.98; scale original/Piano.mf.A2.t.wav by 0.99; scale original/Piano.mf.A2.t.wav by 0.99; scale original/Piano.mf.A2.t.wav by 1.00; scale original/Piano.mf.A2.t.wav by 1.01; scale original/Piano.mf.A2.t.wav by 1.01; scale original/Piano.mf.A2.t.wav by 1.02; scale original/Piano.mf.A2.t.wav by 1.02; scale original/Piano.mf.A3.t.wav by 0.97; scale original/Piano.mf.A3.t.wav by 0.98; scale original/Piano.mf.A3.t.wav by 0.98; scale original/Piano.mf.A3.t.wav by 0.99; scale original/Piano.mf.A3.t.wav by 0.99; scale original/Piano.mf.A3.t.wav by 1.00; scale original/Piano.mf.A3.t.wav by 1.01; scale original/Piano.mf.A3.t.wav by 1.01; scale original/Piano.mf.A3.t.wav by 1.02; scale original/Piano.mf.A3.t.wav by 1.02; scale original/Piano.mf.A4.t.wav by 0.97; scale original/Piano.mf.A4.t.wav by 0.98; scale original/Piano.mf.A4.t.wav by 0.98; scale original/Piano.mf.A4.t.wav by 0.99; scale original/Piano.mf.A4.t.wav by 0.99; scale original/Piano.mf.A4.t.wav by 1.00; scale original/Piano.mf.A4.t.wav by 1.01; scale original/Piano.mf.A4.t.wav by 1.01; scale original/Piano.mf.A4.t.wav by 1.02; scale original/Piano.mf.A4.t.wav by 1.02; scale original/Piano.mf.A5.t.wav by 0.97; scale original/Piano.mf.A5.t.wav by 0.98; scale original/Piano.mf.A5.t.wav by 0.98; scale original/Piano.mf.A5.t.wav by 0.99; scale original/Piano.mf.A5.t.wav by 0.99; scale original/Piano.mf.A5.t.wav by 1.00; scale original/Piano.mf.A5.t.wav by 1.01; scale original/Piano.mf.A5.t.wav by 1.01; scale original/Piano.mf.A5.t.wav by 1.02; scale original/Piano.mf.A5.t.wav by 1.02; scale original/Piano.mf.A6.t.wav by 0.97; scale original/Piano.mf.A6.t.wav by 0.98; scale original/Piano.mf.A6.t.wav by 0.98; scale original/Piano.mf.A6.t.wav by 0.99; scale original/Piano.mf.A6.t.wav by 0.99; scale original/Piano.mf.A6.t.wav by 1.00; scale original/Piano.mf.A6.t.wav by 1.01; scale original/Piano.mf.A6.t.wav by 1.01; scale original/Piano.mf.A6.t.wav by 1.02; scale original/Piano.mf.A6.t.wav by 1.02; scale original/Piano.mf.A7.t.wav by 0.97; scale original/Piano.mf.A7.t.wav by 0.98; scale original/Piano.mf.A7.t.wav by 0.98; scale original/Piano.mf.A7.t.wav by 0.99; scale original/Piano.mf.A7.t.wav by 0.99; scale original/Piano.mf.A7.t.wav by 1.00; scale original/Piano.mf.A7.t.wav by 1.01; scale original/Piano.mf.A7.t.wav by 1.01; scale original/Piano.mf.A7.t.wav by 1.02; scale original/Piano.mf.A7.t.wav by 1.02; scale original/Piano.mf.Ab1.t.wav by 0.97; scale original/Piano.mf.Ab1.t.wav by 0.98; scale original/Piano.mf.Ab1.t.wav by 0.98; scale original/Piano.mf.Ab1.t.wav by 0.99; scale original/Piano.mf.Ab1.t.wav by 0.99; scale original/Piano.mf.Ab1.t.wav by 1.00; scale original/Piano.mf.Ab1.t.wav by 1.01; scale original/Piano.mf.Ab1.t.wav by 1.01; scale original/Piano.mf.Ab1.t.wav by 1.02; scale original/Piano.mf.Ab1.t.wav by 1.02; scale original/Piano.mf.Ab2.t.wav by 0.97; scale original/Piano.mf.Ab2.t.wav by 0.98; scale original/Piano.mf.Ab2.t.wav by 0.98; scale original/Piano.mf.Ab2.t.wav by 0.99; scale original/Piano.mf.Ab2.t.wav by 0.99; scale original/Piano.mf.Ab2.t.wav by 1.00; scale original/Piano.mf.Ab2.t.wav by 1.01; scale original/Piano.mf.Ab2.t.wav by 1.01; scale original/Piano.mf.Ab2.t.wav by 1.02; scale original/Piano.mf.Ab2.t.wav by 1.02; scale original/Piano.mf.Ab3.t.wav by 0.97; scale original/Piano.mf.Ab3.t.wav by 0.98; scale original/Piano.mf.Ab3.t.wav by 0.98; scale original/Piano.mf.Ab3.t.wav by 0.99; scale original/Piano.mf.Ab3.t.wav by 0.99; scale original/Piano.mf.Ab3.t.wav by 1.00; scale original/Piano.mf.Ab3.t.wav by 1.01; scale original/Piano.mf.Ab3.t.wav by 1.01; scale original/Piano.mf.Ab3.t.wav by 1.02; scale original/Piano.mf.Ab3.t.wav by 1.02; scale original/Piano.mf.Ab4.t.wav by 0.97; scale original/Piano.mf.Ab4.t.wav by 0.98; scale original/Piano.mf.Ab4.t.wav by 0.98; scale original/Piano.mf.Ab4.t.wav by 0.99; scale original/Piano.mf.Ab4.t.wav by 0.99; scale original/Piano.mf.Ab4.t.wav by 1.00; scale original/Piano.mf.Ab4.t.wav by 1.01; scale original/Piano.mf.Ab4.t.wav by 1.01; scale original/Piano.mf.Ab4.t.wav by 1.02; scale original/Piano.mf.Ab4.t.wav by 1.02; scale original/Piano.mf.Ab5.t.wav by 0.97; scale original/Piano.mf.Ab5.t.wav by 0.98; scale original/Piano.mf.Ab5.t.wav by 0.98; scale original/Piano.mf.Ab5.t.wav by 0.99; scale original/Piano.mf.Ab5.t.wav by 0.99; scale original/Piano.mf.Ab5.t.wav by 1.00; scale original/Piano.mf.Ab5.t.wav by 1.01; scale original/Piano.mf.Ab5.t.wav by 1.01; scale original/Piano.mf.Ab5.t.wav by 1.02; scale original/Piano.mf.Ab5.t.wav by 1.02; scale original/Piano.mf.Ab6.t.wav by 0.97; scale original/Piano.mf.Ab6.t.wav by 0.98; scale original/Piano.mf.Ab6.t.wav by 0.98; scale original/Piano.mf.Ab6.t.wav by 0.99; scale original/Piano.mf.Ab6.t.wav by 0.99; scale original/Piano.mf.Ab6.t.wav by 1.00; scale original/Piano.mf.Ab6.t.wav by 1.01; scale original/Piano.mf.Ab6.t.wav by 1.01; scale original/Piano.mf.Ab6.t.wav by 1.02; scale original/Piano.mf.Ab6.t.wav by 1.02; scale original/Piano.mf.Ab7.t.wav by 0.97; scale original/Piano.mf.Ab7.t.wav by 0.98; scale original/Piano.mf.Ab7.t.wav by 0.98; scale original/Piano.mf.Ab7.t.wav by 0.99; scale original/Piano.mf.Ab7.t.wav by 0.99; scale original/Piano.mf.Ab7.t.wav by 1.00; scale original/Piano.mf.Ab7.t.wav by 1.01; scale original/Piano.mf.Ab7.t.wav by 1.01; scale original/Piano.mf.Ab7.t.wav by 1.02; scale original/Piano.mf.Ab7.t.wav by 1.02; scale original/Piano.mf.B0.t.wav by 0.97; scale original/Piano.mf.B0.t.wav by 0.98; scale original/Piano.mf.B0.t.wav by 0.98; scale original/Piano.mf.B0.t.wav by 0.99; scale original/Piano.mf.B0.t.wav by 0.99; scale original/Piano.mf.B0.t.wav by 1.00; scale original/Piano.mf.B0.t.wav by 1.01; scale original/Piano.mf.B0.t.wav by 1.01; scale original/Piano.mf.B0.t.wav by 1.02; scale original/Piano.mf.B0.t.wav by 1.02; scale original/Piano.mf.B1.t.wav by 0.97; scale original/Piano.mf.B1.t.wav by 0.98; scale original/Piano.mf.B1.t.wav by 0.98; scale original/Piano.mf.B1.t.wav by 0.99; scale original/Piano.mf.B1.t.wav by 0.99; scale original/Piano.mf.B1.t.wav by 1.00; scale original/Piano.mf.B1.t.wav by 1.01; scale original/Piano.mf.B1.t.wav by 1.01; scale original/Piano.mf.B1.t.wav by 1.02; scale original/Piano.mf.B1.t.wav by 1.02; scale original/Piano.mf.B2.t.wav by 0.97; scale original/Piano.mf.B2.t.wav by 0.98; scale original/Piano.mf.B2.t.wav by 0.98; scale original/Piano.mf.B2.t.wav by 0.99; scale original/Piano.mf.B2.t.wav by 0.99; scale original/Piano.mf.B2.t.wav by 1.00; scale original/Piano.mf.B2.t.wav by 1.01; scale original/Piano.mf.B2.t.wav by 1.01; scale original/Piano.mf.B2.t.wav by 1.02; scale original/Piano.mf.B2.t.wav by 1.02; scale original/Piano.mf.B3.t.wav by 0.97; scale original/Piano.mf.B3.t.wav by 0.98; scale original/Piano.mf.B3.t.wav by 0.98; scale original/Piano.mf.B3.t.wav by 0.99; scale original/Piano.mf.B3.t.wav by 0.99; scale original/Piano.mf.B3.t.wav by 1.00; scale original/Piano.mf.B3.t.wav by 1.01; scale original/Piano.mf.B3.t.wav by 1.01; scale original/Piano.mf.B3.t.wav by 1.02; scale original/Piano.mf.B3.t.wav by 1.02; scale original/Piano.mf.B4.t.wav by 0.97; scale original/Piano.mf.B4.t.wav by 0.98; scale original/Piano.mf.B4.t.wav by 0.98; scale original/Piano.mf.B4.t.wav by 0.99; scale original/Piano.mf.B4.t.wav by 0.99; scale original/Piano.mf.B4.t.wav by 1.00; scale original/Piano.mf.B4.t.wav by 1.01; scale original/Piano.mf.B4.t.wav by 1.01; scale original/Piano.mf.B4.t.wav by 1.02; scale original/Piano.mf.B4.t.wav by 1.02; scale original/Piano.mf.B5.t.wav by 0.97; scale original/Piano.mf.B5.t.wav by 0.98; scale original/Piano.mf.B5.t.wav by 0.98; scale original/Piano.mf.B5.t.wav by 0.99; scale original/Piano.mf.B5.t.wav by 0.99; scale original/Piano.mf.B5.t.wav by 1.00; scale original/Piano.mf.B5.t.wav by 1.01; scale original/Piano.mf.B5.t.wav by 1.01; scale original/Piano.mf.B5.t.wav by 1.02; scale original/Piano.mf.B5.t.wav by 1.02; "
     ]
    },
    {
     "name": "stdout",
     "output_type": "stream",
     "text": [
      "scale original/Piano.mf.B6.t.wav by 0.97; scale original/Piano.mf.B6.t.wav by 0.98; scale original/Piano.mf.B6.t.wav by 0.98; scale original/Piano.mf.B6.t.wav by 0.99; scale original/Piano.mf.B6.t.wav by 0.99; scale original/Piano.mf.B6.t.wav by 1.00; scale original/Piano.mf.B6.t.wav by 1.01; scale original/Piano.mf.B6.t.wav by 1.01; scale original/Piano.mf.B6.t.wav by 1.02; scale original/Piano.mf.B6.t.wav by 1.02; scale original/Piano.mf.B7.t.wav by 0.97; scale original/Piano.mf.B7.t.wav by 0.98; scale original/Piano.mf.B7.t.wav by 0.98; scale original/Piano.mf.B7.t.wav by 0.99; scale original/Piano.mf.B7.t.wav by 0.99; scale original/Piano.mf.B7.t.wav by 1.00; scale original/Piano.mf.B7.t.wav by 1.01; scale original/Piano.mf.B7.t.wav by 1.01; scale original/Piano.mf.B7.t.wav by 1.02; scale original/Piano.mf.B7.t.wav by 1.02; scale original/Piano.mf.Bb1.t.wav by 0.97; scale original/Piano.mf.Bb1.t.wav by 0.98; scale original/Piano.mf.Bb1.t.wav by 0.98; scale original/Piano.mf.Bb1.t.wav by 0.99; scale original/Piano.mf.Bb1.t.wav by 0.99; scale original/Piano.mf.Bb1.t.wav by 1.00; scale original/Piano.mf.Bb1.t.wav by 1.01; scale original/Piano.mf.Bb1.t.wav by 1.01; scale original/Piano.mf.Bb1.t.wav by 1.02; scale original/Piano.mf.Bb1.t.wav by 1.02; scale original/Piano.mf.Bb2.t.wav by 0.97; scale original/Piano.mf.Bb2.t.wav by 0.98; scale original/Piano.mf.Bb2.t.wav by 0.98; scale original/Piano.mf.Bb2.t.wav by 0.99; scale original/Piano.mf.Bb2.t.wav by 0.99; scale original/Piano.mf.Bb2.t.wav by 1.00; scale original/Piano.mf.Bb2.t.wav by 1.01; scale original/Piano.mf.Bb2.t.wav by 1.01; scale original/Piano.mf.Bb2.t.wav by 1.02; scale original/Piano.mf.Bb2.t.wav by 1.02; scale original/Piano.mf.Bb3.t.wav by 0.97; scale original/Piano.mf.Bb3.t.wav by 0.98; scale original/Piano.mf.Bb3.t.wav by 0.98; scale original/Piano.mf.Bb3.t.wav by 0.99; scale original/Piano.mf.Bb3.t.wav by 0.99; scale original/Piano.mf.Bb3.t.wav by 1.00; scale original/Piano.mf.Bb3.t.wav by 1.01; scale original/Piano.mf.Bb3.t.wav by 1.01; scale original/Piano.mf.Bb3.t.wav by 1.02; scale original/Piano.mf.Bb3.t.wav by 1.02; scale original/Piano.mf.Bb4.t.wav by 0.97; scale original/Piano.mf.Bb4.t.wav by 0.98; scale original/Piano.mf.Bb4.t.wav by 0.98; scale original/Piano.mf.Bb4.t.wav by 0.99; scale original/Piano.mf.Bb4.t.wav by 0.99; scale original/Piano.mf.Bb4.t.wav by 1.00; scale original/Piano.mf.Bb4.t.wav by 1.01; scale original/Piano.mf.Bb4.t.wav by 1.01; scale original/Piano.mf.Bb4.t.wav by 1.02; scale original/Piano.mf.Bb4.t.wav by 1.02; scale original/Piano.mf.Bb5.t.wav by 0.97; scale original/Piano.mf.Bb5.t.wav by 0.98; scale original/Piano.mf.Bb5.t.wav by 0.98; scale original/Piano.mf.Bb5.t.wav by 0.99; scale original/Piano.mf.Bb5.t.wav by 0.99; scale original/Piano.mf.Bb5.t.wav by 1.00; scale original/Piano.mf.Bb5.t.wav by 1.01; scale original/Piano.mf.Bb5.t.wav by 1.01; scale original/Piano.mf.Bb5.t.wav by 1.02; scale original/Piano.mf.Bb5.t.wav by 1.02; scale original/Piano.mf.Bb6.t.wav by 0.97; scale original/Piano.mf.Bb6.t.wav by 0.98; scale original/Piano.mf.Bb6.t.wav by 0.98; scale original/Piano.mf.Bb6.t.wav by 0.99; scale original/Piano.mf.Bb6.t.wav by 0.99; scale original/Piano.mf.Bb6.t.wav by 1.00; scale original/Piano.mf.Bb6.t.wav by 1.01; scale original/Piano.mf.Bb6.t.wav by 1.01; scale original/Piano.mf.Bb6.t.wav by 1.02; scale original/Piano.mf.Bb6.t.wav by 1.02; scale original/Piano.mf.Bb7.t.wav by 0.97; scale original/Piano.mf.Bb7.t.wav by 0.98; scale original/Piano.mf.Bb7.t.wav by 0.98; scale original/Piano.mf.Bb7.t.wav by 0.99; scale original/Piano.mf.Bb7.t.wav by 0.99; scale original/Piano.mf.Bb7.t.wav by 1.00; scale original/Piano.mf.Bb7.t.wav by 1.01; scale original/Piano.mf.Bb7.t.wav by 1.01; scale original/Piano.mf.Bb7.t.wav by 1.02; scale original/Piano.mf.Bb7.t.wav by 1.02; scale original/Piano.mf.C1.t.wav by 0.97; scale original/Piano.mf.C1.t.wav by 0.98; scale original/Piano.mf.C1.t.wav by 0.98; scale original/Piano.mf.C1.t.wav by 0.99; scale original/Piano.mf.C1.t.wav by 0.99; scale original/Piano.mf.C1.t.wav by 1.00; scale original/Piano.mf.C1.t.wav by 1.01; scale original/Piano.mf.C1.t.wav by 1.01; scale original/Piano.mf.C1.t.wav by 1.02; scale original/Piano.mf.C1.t.wav by 1.02; scale original/Piano.mf.C2.t.wav by 0.97; scale original/Piano.mf.C2.t.wav by 0.98; scale original/Piano.mf.C2.t.wav by 0.98; scale original/Piano.mf.C2.t.wav by 0.99; scale original/Piano.mf.C2.t.wav by 0.99; scale original/Piano.mf.C2.t.wav by 1.00; scale original/Piano.mf.C2.t.wav by 1.01; scale original/Piano.mf.C2.t.wav by 1.01; scale original/Piano.mf.C2.t.wav by 1.02; scale original/Piano.mf.C2.t.wav by 1.02; scale original/Piano.mf.C3.t.wav by 0.97; scale original/Piano.mf.C3.t.wav by 0.98; scale original/Piano.mf.C3.t.wav by 0.98; scale original/Piano.mf.C3.t.wav by 0.99; scale original/Piano.mf.C3.t.wav by 0.99; scale original/Piano.mf.C3.t.wav by 1.00; scale original/Piano.mf.C3.t.wav by 1.01; scale original/Piano.mf.C3.t.wav by 1.01; scale original/Piano.mf.C3.t.wav by 1.02; scale original/Piano.mf.C3.t.wav by 1.02; scale original/Piano.mf.C4.t.wav by 0.97; scale original/Piano.mf.C4.t.wav by 0.98; scale original/Piano.mf.C4.t.wav by 0.98; scale original/Piano.mf.C4.t.wav by 0.99; scale original/Piano.mf.C4.t.wav by 0.99; scale original/Piano.mf.C4.t.wav by 1.00; scale original/Piano.mf.C4.t.wav by 1.01; scale original/Piano.mf.C4.t.wav by 1.01; scale original/Piano.mf.C4.t.wav by 1.02; scale original/Piano.mf.C4.t.wav by 1.02; scale original/Piano.mf.C5.t.wav by 0.97; scale original/Piano.mf.C5.t.wav by 0.98; scale original/Piano.mf.C5.t.wav by 0.98; scale original/Piano.mf.C5.t.wav by 0.99; scale original/Piano.mf.C5.t.wav by 0.99; scale original/Piano.mf.C5.t.wav by 1.00; scale original/Piano.mf.C5.t.wav by 1.01; scale original/Piano.mf.C5.t.wav by 1.01; scale original/Piano.mf.C5.t.wav by 1.02; scale original/Piano.mf.C5.t.wav by 1.02; scale original/Piano.mf.C6.t.wav by 0.97; scale original/Piano.mf.C6.t.wav by 0.98; scale original/Piano.mf.C6.t.wav by 0.98; scale original/Piano.mf.C6.t.wav by 0.99; scale original/Piano.mf.C6.t.wav by 0.99; scale original/Piano.mf.C6.t.wav by 1.00; scale original/Piano.mf.C6.t.wav by 1.01; scale original/Piano.mf.C6.t.wav by 1.01; scale original/Piano.mf.C6.t.wav by 1.02; scale original/Piano.mf.C6.t.wav by 1.02; scale original/Piano.mf.C7.t.wav by 0.97; scale original/Piano.mf.C7.t.wav by 0.98; scale original/Piano.mf.C7.t.wav by 0.98; scale original/Piano.mf.C7.t.wav by 0.99; scale original/Piano.mf.C7.t.wav by 0.99; scale original/Piano.mf.C7.t.wav by 1.00; scale original/Piano.mf.C7.t.wav by 1.01; scale original/Piano.mf.C7.t.wav by 1.01; scale original/Piano.mf.C7.t.wav by 1.02; scale original/Piano.mf.C7.t.wav by 1.02; scale original/Piano.mf.C8.t.wav by 0.97; scale original/Piano.mf.C8.t.wav by 0.98; scale original/Piano.mf.C8.t.wav by 0.98; scale original/Piano.mf.C8.t.wav by 0.99; scale original/Piano.mf.C8.t.wav by 0.99; scale original/Piano.mf.C8.t.wav by 1.00; scale original/Piano.mf.C8.t.wav by 1.01; scale original/Piano.mf.C8.t.wav by 1.01; scale original/Piano.mf.C8.t.wav by 1.02; scale original/Piano.mf.C8.t.wav by 1.02; scale original/Piano.mf.D1.t.wav by 0.97; scale original/Piano.mf.D1.t.wav by 0.98; scale original/Piano.mf.D1.t.wav by 0.98; scale original/Piano.mf.D1.t.wav by 0.99; scale original/Piano.mf.D1.t.wav by 0.99; scale original/Piano.mf.D1.t.wav by 1.00; scale original/Piano.mf.D1.t.wav by 1.01; scale original/Piano.mf.D1.t.wav by 1.01; scale original/Piano.mf.D1.t.wav by 1.02; scale original/Piano.mf.D1.t.wav by 1.02; scale original/Piano.mf.D2.t.wav by 0.97; scale original/Piano.mf.D2.t.wav by 0.98; scale original/Piano.mf.D2.t.wav by 0.98; scale original/Piano.mf.D2.t.wav by 0.99; scale original/Piano.mf.D2.t.wav by 0.99; scale original/Piano.mf.D2.t.wav by 1.00; scale original/Piano.mf.D2.t.wav by 1.01; scale original/Piano.mf.D2.t.wav by 1.01; scale original/Piano.mf.D2.t.wav by 1.02; scale original/Piano.mf.D2.t.wav by 1.02; scale original/Piano.mf.D3.t.wav by 0.97; scale original/Piano.mf.D3.t.wav by 0.98; scale original/Piano.mf.D3.t.wav by 0.98; scale original/Piano.mf.D3.t.wav by 0.99; scale original/Piano.mf.D3.t.wav by 0.99; scale original/Piano.mf.D3.t.wav by 1.00; scale original/Piano.mf.D3.t.wav by 1.01; scale original/Piano.mf.D3.t.wav by 1.01; scale original/Piano.mf.D3.t.wav by 1.02; scale original/Piano.mf.D3.t.wav by 1.02; "
     ]
    },
    {
     "name": "stdout",
     "output_type": "stream",
     "text": [
      "scale original/Piano.mf.D4.t.wav by 0.97; scale original/Piano.mf.D4.t.wav by 0.98; scale original/Piano.mf.D4.t.wav by 0.98; scale original/Piano.mf.D4.t.wav by 0.99; scale original/Piano.mf.D4.t.wav by 0.99; scale original/Piano.mf.D4.t.wav by 1.00; scale original/Piano.mf.D4.t.wav by 1.01; scale original/Piano.mf.D4.t.wav by 1.01; scale original/Piano.mf.D4.t.wav by 1.02; scale original/Piano.mf.D4.t.wav by 1.02; scale original/Piano.mf.D5.t.wav by 0.97; scale original/Piano.mf.D5.t.wav by 0.98; scale original/Piano.mf.D5.t.wav by 0.98; scale original/Piano.mf.D5.t.wav by 0.99; scale original/Piano.mf.D5.t.wav by 0.99; scale original/Piano.mf.D5.t.wav by 1.00; scale original/Piano.mf.D5.t.wav by 1.01; scale original/Piano.mf.D5.t.wav by 1.01; scale original/Piano.mf.D5.t.wav by 1.02; scale original/Piano.mf.D5.t.wav by 1.02; scale original/Piano.mf.D6.t.wav by 0.97; scale original/Piano.mf.D6.t.wav by 0.98; scale original/Piano.mf.D6.t.wav by 0.98; scale original/Piano.mf.D6.t.wav by 0.99; scale original/Piano.mf.D6.t.wav by 0.99; scale original/Piano.mf.D6.t.wav by 1.00; scale original/Piano.mf.D6.t.wav by 1.01; scale original/Piano.mf.D6.t.wav by 1.01; scale original/Piano.mf.D6.t.wav by 1.02; scale original/Piano.mf.D6.t.wav by 1.02; scale original/Piano.mf.D7.t.wav by 0.97; scale original/Piano.mf.D7.t.wav by 0.98; scale original/Piano.mf.D7.t.wav by 0.98; scale original/Piano.mf.D7.t.wav by 0.99; scale original/Piano.mf.D7.t.wav by 0.99; scale original/Piano.mf.D7.t.wav by 1.00; scale original/Piano.mf.D7.t.wav by 1.01; scale original/Piano.mf.D7.t.wav by 1.01; scale original/Piano.mf.D7.t.wav by 1.02; scale original/Piano.mf.D7.t.wav by 1.02; scale original/Piano.mf.Db1.t.wav by 0.97; scale original/Piano.mf.Db1.t.wav by 0.98; scale original/Piano.mf.Db1.t.wav by 0.98; scale original/Piano.mf.Db1.t.wav by 0.99; scale original/Piano.mf.Db1.t.wav by 0.99; scale original/Piano.mf.Db1.t.wav by 1.00; scale original/Piano.mf.Db1.t.wav by 1.01; scale original/Piano.mf.Db1.t.wav by 1.01; scale original/Piano.mf.Db1.t.wav by 1.02; scale original/Piano.mf.Db1.t.wav by 1.02; scale original/Piano.mf.Db2.t.wav by 0.97; scale original/Piano.mf.Db2.t.wav by 0.98; scale original/Piano.mf.Db2.t.wav by 0.98; scale original/Piano.mf.Db2.t.wav by 0.99; scale original/Piano.mf.Db2.t.wav by 0.99; scale original/Piano.mf.Db2.t.wav by 1.00; scale original/Piano.mf.Db2.t.wav by 1.01; scale original/Piano.mf.Db2.t.wav by 1.01; scale original/Piano.mf.Db2.t.wav by 1.02; scale original/Piano.mf.Db2.t.wav by 1.02; scale original/Piano.mf.Db3.t.wav by 0.97; scale original/Piano.mf.Db3.t.wav by 0.98; scale original/Piano.mf.Db3.t.wav by 0.98; scale original/Piano.mf.Db3.t.wav by 0.99; scale original/Piano.mf.Db3.t.wav by 0.99; scale original/Piano.mf.Db3.t.wav by 1.00; scale original/Piano.mf.Db3.t.wav by 1.01; scale original/Piano.mf.Db3.t.wav by 1.01; scale original/Piano.mf.Db3.t.wav by 1.02; scale original/Piano.mf.Db3.t.wav by 1.02; scale original/Piano.mf.Db4.t.wav by 0.97; scale original/Piano.mf.Db4.t.wav by 0.98; scale original/Piano.mf.Db4.t.wav by 0.98; scale original/Piano.mf.Db4.t.wav by 0.99; scale original/Piano.mf.Db4.t.wav by 0.99; scale original/Piano.mf.Db4.t.wav by 1.00; scale original/Piano.mf.Db4.t.wav by 1.01; scale original/Piano.mf.Db4.t.wav by 1.01; scale original/Piano.mf.Db4.t.wav by 1.02; scale original/Piano.mf.Db4.t.wav by 1.02; scale original/Piano.mf.Db5.t.wav by 0.97; scale original/Piano.mf.Db5.t.wav by 0.98; scale original/Piano.mf.Db5.t.wav by 0.98; scale original/Piano.mf.Db5.t.wav by 0.99; scale original/Piano.mf.Db5.t.wav by 0.99; scale original/Piano.mf.Db5.t.wav by 1.00; scale original/Piano.mf.Db5.t.wav by 1.01; scale original/Piano.mf.Db5.t.wav by 1.01; scale original/Piano.mf.Db5.t.wav by 1.02; scale original/Piano.mf.Db5.t.wav by 1.02; scale original/Piano.mf.Db6.t.wav by 0.97; scale original/Piano.mf.Db6.t.wav by 0.98; scale original/Piano.mf.Db6.t.wav by 0.98; scale original/Piano.mf.Db6.t.wav by 0.99; scale original/Piano.mf.Db6.t.wav by 0.99; scale original/Piano.mf.Db6.t.wav by 1.00; scale original/Piano.mf.Db6.t.wav by 1.01; scale original/Piano.mf.Db6.t.wav by 1.01; scale original/Piano.mf.Db6.t.wav by 1.02; scale original/Piano.mf.Db6.t.wav by 1.02; scale original/Piano.mf.Db7.t.wav by 0.97; scale original/Piano.mf.Db7.t.wav by 0.98; scale original/Piano.mf.Db7.t.wav by 0.98; scale original/Piano.mf.Db7.t.wav by 0.99; scale original/Piano.mf.Db7.t.wav by 0.99; scale original/Piano.mf.Db7.t.wav by 1.00; scale original/Piano.mf.Db7.t.wav by 1.01; scale original/Piano.mf.Db7.t.wav by 1.01; scale original/Piano.mf.Db7.t.wav by 1.02; scale original/Piano.mf.Db7.t.wav by 1.02; scale original/Piano.mf.E1.t.wav by 0.97; scale original/Piano.mf.E1.t.wav by 0.98; scale original/Piano.mf.E1.t.wav by 0.98; scale original/Piano.mf.E1.t.wav by 0.99; scale original/Piano.mf.E1.t.wav by 0.99; scale original/Piano.mf.E1.t.wav by 1.00; scale original/Piano.mf.E1.t.wav by 1.01; scale original/Piano.mf.E1.t.wav by 1.01; scale original/Piano.mf.E1.t.wav by 1.02; scale original/Piano.mf.E1.t.wav by 1.02; scale original/Piano.mf.E2.t.wav by 0.97; scale original/Piano.mf.E2.t.wav by 0.98; scale original/Piano.mf.E2.t.wav by 0.98; scale original/Piano.mf.E2.t.wav by 0.99; scale original/Piano.mf.E2.t.wav by 0.99; scale original/Piano.mf.E2.t.wav by 1.00; scale original/Piano.mf.E2.t.wav by 1.01; scale original/Piano.mf.E2.t.wav by 1.01; scale original/Piano.mf.E2.t.wav by 1.02; scale original/Piano.mf.E2.t.wav by 1.02; scale original/Piano.mf.E3.t.wav by 0.97; scale original/Piano.mf.E3.t.wav by 0.98; scale original/Piano.mf.E3.t.wav by 0.98; scale original/Piano.mf.E3.t.wav by 0.99; scale original/Piano.mf.E3.t.wav by 0.99; scale original/Piano.mf.E3.t.wav by 1.00; scale original/Piano.mf.E3.t.wav by 1.01; scale original/Piano.mf.E3.t.wav by 1.01; scale original/Piano.mf.E3.t.wav by 1.02; scale original/Piano.mf.E3.t.wav by 1.02; scale original/Piano.mf.E4.t.wav by 0.97; scale original/Piano.mf.E4.t.wav by 0.98; scale original/Piano.mf.E4.t.wav by 0.98; scale original/Piano.mf.E4.t.wav by 0.99; scale original/Piano.mf.E4.t.wav by 0.99; scale original/Piano.mf.E4.t.wav by 1.00; scale original/Piano.mf.E4.t.wav by 1.01; scale original/Piano.mf.E4.t.wav by 1.01; scale original/Piano.mf.E4.t.wav by 1.02; scale original/Piano.mf.E4.t.wav by 1.02; scale original/Piano.mf.E5.t.wav by 0.97; scale original/Piano.mf.E5.t.wav by 0.98; scale original/Piano.mf.E5.t.wav by 0.98; scale original/Piano.mf.E5.t.wav by 0.99; scale original/Piano.mf.E5.t.wav by 0.99; scale original/Piano.mf.E5.t.wav by 1.00; scale original/Piano.mf.E5.t.wav by 1.01; scale original/Piano.mf.E5.t.wav by 1.01; scale original/Piano.mf.E5.t.wav by 1.02; scale original/Piano.mf.E5.t.wav by 1.02; scale original/Piano.mf.E6.t.wav by 0.97; scale original/Piano.mf.E6.t.wav by 0.98; scale original/Piano.mf.E6.t.wav by 0.98; scale original/Piano.mf.E6.t.wav by 0.99; scale original/Piano.mf.E6.t.wav by 0.99; scale original/Piano.mf.E6.t.wav by 1.00; scale original/Piano.mf.E6.t.wav by 1.01; scale original/Piano.mf.E6.t.wav by 1.01; scale original/Piano.mf.E6.t.wav by 1.02; scale original/Piano.mf.E6.t.wav by 1.02; scale original/Piano.mf.E7.t.wav by 0.97; scale original/Piano.mf.E7.t.wav by 0.98; scale original/Piano.mf.E7.t.wav by 0.98; scale original/Piano.mf.E7.t.wav by 0.99; scale original/Piano.mf.E7.t.wav by 0.99; scale original/Piano.mf.E7.t.wav by 1.00; scale original/Piano.mf.E7.t.wav by 1.01; scale original/Piano.mf.E7.t.wav by 1.01; scale original/Piano.mf.E7.t.wav by 1.02; scale original/Piano.mf.E7.t.wav by 1.02; scale original/Piano.mf.Eb1.t.wav by 0.97; scale original/Piano.mf.Eb1.t.wav by 0.98; scale original/Piano.mf.Eb1.t.wav by 0.98; scale original/Piano.mf.Eb1.t.wav by 0.99; scale original/Piano.mf.Eb1.t.wav by 0.99; scale original/Piano.mf.Eb1.t.wav by 1.00; scale original/Piano.mf.Eb1.t.wav by 1.01; scale original/Piano.mf.Eb1.t.wav by 1.01; scale original/Piano.mf.Eb1.t.wav by 1.02; scale original/Piano.mf.Eb1.t.wav by 1.02; scale original/Piano.mf.Eb2.t.wav by 0.97; scale original/Piano.mf.Eb2.t.wav by 0.98; scale original/Piano.mf.Eb2.t.wav by 0.98; scale original/Piano.mf.Eb2.t.wav by 0.99; scale original/Piano.mf.Eb2.t.wav by 0.99; scale original/Piano.mf.Eb2.t.wav by 1.00; scale original/Piano.mf.Eb2.t.wav by 1.01; scale original/Piano.mf.Eb2.t.wav by 1.01; scale original/Piano.mf.Eb2.t.wav by 1.02; scale original/Piano.mf.Eb2.t.wav by 1.02; "
     ]
    },
    {
     "name": "stdout",
     "output_type": "stream",
     "text": [
      "scale original/Piano.mf.Eb3.t.wav by 0.97; scale original/Piano.mf.Eb3.t.wav by 0.98; scale original/Piano.mf.Eb3.t.wav by 0.98; scale original/Piano.mf.Eb3.t.wav by 0.99; scale original/Piano.mf.Eb3.t.wav by 0.99; scale original/Piano.mf.Eb3.t.wav by 1.00; scale original/Piano.mf.Eb3.t.wav by 1.01; scale original/Piano.mf.Eb3.t.wav by 1.01; scale original/Piano.mf.Eb3.t.wav by 1.02; scale original/Piano.mf.Eb3.t.wav by 1.02; scale original/Piano.mf.Eb4.t.wav by 0.97; scale original/Piano.mf.Eb4.t.wav by 0.98; scale original/Piano.mf.Eb4.t.wav by 0.98; scale original/Piano.mf.Eb4.t.wav by 0.99; scale original/Piano.mf.Eb4.t.wav by 0.99; scale original/Piano.mf.Eb4.t.wav by 1.00; scale original/Piano.mf.Eb4.t.wav by 1.01; scale original/Piano.mf.Eb4.t.wav by 1.01; scale original/Piano.mf.Eb4.t.wav by 1.02; scale original/Piano.mf.Eb4.t.wav by 1.02; scale original/Piano.mf.Eb5.t.wav by 0.97; scale original/Piano.mf.Eb5.t.wav by 0.98; scale original/Piano.mf.Eb5.t.wav by 0.98; scale original/Piano.mf.Eb5.t.wav by 0.99; scale original/Piano.mf.Eb5.t.wav by 0.99; scale original/Piano.mf.Eb5.t.wav by 1.00; scale original/Piano.mf.Eb5.t.wav by 1.01; scale original/Piano.mf.Eb5.t.wav by 1.01; scale original/Piano.mf.Eb5.t.wav by 1.02; scale original/Piano.mf.Eb5.t.wav by 1.02; scale original/Piano.mf.Eb6.t.wav by 0.97; scale original/Piano.mf.Eb6.t.wav by 0.98; scale original/Piano.mf.Eb6.t.wav by 0.98; scale original/Piano.mf.Eb6.t.wav by 0.99; scale original/Piano.mf.Eb6.t.wav by 0.99; scale original/Piano.mf.Eb6.t.wav by 1.00; scale original/Piano.mf.Eb6.t.wav by 1.01; scale original/Piano.mf.Eb6.t.wav by 1.01; scale original/Piano.mf.Eb6.t.wav by 1.02; scale original/Piano.mf.Eb6.t.wav by 1.02; scale original/Piano.mf.Eb7.t.wav by 0.97; scale original/Piano.mf.Eb7.t.wav by 0.98; scale original/Piano.mf.Eb7.t.wav by 0.98; scale original/Piano.mf.Eb7.t.wav by 0.99; scale original/Piano.mf.Eb7.t.wav by 0.99; scale original/Piano.mf.Eb7.t.wav by 1.00; scale original/Piano.mf.Eb7.t.wav by 1.01; scale original/Piano.mf.Eb7.t.wav by 1.01; scale original/Piano.mf.Eb7.t.wav by 1.02; scale original/Piano.mf.Eb7.t.wav by 1.02; scale original/Piano.mf.F1.t.wav by 0.97; scale original/Piano.mf.F1.t.wav by 0.98; scale original/Piano.mf.F1.t.wav by 0.98; scale original/Piano.mf.F1.t.wav by 0.99; scale original/Piano.mf.F1.t.wav by 0.99; scale original/Piano.mf.F1.t.wav by 1.00; scale original/Piano.mf.F1.t.wav by 1.01; scale original/Piano.mf.F1.t.wav by 1.01; scale original/Piano.mf.F1.t.wav by 1.02; scale original/Piano.mf.F1.t.wav by 1.02; scale original/Piano.mf.F2.t.wav by 0.97; scale original/Piano.mf.F2.t.wav by 0.98; scale original/Piano.mf.F2.t.wav by 0.98; scale original/Piano.mf.F2.t.wav by 0.99; scale original/Piano.mf.F2.t.wav by 0.99; scale original/Piano.mf.F2.t.wav by 1.00; scale original/Piano.mf.F2.t.wav by 1.01; scale original/Piano.mf.F2.t.wav by 1.01; scale original/Piano.mf.F2.t.wav by 1.02; scale original/Piano.mf.F2.t.wav by 1.02; scale original/Piano.mf.F3.t.wav by 0.97; scale original/Piano.mf.F3.t.wav by 0.98; scale original/Piano.mf.F3.t.wav by 0.98; scale original/Piano.mf.F3.t.wav by 0.99; scale original/Piano.mf.F3.t.wav by 0.99; scale original/Piano.mf.F3.t.wav by 1.00; scale original/Piano.mf.F3.t.wav by 1.01; scale original/Piano.mf.F3.t.wav by 1.01; scale original/Piano.mf.F3.t.wav by 1.02; scale original/Piano.mf.F3.t.wav by 1.02; scale original/Piano.mf.F4.t.wav by 0.97; scale original/Piano.mf.F4.t.wav by 0.98; scale original/Piano.mf.F4.t.wav by 0.98; scale original/Piano.mf.F4.t.wav by 0.99; scale original/Piano.mf.F4.t.wav by 0.99; scale original/Piano.mf.F4.t.wav by 1.00; scale original/Piano.mf.F4.t.wav by 1.01; scale original/Piano.mf.F4.t.wav by 1.01; scale original/Piano.mf.F4.t.wav by 1.02; scale original/Piano.mf.F4.t.wav by 1.02; scale original/Piano.mf.F5.t.wav by 0.97; scale original/Piano.mf.F5.t.wav by 0.98; scale original/Piano.mf.F5.t.wav by 0.98; scale original/Piano.mf.F5.t.wav by 0.99; scale original/Piano.mf.F5.t.wav by 0.99; scale original/Piano.mf.F5.t.wav by 1.00; scale original/Piano.mf.F5.t.wav by 1.01; scale original/Piano.mf.F5.t.wav by 1.01; scale original/Piano.mf.F5.t.wav by 1.02; scale original/Piano.mf.F5.t.wav by 1.02; scale original/Piano.mf.F6.t.wav by 0.97; scale original/Piano.mf.F6.t.wav by 0.98; scale original/Piano.mf.F6.t.wav by 0.98; scale original/Piano.mf.F6.t.wav by 0.99; scale original/Piano.mf.F6.t.wav by 0.99; scale original/Piano.mf.F6.t.wav by 1.00; scale original/Piano.mf.F6.t.wav by 1.01; scale original/Piano.mf.F6.t.wav by 1.01; scale original/Piano.mf.F6.t.wav by 1.02; scale original/Piano.mf.F6.t.wav by 1.02; scale original/Piano.mf.F7.t.wav by 0.97; scale original/Piano.mf.F7.t.wav by 0.98; scale original/Piano.mf.F7.t.wav by 0.98; scale original/Piano.mf.F7.t.wav by 0.99; scale original/Piano.mf.F7.t.wav by 0.99; scale original/Piano.mf.F7.t.wav by 1.00; scale original/Piano.mf.F7.t.wav by 1.01; scale original/Piano.mf.F7.t.wav by 1.01; scale original/Piano.mf.F7.t.wav by 1.02; scale original/Piano.mf.F7.t.wav by 1.02; scale original/Piano.mf.G1.t.wav by 0.97; scale original/Piano.mf.G1.t.wav by 0.98; scale original/Piano.mf.G1.t.wav by 0.98; scale original/Piano.mf.G1.t.wav by 0.99; scale original/Piano.mf.G1.t.wav by 0.99; scale original/Piano.mf.G1.t.wav by 1.00; scale original/Piano.mf.G1.t.wav by 1.01; scale original/Piano.mf.G1.t.wav by 1.01; scale original/Piano.mf.G1.t.wav by 1.02; scale original/Piano.mf.G1.t.wav by 1.02; scale original/Piano.mf.G2.t.wav by 0.97; scale original/Piano.mf.G2.t.wav by 0.98; scale original/Piano.mf.G2.t.wav by 0.98; scale original/Piano.mf.G2.t.wav by 0.99; scale original/Piano.mf.G2.t.wav by 0.99; scale original/Piano.mf.G2.t.wav by 1.00; scale original/Piano.mf.G2.t.wav by 1.01; scale original/Piano.mf.G2.t.wav by 1.01; scale original/Piano.mf.G2.t.wav by 1.02; scale original/Piano.mf.G2.t.wav by 1.02; scale original/Piano.mf.G3.t.wav by 0.97; scale original/Piano.mf.G3.t.wav by 0.98; scale original/Piano.mf.G3.t.wav by 0.98; scale original/Piano.mf.G3.t.wav by 0.99; scale original/Piano.mf.G3.t.wav by 0.99; scale original/Piano.mf.G3.t.wav by 1.00; scale original/Piano.mf.G3.t.wav by 1.01; scale original/Piano.mf.G3.t.wav by 1.01; scale original/Piano.mf.G3.t.wav by 1.02; scale original/Piano.mf.G3.t.wav by 1.02; scale original/Piano.mf.G4.t.wav by 0.97; scale original/Piano.mf.G4.t.wav by 0.98; scale original/Piano.mf.G4.t.wav by 0.98; scale original/Piano.mf.G4.t.wav by 0.99; scale original/Piano.mf.G4.t.wav by 0.99; scale original/Piano.mf.G4.t.wav by 1.00; scale original/Piano.mf.G4.t.wav by 1.01; scale original/Piano.mf.G4.t.wav by 1.01; scale original/Piano.mf.G4.t.wav by 1.02; scale original/Piano.mf.G4.t.wav by 1.02; scale original/Piano.mf.G5.t.wav by 0.97; scale original/Piano.mf.G5.t.wav by 0.98; scale original/Piano.mf.G5.t.wav by 0.98; scale original/Piano.mf.G5.t.wav by 0.99; scale original/Piano.mf.G5.t.wav by 0.99; scale original/Piano.mf.G5.t.wav by 1.00; scale original/Piano.mf.G5.t.wav by 1.01; scale original/Piano.mf.G5.t.wav by 1.01; scale original/Piano.mf.G5.t.wav by 1.02; scale original/Piano.mf.G5.t.wav by 1.02; scale original/Piano.mf.G6.t.wav by 0.97; scale original/Piano.mf.G6.t.wav by 0.98; scale original/Piano.mf.G6.t.wav by 0.98; scale original/Piano.mf.G6.t.wav by 0.99; scale original/Piano.mf.G6.t.wav by 0.99; scale original/Piano.mf.G6.t.wav by 1.00; scale original/Piano.mf.G6.t.wav by 1.01; scale original/Piano.mf.G6.t.wav by 1.01; scale original/Piano.mf.G6.t.wav by 1.02; scale original/Piano.mf.G6.t.wav by 1.02; scale original/Piano.mf.G7.t.wav by 0.97; scale original/Piano.mf.G7.t.wav by 0.98; scale original/Piano.mf.G7.t.wav by 0.98; scale original/Piano.mf.G7.t.wav by 0.99; scale original/Piano.mf.G7.t.wav by 0.99; scale original/Piano.mf.G7.t.wav by 1.00; scale original/Piano.mf.G7.t.wav by 1.01; scale original/Piano.mf.G7.t.wav by 1.01; scale original/Piano.mf.G7.t.wav by 1.02; scale original/Piano.mf.G7.t.wav by 1.02; scale original/Piano.mf.Gb1.t.wav by 0.97; scale original/Piano.mf.Gb1.t.wav by 0.98; scale original/Piano.mf.Gb1.t.wav by 0.98; scale original/Piano.mf.Gb1.t.wav by 0.99; scale original/Piano.mf.Gb1.t.wav by 0.99; scale original/Piano.mf.Gb1.t.wav by 1.00; scale original/Piano.mf.Gb1.t.wav by 1.01; scale original/Piano.mf.Gb1.t.wav by 1.01; scale original/Piano.mf.Gb1.t.wav by 1.02; scale original/Piano.mf.Gb1.t.wav by 1.02; "
     ]
    },
    {
     "name": "stdout",
     "output_type": "stream",
     "text": [
      "scale original/Piano.mf.Gb2.t.wav by 0.97; scale original/Piano.mf.Gb2.t.wav by 0.98; scale original/Piano.mf.Gb2.t.wav by 0.98; scale original/Piano.mf.Gb2.t.wav by 0.99; scale original/Piano.mf.Gb2.t.wav by 0.99; scale original/Piano.mf.Gb2.t.wav by 1.00; scale original/Piano.mf.Gb2.t.wav by 1.01; scale original/Piano.mf.Gb2.t.wav by 1.01; scale original/Piano.mf.Gb2.t.wav by 1.02; scale original/Piano.mf.Gb2.t.wav by 1.02; scale original/Piano.mf.Gb3.t.wav by 0.97; scale original/Piano.mf.Gb3.t.wav by 0.98; scale original/Piano.mf.Gb3.t.wav by 0.98; scale original/Piano.mf.Gb3.t.wav by 0.99; scale original/Piano.mf.Gb3.t.wav by 0.99; scale original/Piano.mf.Gb3.t.wav by 1.00; scale original/Piano.mf.Gb3.t.wav by 1.01; scale original/Piano.mf.Gb3.t.wav by 1.01; scale original/Piano.mf.Gb3.t.wav by 1.02; scale original/Piano.mf.Gb3.t.wav by 1.02; scale original/Piano.mf.Gb4.t.wav by 0.97; scale original/Piano.mf.Gb4.t.wav by 0.98; scale original/Piano.mf.Gb4.t.wav by 0.98; scale original/Piano.mf.Gb4.t.wav by 0.99; scale original/Piano.mf.Gb4.t.wav by 0.99; scale original/Piano.mf.Gb4.t.wav by 1.00; scale original/Piano.mf.Gb4.t.wav by 1.01; scale original/Piano.mf.Gb4.t.wav by 1.01; scale original/Piano.mf.Gb4.t.wav by 1.02; scale original/Piano.mf.Gb4.t.wav by 1.02; scale original/Piano.mf.Gb5.t.wav by 0.97; scale original/Piano.mf.Gb5.t.wav by 0.98; scale original/Piano.mf.Gb5.t.wav by 0.98; scale original/Piano.mf.Gb5.t.wav by 0.99; scale original/Piano.mf.Gb5.t.wav by 0.99; scale original/Piano.mf.Gb5.t.wav by 1.00; scale original/Piano.mf.Gb5.t.wav by 1.01; scale original/Piano.mf.Gb5.t.wav by 1.01; scale original/Piano.mf.Gb5.t.wav by 1.02; scale original/Piano.mf.Gb5.t.wav by 1.02; scale original/Piano.mf.Gb6.t.wav by 0.97; scale original/Piano.mf.Gb6.t.wav by 0.98; scale original/Piano.mf.Gb6.t.wav by 0.98; scale original/Piano.mf.Gb6.t.wav by 0.99; scale original/Piano.mf.Gb6.t.wav by 0.99; scale original/Piano.mf.Gb6.t.wav by 1.00; scale original/Piano.mf.Gb6.t.wav by 1.01; scale original/Piano.mf.Gb6.t.wav by 1.01; scale original/Piano.mf.Gb6.t.wav by 1.02; scale original/Piano.mf.Gb6.t.wav by 1.02; "
     ]
    },
    {
     "name": "stderr",
     "output_type": "stream",
     "text": [
      "c:\\users\\aucouturier\\appdata\\local\\programs\\python\\python36\\lib\\site-packages\\librosa\\core\\audio.py:162: UserWarning: PySoundFile failed. Trying audioread instead.\n",
      "  warnings.warn(\"PySoundFile failed. Trying audioread instead.\")\n"
     ]
    },
    {
     "ename": "FileNotFoundError",
     "evalue": "[Errno 2] No such file or directory: '../experiment/sounds//Piano.mf.A1.t.shift-50.wav'",
     "output_type": "error",
     "traceback": [
      "\u001b[1;31m---------------------------------------------------------------------------\u001b[0m",
      "\u001b[1;31mRuntimeError\u001b[0m                              Traceback (most recent call last)",
      "\u001b[1;32mc:\\users\\aucouturier\\appdata\\local\\programs\\python\\python36\\lib\\site-packages\\librosa\\core\\audio.py\u001b[0m in \u001b[0;36mload\u001b[1;34m(path, sr, mono, offset, duration, dtype, res_type)\u001b[0m\n\u001b[0;32m    145\u001b[0m     \u001b[1;32mtry\u001b[0m\u001b[1;33m:\u001b[0m\u001b[1;33m\u001b[0m\u001b[1;33m\u001b[0m\u001b[0m\n\u001b[1;32m--> 146\u001b[1;33m         \u001b[1;32mwith\u001b[0m \u001b[0msf\u001b[0m\u001b[1;33m.\u001b[0m\u001b[0mSoundFile\u001b[0m\u001b[1;33m(\u001b[0m\u001b[0mpath\u001b[0m\u001b[1;33m)\u001b[0m \u001b[1;32mas\u001b[0m \u001b[0msf_desc\u001b[0m\u001b[1;33m:\u001b[0m\u001b[1;33m\u001b[0m\u001b[1;33m\u001b[0m\u001b[0m\n\u001b[0m\u001b[0;32m    147\u001b[0m             \u001b[0msr_native\u001b[0m \u001b[1;33m=\u001b[0m \u001b[0msf_desc\u001b[0m\u001b[1;33m.\u001b[0m\u001b[0msamplerate\u001b[0m\u001b[1;33m\u001b[0m\u001b[1;33m\u001b[0m\u001b[0m\n",
      "\u001b[1;32mc:\\users\\aucouturier\\appdata\\local\\programs\\python\\python36\\lib\\site-packages\\soundfile.py\u001b[0m in \u001b[0;36m__init__\u001b[1;34m(self, file, mode, samplerate, channels, subtype, endian, format, closefd)\u001b[0m\n\u001b[0;32m    628\u001b[0m                                          format, subtype, endian)\n\u001b[1;32m--> 629\u001b[1;33m         \u001b[0mself\u001b[0m\u001b[1;33m.\u001b[0m\u001b[0m_file\u001b[0m \u001b[1;33m=\u001b[0m \u001b[0mself\u001b[0m\u001b[1;33m.\u001b[0m\u001b[0m_open\u001b[0m\u001b[1;33m(\u001b[0m\u001b[0mfile\u001b[0m\u001b[1;33m,\u001b[0m \u001b[0mmode_int\u001b[0m\u001b[1;33m,\u001b[0m \u001b[0mclosefd\u001b[0m\u001b[1;33m)\u001b[0m\u001b[1;33m\u001b[0m\u001b[1;33m\u001b[0m\u001b[0m\n\u001b[0m\u001b[0;32m    630\u001b[0m         \u001b[1;32mif\u001b[0m \u001b[0mset\u001b[0m\u001b[1;33m(\u001b[0m\u001b[0mmode\u001b[0m\u001b[1;33m)\u001b[0m\u001b[1;33m.\u001b[0m\u001b[0missuperset\u001b[0m\u001b[1;33m(\u001b[0m\u001b[1;34m'r+'\u001b[0m\u001b[1;33m)\u001b[0m \u001b[1;32mand\u001b[0m \u001b[0mself\u001b[0m\u001b[1;33m.\u001b[0m\u001b[0mseekable\u001b[0m\u001b[1;33m(\u001b[0m\u001b[1;33m)\u001b[0m\u001b[1;33m:\u001b[0m\u001b[1;33m\u001b[0m\u001b[1;33m\u001b[0m\u001b[0m\n",
      "\u001b[1;32mc:\\users\\aucouturier\\appdata\\local\\programs\\python\\python36\\lib\\site-packages\\soundfile.py\u001b[0m in \u001b[0;36m_open\u001b[1;34m(self, file, mode_int, closefd)\u001b[0m\n\u001b[0;32m   1183\u001b[0m         _error_check(_snd.sf_error(file_ptr),\n\u001b[1;32m-> 1184\u001b[1;33m                      \"Error opening {0!r}: \".format(self.name))\n\u001b[0m\u001b[0;32m   1185\u001b[0m         \u001b[1;32mif\u001b[0m \u001b[0mmode_int\u001b[0m \u001b[1;33m==\u001b[0m \u001b[0m_snd\u001b[0m\u001b[1;33m.\u001b[0m\u001b[0mSFM_WRITE\u001b[0m\u001b[1;33m:\u001b[0m\u001b[1;33m\u001b[0m\u001b[1;33m\u001b[0m\u001b[0m\n",
      "\u001b[1;32mc:\\users\\aucouturier\\appdata\\local\\programs\\python\\python36\\lib\\site-packages\\soundfile.py\u001b[0m in \u001b[0;36m_error_check\u001b[1;34m(err, prefix)\u001b[0m\n\u001b[0;32m   1356\u001b[0m         \u001b[0merr_str\u001b[0m \u001b[1;33m=\u001b[0m \u001b[0m_snd\u001b[0m\u001b[1;33m.\u001b[0m\u001b[0msf_error_number\u001b[0m\u001b[1;33m(\u001b[0m\u001b[0merr\u001b[0m\u001b[1;33m)\u001b[0m\u001b[1;33m\u001b[0m\u001b[1;33m\u001b[0m\u001b[0m\n\u001b[1;32m-> 1357\u001b[1;33m         \u001b[1;32mraise\u001b[0m \u001b[0mRuntimeError\u001b[0m\u001b[1;33m(\u001b[0m\u001b[0mprefix\u001b[0m \u001b[1;33m+\u001b[0m \u001b[0m_ffi\u001b[0m\u001b[1;33m.\u001b[0m\u001b[0mstring\u001b[0m\u001b[1;33m(\u001b[0m\u001b[0merr_str\u001b[0m\u001b[1;33m)\u001b[0m\u001b[1;33m.\u001b[0m\u001b[0mdecode\u001b[0m\u001b[1;33m(\u001b[0m\u001b[1;34m'utf-8'\u001b[0m\u001b[1;33m,\u001b[0m \u001b[1;34m'replace'\u001b[0m\u001b[1;33m)\u001b[0m\u001b[1;33m)\u001b[0m\u001b[1;33m\u001b[0m\u001b[1;33m\u001b[0m\u001b[0m\n\u001b[0m\u001b[0;32m   1358\u001b[0m \u001b[1;33m\u001b[0m\u001b[0m\n",
      "\u001b[1;31mRuntimeError\u001b[0m: Error opening '../experiment/sounds//Piano.mf.A1.t.shift-50.wav': System error.",
      "\nDuring handling of the above exception, another exception occurred:\n",
      "\u001b[1;31mFileNotFoundError\u001b[0m                         Traceback (most recent call last)",
      "\u001b[1;32m<ipython-input-113-fb269a8b400c>\u001b[0m in \u001b[0;36m<module>\u001b[1;34m\u001b[0m\n\u001b[0;32m     10\u001b[0m     \u001b[1;31m# read base sound\u001b[0m\u001b[1;33m\u001b[0m\u001b[1;33m\u001b[0m\u001b[1;33m\u001b[0m\u001b[0m\n\u001b[0;32m     11\u001b[0m     \u001b[0msound_file\u001b[0m \u001b[1;33m=\u001b[0m \u001b[0msound_dir\u001b[0m\u001b[1;33m+\u001b[0m\u001b[1;34m\"/\"\u001b[0m\u001b[1;33m+\u001b[0m\u001b[0mrow\u001b[0m\u001b[1;33m[\u001b[0m\u001b[1;34m'file'\u001b[0m\u001b[1;33m]\u001b[0m\u001b[1;33m\u001b[0m\u001b[1;33m\u001b[0m\u001b[0m\n\u001b[1;32m---> 12\u001b[1;33m     \u001b[0mx\u001b[0m\u001b[1;33m,\u001b[0m \u001b[0msr\u001b[0m \u001b[1;33m=\u001b[0m \u001b[0mlibrosa\u001b[0m\u001b[1;33m.\u001b[0m\u001b[0mload\u001b[0m\u001b[1;33m(\u001b[0m\u001b[0msound_file\u001b[0m\u001b[1;33m)\u001b[0m \u001b[1;31m#sr=sampling_rate\u001b[0m\u001b[1;33m\u001b[0m\u001b[1;33m\u001b[0m\u001b[0m\n\u001b[0m\u001b[0;32m     13\u001b[0m \u001b[1;33m\u001b[0m\u001b[0m\n\u001b[0;32m     14\u001b[0m     \u001b[1;31m# generate pitch shifted versions by [10:90] cents\u001b[0m\u001b[1;33m\u001b[0m\u001b[1;33m\u001b[0m\u001b[1;33m\u001b[0m\u001b[0m\n",
      "\u001b[1;32mc:\\users\\aucouturier\\appdata\\local\\programs\\python\\python36\\lib\\site-packages\\librosa\\core\\audio.py\u001b[0m in \u001b[0;36mload\u001b[1;34m(path, sr, mono, offset, duration, dtype, res_type)\u001b[0m\n\u001b[0;32m    161\u001b[0m         \u001b[1;32mif\u001b[0m \u001b[0misinstance\u001b[0m\u001b[1;33m(\u001b[0m\u001b[0mpath\u001b[0m\u001b[1;33m,\u001b[0m \u001b[1;33m(\u001b[0m\u001b[0mstr\u001b[0m\u001b[1;33m,\u001b[0m \u001b[0mpathlib\u001b[0m\u001b[1;33m.\u001b[0m\u001b[0mPurePath\u001b[0m\u001b[1;33m)\u001b[0m\u001b[1;33m)\u001b[0m\u001b[1;33m:\u001b[0m\u001b[1;33m\u001b[0m\u001b[1;33m\u001b[0m\u001b[0m\n\u001b[0;32m    162\u001b[0m             \u001b[0mwarnings\u001b[0m\u001b[1;33m.\u001b[0m\u001b[0mwarn\u001b[0m\u001b[1;33m(\u001b[0m\u001b[1;34m\"PySoundFile failed. Trying audioread instead.\"\u001b[0m\u001b[1;33m)\u001b[0m\u001b[1;33m\u001b[0m\u001b[1;33m\u001b[0m\u001b[0m\n\u001b[1;32m--> 163\u001b[1;33m             \u001b[0my\u001b[0m\u001b[1;33m,\u001b[0m \u001b[0msr_native\u001b[0m \u001b[1;33m=\u001b[0m \u001b[0m__audioread_load\u001b[0m\u001b[1;33m(\u001b[0m\u001b[0mpath\u001b[0m\u001b[1;33m,\u001b[0m \u001b[0moffset\u001b[0m\u001b[1;33m,\u001b[0m \u001b[0mduration\u001b[0m\u001b[1;33m,\u001b[0m \u001b[0mdtype\u001b[0m\u001b[1;33m)\u001b[0m\u001b[1;33m\u001b[0m\u001b[1;33m\u001b[0m\u001b[0m\n\u001b[0m\u001b[0;32m    164\u001b[0m         \u001b[1;32melse\u001b[0m\u001b[1;33m:\u001b[0m\u001b[1;33m\u001b[0m\u001b[1;33m\u001b[0m\u001b[0m\n\u001b[0;32m    165\u001b[0m             \u001b[1;32mraise\u001b[0m \u001b[1;33m(\u001b[0m\u001b[0mexc\u001b[0m\u001b[1;33m)\u001b[0m\u001b[1;33m\u001b[0m\u001b[1;33m\u001b[0m\u001b[0m\n",
      "\u001b[1;32mc:\\users\\aucouturier\\appdata\\local\\programs\\python\\python36\\lib\\site-packages\\librosa\\core\\audio.py\u001b[0m in \u001b[0;36m__audioread_load\u001b[1;34m(path, offset, duration, dtype)\u001b[0m\n\u001b[0;32m    185\u001b[0m \u001b[1;33m\u001b[0m\u001b[0m\n\u001b[0;32m    186\u001b[0m     \u001b[0my\u001b[0m \u001b[1;33m=\u001b[0m \u001b[1;33m[\u001b[0m\u001b[1;33m]\u001b[0m\u001b[1;33m\u001b[0m\u001b[1;33m\u001b[0m\u001b[0m\n\u001b[1;32m--> 187\u001b[1;33m     \u001b[1;32mwith\u001b[0m \u001b[0maudioread\u001b[0m\u001b[1;33m.\u001b[0m\u001b[0maudio_open\u001b[0m\u001b[1;33m(\u001b[0m\u001b[0mpath\u001b[0m\u001b[1;33m)\u001b[0m \u001b[1;32mas\u001b[0m \u001b[0minput_file\u001b[0m\u001b[1;33m:\u001b[0m\u001b[1;33m\u001b[0m\u001b[1;33m\u001b[0m\u001b[0m\n\u001b[0m\u001b[0;32m    188\u001b[0m         \u001b[0msr_native\u001b[0m \u001b[1;33m=\u001b[0m \u001b[0minput_file\u001b[0m\u001b[1;33m.\u001b[0m\u001b[0msamplerate\u001b[0m\u001b[1;33m\u001b[0m\u001b[1;33m\u001b[0m\u001b[0m\n\u001b[0;32m    189\u001b[0m         \u001b[0mn_channels\u001b[0m \u001b[1;33m=\u001b[0m \u001b[0minput_file\u001b[0m\u001b[1;33m.\u001b[0m\u001b[0mchannels\u001b[0m\u001b[1;33m\u001b[0m\u001b[1;33m\u001b[0m\u001b[0m\n",
      "\u001b[1;32mc:\\users\\aucouturier\\appdata\\local\\programs\\python\\python36\\lib\\site-packages\\audioread\\__init__.py\u001b[0m in \u001b[0;36maudio_open\u001b[1;34m(path, backends)\u001b[0m\n\u001b[0;32m    109\u001b[0m     \u001b[1;32mfor\u001b[0m \u001b[0mBackendClass\u001b[0m \u001b[1;32min\u001b[0m \u001b[0mbackends\u001b[0m\u001b[1;33m:\u001b[0m\u001b[1;33m\u001b[0m\u001b[1;33m\u001b[0m\u001b[0m\n\u001b[0;32m    110\u001b[0m         \u001b[1;32mtry\u001b[0m\u001b[1;33m:\u001b[0m\u001b[1;33m\u001b[0m\u001b[1;33m\u001b[0m\u001b[0m\n\u001b[1;32m--> 111\u001b[1;33m             \u001b[1;32mreturn\u001b[0m \u001b[0mBackendClass\u001b[0m\u001b[1;33m(\u001b[0m\u001b[0mpath\u001b[0m\u001b[1;33m)\u001b[0m\u001b[1;33m\u001b[0m\u001b[1;33m\u001b[0m\u001b[0m\n\u001b[0m\u001b[0;32m    112\u001b[0m         \u001b[1;32mexcept\u001b[0m \u001b[0mDecodeError\u001b[0m\u001b[1;33m:\u001b[0m\u001b[1;33m\u001b[0m\u001b[1;33m\u001b[0m\u001b[0m\n\u001b[0;32m    113\u001b[0m             \u001b[1;32mpass\u001b[0m\u001b[1;33m\u001b[0m\u001b[1;33m\u001b[0m\u001b[0m\n",
      "\u001b[1;32mc:\\users\\aucouturier\\appdata\\local\\programs\\python\\python36\\lib\\site-packages\\audioread\\rawread.py\u001b[0m in \u001b[0;36m__init__\u001b[1;34m(self, filename)\u001b[0m\n\u001b[0;32m     60\u001b[0m     \"\"\"\n\u001b[0;32m     61\u001b[0m     \u001b[1;32mdef\u001b[0m \u001b[0m__init__\u001b[0m\u001b[1;33m(\u001b[0m\u001b[0mself\u001b[0m\u001b[1;33m,\u001b[0m \u001b[0mfilename\u001b[0m\u001b[1;33m)\u001b[0m\u001b[1;33m:\u001b[0m\u001b[1;33m\u001b[0m\u001b[1;33m\u001b[0m\u001b[0m\n\u001b[1;32m---> 62\u001b[1;33m         \u001b[0mself\u001b[0m\u001b[1;33m.\u001b[0m\u001b[0m_fh\u001b[0m \u001b[1;33m=\u001b[0m \u001b[0mopen\u001b[0m\u001b[1;33m(\u001b[0m\u001b[0mfilename\u001b[0m\u001b[1;33m,\u001b[0m \u001b[1;34m'rb'\u001b[0m\u001b[1;33m)\u001b[0m\u001b[1;33m\u001b[0m\u001b[1;33m\u001b[0m\u001b[0m\n\u001b[0m\u001b[0;32m     63\u001b[0m \u001b[1;33m\u001b[0m\u001b[0m\n\u001b[0;32m     64\u001b[0m         \u001b[1;32mtry\u001b[0m\u001b[1;33m:\u001b[0m\u001b[1;33m\u001b[0m\u001b[1;33m\u001b[0m\u001b[0m\n",
      "\u001b[1;31mFileNotFoundError\u001b[0m: [Errno 2] No such file or directory: '../experiment/sounds//Piano.mf.A1.t.shift-50.wav'"
     ]
    }
   ],
   "source": [
    "files = []\n",
    "dynamics = [] \n",
    "pitches = []\n",
    "notes = []\n",
    "shifts = []\n",
    "octaves = []\n",
    "\n",
    "for index, row in sounds.iterrows():\n",
    "        \n",
    "    # read base sound\n",
    "    sound_file = sound_dir+\"/\"+row['file']\n",
    "    x, sr = librosa.load(sound_file) #sr=sampling_rate\n",
    "        \n",
    "    # generate pitch shifted versions by [10:90] cents\n",
    "    for cent in np.arange(-50,+50,10):\n",
    "        pitch_scale_factor = np.power(2,cent/1200) # pitch factor 2^(n/1200)\n",
    "        print(\"scale %s by %.2f; \"%(row['file'],pitch_scale_factor), end ='')\n",
    "        #transformed, times, f0s = vmo.pitch_scaling_snm(np.array(x), sr, sps= pitch_scale_factor)\n",
    "        transformed = vmo.pitch_scaling_doubledelay(np.array(x), sr, sps= pitch_scale_factor)\n",
    "        \n",
    "        output_file = os.path.splitext(os.path.basename(row['file']))[0] + \".shift%+d.wav\"%cent\n",
    "        wavfile.write(sound_dir + \"/transformed/\" + output_file, sr, transformed)\n",
    "    \n",
    "        files.append('transformed/'+output_file)\n",
    "        dynamics.append(row['dynamics'])\n",
    "        notes.append(row['note'])\n",
    "        octaves.append(row['octave'])\n",
    "        pitches.append(row['pitch']*pitch_scale_factor)\n",
    "        shifts.append(cent)\n",
    "        \n",
    "\n",
    "# save in a file        \n",
    "sounds = pd.read_csv('../experiment/sounds/list.csv') \n",
    "\n",
    "# mark base sounds as original\n",
    "sounds['origin'] = 'original'\n",
    "sounds['shift'] = 0\n",
    "\n",
    "new_sounds = pd.DataFrame({\"file\":files,\n",
    "                      \"note\":notes,\n",
    "                      \"dynamics\":dynamics,\n",
    "                           \"octave\":octaves,\n",
    "                      \"pitch\":pitches, \n",
    "                          'shift':shifts})\n",
    "new_sounds['origin'] = 'transformed'\n",
    "sounds = sounds.append(new_sounds)"
   ]
  },
  {
   "cell_type": "code",
   "execution_count": 118,
   "metadata": {
    "ExecuteTime": {
     "end_time": "2021-05-01T12:36:50.419076Z",
     "start_time": "2021-05-01T12:36:50.406074Z"
    }
   },
   "outputs": [],
   "source": [
    "sounds.to_csv('../experiment/sounds/list.csv')"
   ]
  },
  {
   "cell_type": "code",
   "execution_count": null,
   "metadata": {},
   "outputs": [],
   "source": []
  }
 ],
 "metadata": {
  "kernelspec": {
   "display_name": "Python 3",
   "language": "python",
   "name": "python3"
  },
  "language_info": {
   "codemirror_mode": {
    "name": "ipython",
    "version": 3
   },
   "file_extension": ".py",
   "mimetype": "text/x-python",
   "name": "python",
   "nbconvert_exporter": "python",
   "pygments_lexer": "ipython3",
   "version": "3.9.4"
  },
  "toc": {
   "base_numbering": 1,
   "nav_menu": {},
   "number_sections": true,
   "sideBar": true,
   "skip_h1_title": true,
   "title_cell": "Table of Contents",
   "title_sidebar": "Contents",
   "toc_cell": false,
   "toc_position": {},
   "toc_section_display": true,
   "toc_window_display": true
  }
 },
 "nbformat": 4,
 "nbformat_minor": 4
}
