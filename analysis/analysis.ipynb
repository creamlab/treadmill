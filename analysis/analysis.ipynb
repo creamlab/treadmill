{
 "cells": [
  {
   "cell_type": "code",
   "execution_count": 2,
   "metadata": {
    "ExecuteTime": {
     "end_time": "2022-09-20T13:11:21.991571Z",
     "start_time": "2022-09-20T13:11:18.795386Z"
    }
   },
   "outputs": [
    {
     "name": "stderr",
     "output_type": "stream",
     "text": [
      "c:\\users\\aucouturier\\appdata\\local\\programs\\python\\python36\\lib\\site-packages\\outdated\\utils.py:18: OutdatedPackageWarning: The package pingouin is out of date. Your version is 0.3.12, the latest is 0.5.2.\n",
      "Set the environment variable OUTDATED_IGNORE=1 to disable these warnings.\n",
      "  **kwargs\n",
      "c:\\users\\aucouturier\\appdata\\local\\programs\\python\\python36\\lib\\site-packages\\outdated\\utils.py:18: OutdatedPackageWarning: The package outdated is out of date. Your version is 0.2.0, the latest is 0.2.1.\n",
      "Set the environment variable OUTDATED_IGNORE=1 to disable these warnings.\n",
      "  **kwargs\n"
     ]
    }
   ],
   "source": [
    "import pandas as pd\n",
    "import numpy as np\n",
    "from matplotlib import pyplot as plt\n",
    "from datetime import datetime\n",
    "from scipy import signal\n",
    "from pandasql import sqldf\n",
    "import seaborn as sns\n",
    "import pingouin as pg\n",
    "from collections import defaultdict\n",
    "import glob\n",
    "import statsmodels.api as sm\n",
    "import ast\n",
    "from scipy import stats"
   ]
  },
  {
   "cell_type": "markdown",
   "metadata": {},
   "source": [
    "# Cracking the pitch code of music-motor synchronization using data-driven methods\n",
    "&copy; Leo Migotti, Quentin Decultot, JJ Aucouturier, 2021-2022"
   ]
  },
  {
   "cell_type": "markdown",
   "metadata": {},
   "source": [
    "The study of auditory-motor synchronization with music has been so far mostly concerned with timing. For instance, research has established that people are able to spontaneously coordinate with musical beat when walking or running (Styns et al. 2007). Yet, music is more than a metronome, and the relation between the spectral dimension of music, i.e. parameters such as its pitch, timber, or harmonic structure, and simultaneous motion  remains nearly unknown. \n",
    "\n",
    "Here, we introduce a novel data-driven paradigm in which participants were asked to walk on a treadmill while listening to a large variety of musical tones systematically varied in pitch. Using analysis techniques inspired by psychophysical reverse correlation, we show that participant gait patterns while walking to music spontaneously encode pitch height: despite being instructed to simply synchronize in time, participants steps were also both longer and heavier on tones with lower pitches. \n",
    "\n",
    "These findings reveal that, similarly to time perception, pitch cognition is at least partially embodied, and suggest that listeners' spontaneous motor reactions to pitch might ground their ability to mentally represent music."
   ]
  },
  {
   "cell_type": "markdown",
   "metadata": {},
   "source": [
    "## Materials and methods"
   ]
  },
  {
   "cell_type": "markdown",
   "metadata": {},
   "source": [
    "### Participants"
   ]
  },
  {
   "cell_type": "markdown",
   "metadata": {},
   "source": [
    "N=20 young (M=25.5, SD=7), western, educated participants (male: 11, female: 9) participated in the experiment. "
   ]
  },
  {
   "cell_type": "code",
   "execution_count": 39,
   "metadata": {
    "ExecuteTime": {
     "end_time": "2022-09-12T13:55:36.575023Z",
     "start_time": "2022-09-12T13:55:36.101015Z"
    }
   },
   "outputs": [],
   "source": [
    "answers_msi = pd.read_csv('data/gold_msi.csv')"
   ]
  },
  {
   "cell_type": "code",
   "execution_count": 40,
   "metadata": {
    "ExecuteTime": {
     "end_time": "2022-09-12T13:55:36.581988Z",
     "start_time": "2022-09-12T13:55:36.576019Z"
    }
   },
   "outputs": [],
   "source": [
    "rename={'Horodateur':'date',\n",
    " 'Numéro_de_participant':'participant',\n",
    " 'Quel_est_votre_âge':'age',\n",
    " 'Vous_considérez_vous_comme_musicien':'musician',\n",
    " 'Civilité':'gender',\n",
    " 'J_écoute_souvent_certaines_musiques_pour_me_motiver_ou_m_enthousiasmer':'MSI_MOTI',\n",
    " 'Je_suis_capable_de_parler_des_émotions_qu_évoque_pour_moi_un_morceau_de_musique':'MSI_EMOT',\n",
    " 'La_musique_peut_m_évoquer_des_souvenirs_de_personnes_ou_d_endroits_du_passé':'MSI_MEMO',\n",
    " 'Je_consacre_une_partie_importante_de_mon_temps_libre_à_des_activités_liées_à_la_musique':'MSI_TIME',\n",
    " 'Je_lis_ou_je_cherche_souvent_sur_internet_des_informations_en_lien_avec_la_musique':'MSI_INFO',\n",
    " 'Je_ne_pourrais_pas_vivre_sans_musique':'MSI_LIFE',\n",
    " 'Pendant_combien_de_temps_avez_vous_suivi_un_entraînement_formel_en_théorie_ou_en_pratique_de_la_musique_ex_cours_de_solfège_d_instrument':'time_training',\n",
    " 'De_combien_d_instruments_de_musique_savez_vous_jouer':'nb_instrument',\n",
    " 'Je_trouve_difficile_de_repérer_les_fautes_dans_l_exécution_d_une_chanson_ou_d_un_morceau_même_si_je_connais_la_mélodie':'MSI_DIFF',\n",
    " 'Je_suis_capable_de_dire_si_quelqu_un_ne_chante_ou_ne_joue_pas_en_rythme':'MSI_RYTM',\n",
    " 'Je_suis_capable_de_dire_quand_quelqu_un_chante_ou_joue_faux':'MSI_FAUX',\n",
    " 'Je_suis_capable_de_trouver_les_bonnes_notes_lorsque_je_chante_accompagné_e_d_un_enregistrement':'MSI_ACCO',\n",
    " 'Si_quelqu_un_chante_une_chanson_que_je_ne_connais_pas_je_peux_me_mettre_à_la_chanter_avec_lui_ou_avec_elle':'MSI_AVEC',\n",
    " 'Je_n_aime_pas_chanter_en_public_car_j_ai_peur_de_chanter_les_mauvaises_notes':'MSI_PEUR',\n",
    " 'Avez_vous_l_oreille_absolue':'absolu'}\n",
    "answers_msi = answers_msi.rename(columns=rename)"
   ]
  },
  {
   "cell_type": "code",
   "execution_count": 41,
   "metadata": {
    "ExecuteTime": {
     "end_time": "2022-09-12T13:55:36.587995Z",
     "start_time": "2022-09-12T13:55:36.583972Z"
    }
   },
   "outputs": [],
   "source": [
    "recode_gender={'Monsieur':'M',\n",
    "             'Madame':'F'}\n",
    "answers_msi.gender = answers_msi.gender.apply(lambda val: recode_gender[val]) "
   ]
  },
  {
   "cell_type": "code",
   "execution_count": 42,
   "metadata": {
    "ExecuteTime": {
     "end_time": "2022-09-12T13:55:36.596956Z",
     "start_time": "2022-09-12T13:55:36.588958Z"
    }
   },
   "outputs": [
    {
     "name": "stdout",
     "output_type": "stream",
     "text": [
      "gender\n",
      "F     9\n",
      "M    11\n",
      "Name: participant, dtype: int64\n",
      "count    20.000000\n",
      "mean     25.550000\n",
      "std       7.059708\n",
      "min      19.000000\n",
      "25%      21.000000\n",
      "50%      23.000000\n",
      "75%      26.500000\n",
      "max      44.000000\n",
      "Name: age, dtype: float64\n"
     ]
    }
   ],
   "source": [
    "print(answers_msi.groupby(['gender']).participant.count())\n",
    "print(answers_msi.age.describe())\n"
   ]
  },
  {
   "cell_type": "markdown",
   "metadata": {},
   "source": [
    "N=13 participants (65\\%) self-declared as musicians (M=8.6y of musical training). In addition, all participants completed a short self-report survey consisting of 15 items extracted from the Goldsmith Music Sophistication Index (MSI) measuring their active engagement with music, perceptual abilities, musical training and singing abilities. MSI scores significantly differed between musicians (M=51.4) and non-musicians (M=38.8; t(11.7)=2.66, p=.0209, \\[2.26, 22.79\\], Cohen's d=1.3). In the following, we coded participants as musicians based on their original self-report.  "
   ]
  },
  {
   "cell_type": "code",
   "execution_count": 43,
   "metadata": {
    "ExecuteTime": {
     "end_time": "2022-09-12T13:55:36.602955Z",
     "start_time": "2022-09-12T13:55:36.598961Z"
    }
   },
   "outputs": [],
   "source": [
    "recode_time={'2 ans':2,\n",
    "             'Jamais':0,\n",
    "             '3 à 5 ans':3,\n",
    "             '10 ans et plus':10,\n",
    "             '15 ans':15,\n",
    "             '6 à 9 ans':6,\n",
    "             '6 ans':5}\n",
    "answers_msi.time_training = answers_msi.time_training.apply(lambda val: recode_time[val]) "
   ]
  },
  {
   "cell_type": "code",
   "execution_count": 44,
   "metadata": {
    "ExecuteTime": {
     "end_time": "2022-09-12T13:55:36.611898Z",
     "start_time": "2022-09-12T13:55:36.604916Z"
    }
   },
   "outputs": [],
   "source": [
    "# deduce musical score from MSI test data\n",
    "answers_msi['musical_score'] = (answers_msi.MSI_MOTI +\n",
    "                                answers_msi.MSI_EMOT +\n",
    "                                answers_msi.MSI_MEMO +\n",
    "                                answers_msi.MSI_TIME +\n",
    "                                answers_msi.MSI_INFO +\n",
    "                                answers_msi.MSI_LIFE + \n",
    "                                (- answers_msi.MSI_DIFF) +\n",
    "                                answers_msi.MSI_RYTM +\n",
    "                                answers_msi.MSI_FAUX + \n",
    "                                answers_msi.MSI_ACCO +\n",
    "                                answers_msi.MSI_AVEC +\n",
    "                                ( - answers_msi.MSI_PEUR))\n"
   ]
  },
  {
   "cell_type": "code",
   "execution_count": 45,
   "metadata": {
    "ExecuteTime": {
     "end_time": "2022-09-12T13:55:36.853287Z",
     "start_time": "2022-09-12T13:55:36.613892Z"
    }
   },
   "outputs": [
    {
     "data": {
      "text/plain": [
       "<matplotlib.axes._subplots.AxesSubplot at 0x27b2941cef0>"
      ]
     },
     "execution_count": 45,
     "metadata": {},
     "output_type": "execute_result"
    },
    {
     "data": {
      "image/png": "[encoded data removed]",
      "text/plain": [
       "<Figure size 432x288 with 2 Axes>"
      ]
     },
     "metadata": {
      "needs_background": "light"
     },
     "output_type": "display_data"
    }
   ],
   "source": [
    "plt.subplot(1,2,1)\n",
    "sns.barplot(data=answers_msi,\n",
    "              x='musician',order=['non','oui'],\n",
    "              y='musical_score')\n",
    "plt.subplot(1,2,2)\n",
    "sns.barplot(data=answers_msi,\n",
    "              x='musician',order=['non','oui'],\n",
    "              y='time_training')"
   ]
  },
  {
   "cell_type": "code",
   "execution_count": 46,
   "metadata": {
    "ExecuteTime": {
     "end_time": "2022-09-12T13:55:36.864256Z",
     "start_time": "2022-09-12T13:55:36.854249Z"
    }
   },
   "outputs": [
    {
     "data": {
      "text/html": [
       "<div>\n",
       "<style scoped>\n",
       "    .dataframe tbody tr th:only-of-type {\n",
       "        vertical-align: middle;\n",
       "    }\n",
       "\n",
       "    .dataframe tbody tr th {\n",
       "        vertical-align: top;\n",
       "    }\n",
       "\n",
       "    .dataframe thead th {\n",
       "        text-align: right;\n",
       "    }\n",
       "</style>\n",
       "<table border=\"1\" class=\"dataframe\">\n",
       "  <thead>\n",
       "    <tr style=\"text-align: right;\">\n",
       "      <th></th>\n",
       "      <th>participant</th>\n",
       "      <th>musical_score</th>\n",
       "      <th>time_training</th>\n",
       "    </tr>\n",
       "    <tr>\n",
       "      <th>musician</th>\n",
       "      <th></th>\n",
       "      <th></th>\n",
       "      <th></th>\n",
       "    </tr>\n",
       "  </thead>\n",
       "  <tbody>\n",
       "    <tr>\n",
       "      <th>non</th>\n",
       "      <td>7</td>\n",
       "      <td>38.857143</td>\n",
       "      <td>1.000000</td>\n",
       "    </tr>\n",
       "    <tr>\n",
       "      <th>oui</th>\n",
       "      <td>13</td>\n",
       "      <td>51.384615</td>\n",
       "      <td>8.615385</td>\n",
       "    </tr>\n",
       "  </tbody>\n",
       "</table>\n",
       "</div>"
      ],
      "text/plain": [
       "          participant  musical_score  time_training\n",
       "musician                                           \n",
       "non                 7      38.857143       1.000000\n",
       "oui                13      51.384615       8.615385"
      ]
     },
     "execution_count": 46,
     "metadata": {},
     "output_type": "execute_result"
    }
   ],
   "source": [
    "answers_msi.groupby(['musician']).agg({'participant':'count','musical_score':'mean', 'time_training':'mean'})"
   ]
  },
  {
   "cell_type": "code",
   "execution_count": 47,
   "metadata": {
    "ExecuteTime": {
     "end_time": "2022-09-12T13:55:36.879185Z",
     "start_time": "2022-09-12T13:55:36.865269Z"
    }
   },
   "outputs": [
    {
     "data": {
      "text/html": [
       "<div>\n",
       "<style scoped>\n",
       "    .dataframe tbody tr th:only-of-type {\n",
       "        vertical-align: middle;\n",
       "    }\n",
       "\n",
       "    .dataframe tbody tr th {\n",
       "        vertical-align: top;\n",
       "    }\n",
       "\n",
       "    .dataframe thead th {\n",
       "        text-align: right;\n",
       "    }\n",
       "</style>\n",
       "<table border=\"1\" class=\"dataframe\">\n",
       "  <thead>\n",
       "    <tr style=\"text-align: right;\">\n",
       "      <th></th>\n",
       "      <th>T</th>\n",
       "      <th>dof</th>\n",
       "      <th>tail</th>\n",
       "      <th>p-val</th>\n",
       "      <th>CI95%</th>\n",
       "      <th>cohen-d</th>\n",
       "      <th>BF10</th>\n",
       "      <th>power</th>\n",
       "    </tr>\n",
       "  </thead>\n",
       "  <tbody>\n",
       "    <tr>\n",
       "      <th>T-test</th>\n",
       "      <td>2.666661</td>\n",
       "      <td>11.719178</td>\n",
       "      <td>two-sided</td>\n",
       "      <td>0.0209</td>\n",
       "      <td>[2.26, 22.79]</td>\n",
       "      <td>1.275655</td>\n",
       "      <td>3.724</td>\n",
       "      <td>0.730311</td>\n",
       "    </tr>\n",
       "  </tbody>\n",
       "</table>\n",
       "</div>"
      ],
      "text/plain": [
       "               T        dof       tail   p-val          CI95%   cohen-d  \\\n",
       "T-test  2.666661  11.719178  two-sided  0.0209  [2.26, 22.79]  1.275655   \n",
       "\n",
       "         BF10     power  \n",
       "T-test  3.724  0.730311  "
      ]
     },
     "execution_count": 47,
     "metadata": {},
     "output_type": "execute_result"
    }
   ],
   "source": [
    "pg.ttest(answers_msi[answers_msi.musician=='oui'].musical_score,answers_msi[answers_msi.musician=='non'].musical_score)"
   ]
  },
  {
   "cell_type": "code",
   "execution_count": 48,
   "metadata": {
    "ExecuteTime": {
     "end_time": "2022-09-12T13:55:37.026824Z",
     "start_time": "2022-09-12T13:55:36.880181Z"
    }
   },
   "outputs": [
    {
     "name": "stderr",
     "output_type": "stream",
     "text": [
      "c:\\users\\aucouturier\\appdata\\local\\programs\\python\\python36\\lib\\site-packages\\seaborn\\distributions.py:2619: FutureWarning: `distplot` is a deprecated function and will be removed in a future version. Please adapt your code to use either `displot` (a figure-level function with similar flexibility) or `histplot` (an axes-level function for histograms).\n",
      "  warnings.warn(msg, FutureWarning)\n",
      "c:\\users\\aucouturier\\appdata\\local\\programs\\python\\python36\\lib\\site-packages\\seaborn\\distributions.py:2619: FutureWarning: `distplot` is a deprecated function and will be removed in a future version. Please adapt your code to use either `displot` (a figure-level function with similar flexibility) or `histplot` (an axes-level function for histograms).\n",
      "  warnings.warn(msg, FutureWarning)\n"
     ]
    },
    {
     "data": {
      "text/plain": [
       "<matplotlib.axes._subplots.AxesSubplot at 0x27b191a5f98>"
      ]
     },
     "execution_count": 48,
     "metadata": {},
     "output_type": "execute_result"
    },
    {
     "data": {
      "image/png": "[encoded data removed]",
      "text/plain": [
       "<Figure size 432x288 with 1 Axes>"
      ]
     },
     "metadata": {
      "needs_background": "light"
     },
     "output_type": "display_data"
    }
   ],
   "source": [
    "sns.distplot(answers_msi[answers_msi.musician=='oui'].groupby(['participant']).musical_score.mean(), color='b', bins=10)\n",
    "sns.distplot(answers_msi[answers_msi.musician=='non'].groupby(['participant']).musical_score.mean(), color='g', bins=10)"
   ]
  },
  {
   "cell_type": "code",
   "execution_count": 49,
   "metadata": {
    "ExecuteTime": {
     "end_time": "2022-09-12T13:55:37.034767Z",
     "start_time": "2022-09-12T13:55:37.027785Z"
    }
   },
   "outputs": [
    {
     "data": {
      "text/plain": [
       "musician_msi  musician\n",
       "False         non         5\n",
       "              oui         4\n",
       "True          non         2\n",
       "              oui         9\n",
       "Name: participant, dtype: int64"
      ]
     },
     "execution_count": 49,
     "metadata": {},
     "output_type": "execute_result"
    }
   ],
   "source": [
    "answers_msi['musician_msi'] = answers_msi.musical_score >= answers_msi.musical_score.median() \n",
    "answers_msi.groupby(['musician_msi','musician']).participant.count()"
   ]
  },
  {
   "cell_type": "markdown",
   "metadata": {},
   "source": [
    "### Procedure"
   ]
  },
  {
   "cell_type": "markdown",
   "metadata": {},
   "source": [
    "We tasked our participants to walk on a force-sensing treadmill while listening to a large variety of musical tones systematically varied in pitch. \n",
    "\n",
    "Prior to each session, participants were asked to stand still once on each side of the treadmill for calibration. Treadmill was then started, its speed set at a slow walking speed (M=2.5km/h) and participants practiced walking to the sound of a metronome (75 bpm, period=0.8s) until they were comfortable with the task.\n",
    "\n",
    "Participants were then instructed to walk on the treadmill and to synchronize their steps with a sequence of piano notes they heard through headphones, without the support of handrails and as naturally as possible. Each session used an uninterrupted sequence of 750 sound events, played at a constant rate of 75bpm (period=0.8s), amounting to a total of 10min. \n",
    "\n",
    "Participants were told a cover story that we were interested in how well people could adjust their timing to the period of the sounds, that the pitch content of the notes was irrelevant and just introduced for variety, and that they should focus their attention on walking synchronously with the sequence. Participants were then debriefed to the true purpose of the experiment, which was in fact to examine the effect of pitch height on their walking gate. "
   ]
  },
  {
   "cell_type": "markdown",
   "metadata": {},
   "source": [
    "### Apparatus"
   ]
  },
  {
   "cell_type": "markdown",
   "metadata": {},
   "source": [
    "Step data was acquired using a legacy instrumented treadmill (<mark>XXX</mark>), equipped with two force platforms measuring the time series of forces of each limb during walking, along the X (medio-lateral), Y (antero-posterior) and Z (vertical) dimensions. The treadmill was interfaced to our software using a generic USB I/O acquisition card (NI-6008, National Instrument). Data was acquired at a sample rate of 1000Hz, and recorded continuously for the duration of one experiment (XXmin). \n",
    "While they walked on the treadmill, participants were presented with sequences of musical notes using commercial wireless headphones (Beats Solo3). Using custom software written in Python (https://github.com/neuro-team-femto/treadmill), we synchronized step data acquisition with the triggering of each musical note, in order to be able to associate the time series of each step to the corresponding sound event. "
   ]
  },
  {
   "cell_type": "markdown",
   "metadata": {},
   "source": [
    "### Sounds"
   ]
  },
  {
   "cell_type": "markdown",
   "metadata": {},
   "source": [
    "Sound stimuli were extracted from the University of Iowa Musical Instrument Samples (MIS) dataset \\url{https://theremin.music.uiowa.edu/MIS.html} and consisted in high-quality recordings of a Steinway & Sons model B piano, made in Nov. 2001 at the Voxman Auditorium, University of Iowa (Iowa City, USA) using a Neumann KM84 microphone. We selected one recording for each of the 24 notes spanning octaves 4 and 5, i.e. from C4 (263.3 Hz) to B5 (1016.0 Hz), by steps of one semitone), played at medium dynamics (_mf_). To ensure that stimuli could be accurately synchronized to step data later in the experiment, we then normalized the loudness of the files, trimmed any initial silence (using a threshold at -30dB) and faded out each recording after 1.5sec so that all had the same duration.\n",
    "\n",
    "We then produced a second derivative dataset by applying an algorithmic pitch transformation (pitch shifting) to each of the original files, in such a way that its fundamental frequency was reduced by 10, 20, 30, 40 or 50\\% of a semitone (or cents). Pitch shifting was done using a python implementation of the phase vocoder algorithm \\cite{Burred}. Finally, we ran an automated pitch analysis algorithm (SWIPE, \\cite{Caracho}) to document each musical note with its actual fundamental frequency, after pitch shifting. \n",
    "This resulted in a dataset of 240 musical notes, spanning the entire range of frequencies from a low-tuned C4 (255.8Hz) to a high-tuned B5 (1045.8Hz), by steps of 10% of a semitone (10 cents, corresponding to logarithmically increasing steps in Hz, from 1.5Hz at C4 to 5.9Hz at G5).\n",
    "\n",
    "We then presented each participant with a random sequence of 750 sound events extracted from this dataset of 240-notes. Notes were played at the constant rate of 75bpm (period=0.8s), amounting to a total of 10min., and each note was repeated three consecutive times. In pilot studies, we experimented with several configurations, using only original recordings or using all pitch-shifted recordings, using notes from 2 octaves or 5 octaves, and using isolated or repeated notes. Because we found that, consistently with the literature (\\cite{}), participants tended to anticipate the onset of the note to synchronize their steps (Figure XXX), we decided to present each note three consecutive times so that steps 2 and 3 could be initiated and performed after one complete hearing of the corresponding note.   \n",
    "\n",
    "\n",
    "\n"
   ]
  },
  {
   "cell_type": "code",
   "execution_count": 50,
   "metadata": {
    "ExecuteTime": {
     "end_time": "2022-09-12T13:55:37.044740Z",
     "start_time": "2022-09-12T13:55:37.035764Z"
    }
   },
   "outputs": [
    {
     "name": "stdout",
     "output_type": "stream",
     "text": [
      "Original C4 is 263.3 Hz, and -50cents is 255.8 Hz\n",
      "Original B5 is 1016.0 Hz, and +50cents is 1045.8 Hz\n"
     ]
    }
   ],
   "source": [
    "sounds_df = pd.read_csv('../experiment/sounds/list.csv')\n",
    "print(\"Original C4 is %.1f Hz, and -50cents is %.1f Hz\"%(float(sounds_df[sounds_df.note=='C4'].pitch),\n",
    "      float(sounds_df[sounds_df.note=='C4'].pitch)*2**(-50/1200)))\n",
    "print(\"Original B5 is %.1f Hz, and +50cents is %.1f Hz\"%(float(sounds_df[sounds_df.note=='B5'].pitch),\n",
    "      float(sounds_df[sounds_df.note=='B5'].pitch)*2**(+50/1200)))"
   ]
  },
  {
   "cell_type": "markdown",
   "metadata": {},
   "source": [
    "### Step data signal processing"
   ]
  },
  {
   "cell_type": "markdown",
   "metadata": {},
   "source": [
    "For each participant, we normalized the two time series of their left and right foot force data as percentage of the force corresponding to their standing weight, measured during calibration. We then resampled all time series at 100Hz and removed any linear trend across each session (due to treadmill electronics). Next, we segmented each participant's time series into individuel steps using a simple threshold procedure: candidate start- and endpoints for each step were positionned where the vertical force timeseries crossed (resp. upwards or downwards) a threshold set at 5% of the amplitude range of the series, and we eliminated false positives that had a step duration shorter than 100ms. Finally, we associated each step with its corresponding sound event by selecting, for each step, the first sound whose time onset was between the step's start and end point. Steps for which no sound events were found (e.g. after the sequence ended) were deleted from the dataset. "
   ]
  },
  {
   "cell_type": "markdown",
   "metadata": {},
   "source": [
    "#### Normalize, resample and detrend functions"
   ]
  },
  {
   "cell_type": "markdown",
   "metadata": {},
   "source": [
    "##### Normalize by weight"
   ]
  },
  {
   "cell_type": "code",
   "execution_count": 51,
   "metadata": {
    "ExecuteTime": {
     "end_time": "2022-09-12T13:55:37.075690Z",
     "start_time": "2022-09-12T13:55:37.045738Z"
    }
   },
   "outputs": [
    {
     "name": "stdout",
     "output_type": "stream",
     "text": [
      "left_weight: 1.479141, left_zero: -1.495401\n",
      "right_weight: 2.710569, right_zero: -0.030261\n"
     ]
    }
   ],
   "source": [
    "def extract_weight(data):\n",
    "    \n",
    "    # find reset index, corresponding to change of foot\n",
    "    reset_index = data[np.append([False],(np.diff(data.time)<0))].index[0]\n",
    "    \n",
    "    # tag foot\n",
    "    data.loc[:reset_index,'foot']='left'\n",
    "    data.loc[reset_index:,'foot']='right'\n",
    "    \n",
    "    # select median as mean weight per foot\n",
    "    mean_weights = data.groupby(['foot'])[['z_left','z_right']].median().reset_index()\n",
    "    min_weights = data.groupby(['foot'])[['z_left','z_right']].min().reset_index()\n",
    "    \n",
    "    left_weight = float(mean_weights[mean_weights.foot=='left'].z_left)\n",
    "    left_zero = float(min_weights[min_weights.foot=='right'].z_left) # absolute minimum of left treadmill when all weight in on right foot\n",
    "    \n",
    "    right_weight = float(mean_weights[mean_weights.foot=='right'].z_right)\n",
    "    right_zero = float(min_weights[min_weights.foot=='left'].z_right)# absolute minimum of right treadmill when all weight in on left foot\n",
    "    \n",
    "    return left_weight,left_zero,right_weight,right_zero\n",
    "\n",
    "weight_data='treadmill_participant_1_21_06_15_10_04_weight.csv'\n",
    "cols = ['time','x_left','y_left','z_left','x_right','y_right','z_right']\n",
    "weight_data = pd.read_csv('data/'+weight_data)\n",
    "weight_data[cols] = weight_data[cols].apply(pd.to_numeric)\n",
    "    \n",
    "left_weight,left_zero,right_weight,right_zero = extract_weight(weight_data)\n",
    "print('left_weight: %f, left_zero: %f'%(left_weight,left_zero))\n",
    "print('right_weight: %f, right_zero: %f'%(right_weight,right_zero))\n",
    "       "
   ]
  },
  {
   "cell_type": "code",
   "execution_count": 52,
   "metadata": {
    "ExecuteTime": {
     "end_time": "2022-09-12T13:55:38.259524Z",
     "start_time": "2022-09-12T13:55:37.076687Z"
    }
   },
   "outputs": [
    {
     "name": "stdout",
     "output_type": "stream",
     "text": [
      "left_weight: -0.046331, left_zero: -1.253465\n",
      "right_weight: 0.407864, right_zero: -0.631410\n",
      "ABNORMAL z_left VALUE AFTER NORM: -0.902954,1.238397\n",
      "ABNORMAL z_right VALUE AFTER NORM: -0.049020,2.225490\n"
     ]
    },
    {
     "data": {
      "text/html": [
       "<div>\n",
       "<style scoped>\n",
       "    .dataframe tbody tr th:only-of-type {\n",
       "        vertical-align: middle;\n",
       "    }\n",
       "\n",
       "    .dataframe tbody tr th {\n",
       "        vertical-align: top;\n",
       "    }\n",
       "\n",
       "    .dataframe thead th {\n",
       "        text-align: right;\n",
       "    }\n",
       "</style>\n",
       "<table border=\"1\" class=\"dataframe\">\n",
       "  <thead>\n",
       "    <tr style=\"text-align: right;\">\n",
       "      <th></th>\n",
       "      <th>z_left</th>\n",
       "      <th>z_right</th>\n",
       "    </tr>\n",
       "  </thead>\n",
       "  <tbody>\n",
       "    <tr>\n",
       "      <th>min</th>\n",
       "      <td>0.0</td>\n",
       "      <td>0.0</td>\n",
       "    </tr>\n",
       "    <tr>\n",
       "      <th>max</th>\n",
       "      <td>1.1</td>\n",
       "      <td>1.1</td>\n",
       "    </tr>\n",
       "  </tbody>\n",
       "</table>\n",
       "</div>"
      ],
      "text/plain": [
       "     z_left  z_right\n",
       "min     0.0      0.0\n",
       "max     1.1      1.1"
      ]
     },
     "execution_count": 52,
     "metadata": {},
     "output_type": "execute_result"
    }
   ],
   "source": [
    "def normalize_by_weight(df,left_weight,left_zero,right_weight,right_zero, error_threshold = [-0.5, 1.6], default_scale = 1.1):\n",
    "    \n",
    "     \n",
    "    norm_df = df.copy()\n",
    "    \n",
    "    norm_df['z_left'] = (norm_df.z_left - left_zero)/(left_weight-left_zero)\n",
    "    norm_df['z_right'] = (norm_df.z_right - right_zero)/(right_weight-right_zero)\n",
    "    \n",
    "    # rescale if values are abnormally high or low (e.g. because weight measure had problems)\n",
    "    for feature in ['z_left','z_right']:\n",
    "        if ((norm_df[feature].max()>error_threshold[1])|(norm_df[feature].min()<error_threshold[0])):\n",
    "            print('ABNORMAL %s VALUE AFTER NORM: %f,%f'%(feature,norm_df[feature].min(),norm_df[feature].max()))\n",
    "            norm_df[feature] = default_scale * (norm_df[feature] - norm_df[feature].min())/(norm_df[feature].max()- norm_df[feature].min())\n",
    "    \n",
    "    return norm_df\n",
    "\n",
    "treadmill_data='treadmill_participant_19_order_1_21_06_23_10_05_data.csv'\n",
    "cols = ['time','x_left','y_left','z_left','x_right','y_right','z_right']\n",
    "treadmill_data = pd.read_csv('data/'+treadmill_data)\n",
    "treadmill_data[cols] = treadmill_data[cols].apply(pd.to_numeric)\n",
    "\n",
    "weight_data='treadmill_participant_19_21_06_23_10_05_weight.csv'\n",
    "weight_data = pd.read_csv('data/'+weight_data)\n",
    "weight_data[cols] = weight_data[cols].apply(pd.to_numeric)\n",
    "left_weight,left_zero,right_weight,right_zero = extract_weight(weight_data)\n",
    "print('left_weight: %f, left_zero: %f'%(left_weight,left_zero))\n",
    "print('right_weight: %f, right_zero: %f'%(right_weight,right_zero))\n",
    "\n",
    "norm_df = normalize_by_weight(treadmill_data,left_weight,left_zero,right_weight,right_zero)\n",
    "norm_df.agg({'z_left':['min','max'],'z_right':['min','max']})\n",
    "    "
   ]
  },
  {
   "cell_type": "markdown",
   "metadata": {},
   "source": [
    "##### Resample"
   ]
  },
  {
   "cell_type": "code",
   "execution_count": 53,
   "metadata": {
    "ExecuteTime": {
     "end_time": "2022-09-12T13:55:39.674743Z",
     "start_time": "2022-09-12T13:55:38.260537Z"
    }
   },
   "outputs": [
    {
     "name": "stdout",
     "output_type": "stream",
     "text": [
      "['time', 'x_left', 'y_left', 'z_left', 'x_right', 'y_right', 'z_right', 'participant', 'config_file', 'order', 'condition_name']\n",
      "['x_left', 'y_left', 'z_left', 'x_right', 'y_right', 'z_right', 'time', 'participant', 'config_file', 'order', 'condition_name']\n"
     ]
    },
    {
     "data": {
      "text/plain": [
       "Text(0.5, 1.0, '100Hz')"
      ]
     },
     "execution_count": 53,
     "metadata": {},
     "output_type": "execute_result"
    },
    {
     "data": {
      "image/png": "[encoded data removed]",
      "text/plain": [
       "<Figure size 1440x360 with 2 Axes>"
      ]
     },
     "metadata": {
      "needs_background": "light"
     },
     "output_type": "display_data"
    }
   ],
   "source": [
    "def resample_all_cols(df, sr=1000, new_sr=100, time_col='time'): \n",
    "    # resample all data columns to new_sr\n",
    "    # not in place (copies df to new df)\n",
    "    \n",
    "    # list data columns \n",
    "    data_cols = ['x_left','y_left','z_left','x_right','y_right','z_right']\n",
    "    non_data_cols = list(df)\n",
    "    for data_col in data_cols: \n",
    "        non_data_cols.remove(data_col) \n",
    "    non_data_cols.remove(time_col)\n",
    "    \n",
    "    # resample data cols\n",
    "    resampled_df = pd.DataFrame()\n",
    "    for data_col in data_cols: \n",
    "        data = np.array(df[data_col])\n",
    "        time = np.array(df[time_col])\n",
    "        (new_data,new_time) = signal.resample(data,\n",
    "                                t=time,\n",
    "                                num = int((len(data)/sr)*new_sr))\n",
    "        resampled_df[data_col] = new_data\n",
    "    \n",
    "    # add resampled time    \n",
    "    resampled_df['time'] = new_time\n",
    "    \n",
    "    # add non_data columns\n",
    "    resampled_df[non_data_cols] = df[non_data_cols]\n",
    "    \n",
    "    return resampled_df\n",
    "\n",
    "# test\n",
    "treadmill_data='treadmill_participant_1_order_1_21_06_15_10_04_data.csv'\n",
    "cols = ['time','x_left','y_left','z_left','x_right','y_right','z_right']\n",
    "treadmill_data = pd.read_csv('data/'+treadmill_data)\n",
    "treadmill_data[cols] = treadmill_data[cols].apply(pd.to_numeric)\n",
    "sr=1000\n",
    "print(list(treadmill_data))\n",
    "\n",
    "rs_data = resample_all_cols(treadmill_data)\n",
    "\n",
    "print(list(rs_data))\n",
    "\n",
    "\n",
    "# plot original vs resampled \n",
    "x = np.array(treadmill_data['z_left'])\n",
    "t = np.array(treadmill_data['time'])\n",
    "fig = plt.figure(figsize=(20,5))\n",
    "ax = fig.add_subplot(1,2,1)\n",
    "plt.plot(t/1000,x,'k')\n",
    "plt.xlim([500, 501])\n",
    "plt.title('%dHz'%sr)\n",
    "ax = fig.add_subplot(1,2,2)\n",
    "x = np.array(rs_data['z_left'])\n",
    "t = np.array(rs_data['time'])\n",
    "plt.plot(t/1000,x,'b')\n",
    "plt.xlim([500, 501])\n",
    "plt.title('%dHz'%100)"
   ]
  },
  {
   "cell_type": "markdown",
   "metadata": {},
   "source": [
    "##### Detrend"
   ]
  },
  {
   "cell_type": "code",
   "execution_count": 54,
   "metadata": {
    "ExecuteTime": {
     "end_time": "2022-09-12T13:55:41.161733Z",
     "start_time": "2022-09-12T13:55:39.675707Z"
    }
   },
   "outputs": [
    {
     "name": "stdout",
     "output_type": "stream",
     "text": [
      "['x_left', 'y_left', 'z_left', 'x_right', 'y_right', 'z_right', 'time', 'participant', 'config_file', 'order', 'condition_name']\n"
     ]
    },
    {
     "data": {
      "text/plain": [
       "(-2.1, 2.0)"
      ]
     },
     "execution_count": 54,
     "metadata": {},
     "output_type": "execute_result"
    },
    {
     "data": {
      "image/png": "[encoded data removed]",
      "text/plain": [
       "<Figure size 1440x360 with 2 Axes>"
      ]
     },
     "metadata": {
      "needs_background": "light"
     },
     "output_type": "display_data"
    }
   ],
   "source": [
    "def detrend_all_cols(df):\n",
    "    # remove linear trend in data\n",
    "    \n",
    "    # list data columns (neither index nor time)\n",
    "    data_cols =  ['x_left','y_left','z_left','x_right','y_right','z_right']\n",
    "    non_data_cols = list(df)\n",
    "    for data_col in data_cols: \n",
    "        non_data_cols.remove(data_col) \n",
    "    \n",
    "    detrend_df = pd.DataFrame()\n",
    "    for data_col in data_cols: \n",
    "        detrend_df[data_col]=signal.detrend(np.array(df[data_col]),\n",
    "                                             type='linear')\n",
    "        # remove offset, to keep in the same range as beginning of series\n",
    "        detrend_df[data_col]=detrend_df[data_col]-detrend_df[data_col].quantile(.01)+ df[data_col].quantile(.01)\n",
    "    \n",
    "    # add non_data columns\n",
    "    detrend_df[non_data_cols] = df[non_data_cols]\n",
    "    \n",
    "    return detrend_df\n",
    "\n",
    "# test\n",
    "treadmill_data='treadmill_participant_1_order_1_21_06_15_10_04_data.csv'\n",
    "cols = ['time','x_left','y_left','z_left','x_right','y_right','z_right']\n",
    "treadmill_data = pd.read_csv('data/'+treadmill_data)\n",
    "treadmill_data[cols] = treadmill_data[cols].apply(pd.to_numeric)\n",
    "\n",
    "rs_data = resample_all_cols(treadmill_data)\n",
    "d_data = detrend_all_cols(rs_data)\n",
    "print(list(d_data))\n",
    "\n",
    "x = np.array(rs_data['z_left'])\n",
    "t = np.array(rs_data['time'])\n",
    "fig = plt.figure(figsize=(20,5))\n",
    "ax = fig.add_subplot(1,2,1)\n",
    "plt.plot(t/1000,x,'k')\n",
    "plt.title('original')\n",
    "plt.ylim([-2.1,2.0])\n",
    "ax = fig.add_subplot(1,2,2)\n",
    "x = np.array(d_data['z_left'])\n",
    "t = np.array(d_data['time'])\n",
    "plt.plot(t/1000,x,'b')\n",
    "plt.title('detrend')\n",
    "plt.ylim([-2.1,2.0])    "
   ]
  },
  {
   "cell_type": "markdown",
   "metadata": {},
   "source": [
    "#### Attribute repeat number to each sound"
   ]
  },
  {
   "cell_type": "code",
   "execution_count": 55,
   "metadata": {
    "ExecuteTime": {
     "end_time": "2022-09-12T13:55:41.176888Z",
     "start_time": "2022-09-12T13:55:41.162761Z"
    }
   },
   "outputs": [],
   "source": [
    "def attribute_repeat_number_to_sound (data):\n",
    "    repeat_index = np.zeros(len(data.pitch), dtype=int)\n",
    "    \n",
    "    repeat_index[0] = 1\n",
    "    for index,(pitch,prev_pitch) in enumerate(zip(data.pitch.values[1:],data.pitch.values[:-1])):\n",
    "        if pitch!=prev_pitch:\n",
    "            repeat_index[index+1]=1\n",
    "        else:\n",
    "            repeat_index[index+1]=repeat_index[index]+1\n",
    "    data['repeat_index']=repeat_index\n",
    "\n",
    "sound_data='treadmill_participant_10_order_4_21_06_18_10_14_sound.csv'\n",
    "sound_data = pd.read_csv('data/'+sound_data)\n",
    "sound_data.pitch = sound_data.pitch.apply(pd.to_numeric)\n",
    "\n",
    "attribute_repeat_number_to_sound(sound_data)"
   ]
  },
  {
   "cell_type": "markdown",
   "metadata": {},
   "source": [
    "#### Segment individual steps"
   ]
  },
  {
   "cell_type": "markdown",
   "metadata": {},
   "source": [
    "##### Segmentation"
   ]
  },
  {
   "cell_type": "code",
   "execution_count": 56,
   "metadata": {
    "ExecuteTime": {
     "end_time": "2022-09-12T13:55:42.605906Z",
     "start_time": "2022-09-12T13:55:41.178690Z"
    }
   },
   "outputs": [
    {
     "data": {
      "text/plain": [
       "(604.0, 607.5)"
      ]
     },
     "execution_count": 56,
     "metadata": {},
     "output_type": "execute_result"
    },
    {
     "data": {
      "image/png": "[encoded data removed]",
      "text/plain": [
       "<Figure size 432x288 with 1 Axes>"
      ]
     },
     "metadata": {
      "needs_background": "light"
     },
     "output_type": "display_data"
    }
   ],
   "source": [
    "# find start and stop times for each step in time series x\n",
    "# minduration in sec.\n",
    "def segment_steps(times,x, min_duration):\n",
    "    start_times = []\n",
    "    end_times = []\n",
    "    \n",
    "    # adapt threshold to min + a percent of (range of x)\n",
    "    x_min = np.percentile(x,1) \n",
    "    x_max = np.percentile(x,99)\n",
    "    percent_range = 0.05\n",
    "    threshold = x_min + (x_max-x_min)*percent_range\n",
    "    \n",
    "    # detect up and down crossings     \n",
    "    mask = np.diff(1*(x > threshold)) # 1 if crosses threshold up, -1 if crosses down\n",
    "    start_times = times[:-1][mask>0] \n",
    "    end_times = times[:-1][mask<0] \n",
    "    \n",
    "    # drop potential endings that occur before first start\n",
    "    end_times = [end_time for end_time in list(end_times) if end_time > list(start_times)[0]]\n",
    "    # drop potential starts that occur after the last ending\n",
    "    start_times = [start_time for start_time in list(start_times) if start_time < list(end_times)[-1]]\n",
    "        \n",
    "    # eliminate false alarms (ie. consecutive starts or stops within a short time window, ex. 0.1s)\n",
    "    start_times, end_times = zip(*[(start_time,end_time) for start_time,end_time in zip(start_times,end_times) if (end_time-start_time) > (min_duration*1000)])\n",
    "    \n",
    "    return start_times, end_times, threshold\n",
    "\n",
    "#test    \n",
    "weight_data='treadmill_participant_1_21_06_15_10_04_weight.csv'\n",
    "cols = ['time','x_left','y_left','z_left','x_right','y_right','z_right']\n",
    "weight_data = pd.read_csv('data/'+weight_data)\n",
    "weight_data[cols] = weight_data[cols].apply(pd.to_numeric)\n",
    "left_weight,left_zero,right_weight,right_zero = extract_weight(weight_data)\n",
    "\n",
    "treadmill_data='treadmill_participant_1_order_1_21_06_15_10_04_data.csv'\n",
    "cols = ['time','x_left','y_left','z_left','x_right','y_right','z_right']\n",
    "treadmill_data = pd.read_csv('data/'+treadmill_data)\n",
    "treadmill_data[cols] = treadmill_data[cols].apply(pd.to_numeric)\n",
    "\n",
    "norm_df = normalize_by_weight(treadmill_data,left_weight,left_zero,right_weight,right_zero)\n",
    "\n",
    "rs_step_data = resample_all_cols(norm_df,sr,100)\n",
    "de_step_data = detrend_all_cols(rs_step_data)\n",
    "\n",
    "times = de_step_data.time\n",
    "x = de_step_data.z_left\n",
    "start_times, end_times, threshold = segment_steps(times,x, 0.1)\n",
    "plt.plot(times/1000, x, 'k')\n",
    "plt.plot(np.array(start_times)/1000,[threshold]*len(start_times), 'go', markersize=8, markerfacecolor='None')\n",
    "plt.plot(np.array(end_times)/1000,[threshold]*len(end_times), 'ro', markersize=8, markerfacecolor='None')\n",
    "plt.plot([times.min()/1000,times.max()/1000],[threshold,threshold],'b:')\n",
    "plt.xlim([604,607.5])\n",
    "\n",
    "plt.savefig('./pics/segmentation.pdf', format='pdf', dpi=600, transparent=True)"
   ]
  },
  {
   "cell_type": "markdown",
   "metadata": {},
   "source": [
    "##### List individual steps in a Dataframe"
   ]
  },
  {
   "cell_type": "code",
   "execution_count": 57,
   "metadata": {
    "ExecuteTime": {
     "end_time": "2022-09-12T13:55:46.144447Z",
     "start_time": "2022-09-12T13:55:42.606873Z"
    }
   },
   "outputs": [
    {
     "data": {
      "text/plain": [
       "['x',\n",
       " 'y',\n",
       " 'z',\n",
       " 'start',\n",
       " 'end',\n",
       " 'foot',\n",
       " 'participant',\n",
       " 'config_file',\n",
       " 'order',\n",
       " 'condition_name']"
      ]
     },
     "execution_count": 57,
     "metadata": {},
     "output_type": "execute_result"
    }
   ],
   "source": [
    "def convert_to_steps(treadmill_data, min_duration=0.1):\n",
    "# segment left steps from z_left, and right steps from z_right\n",
    "# and list all steps (tagged as left/right) in a new dataframe\n",
    "\n",
    "    # list data columns (neither index nor time)\n",
    "    data_cols =  ['x_left','y_left','z_left','x_right','y_right','z_right']\n",
    "    non_data_cols = list(treadmill_data)\n",
    "    for data_col in data_cols: \n",
    "        non_data_cols.remove(data_col)\n",
    "    non_data_cols.remove('time')\n",
    "        \n",
    "    # segment steps from each foot\n",
    "    foots = ['left','right']\n",
    "    foot_features = ['z_left','z_right']\n",
    "    dimensions = ['x','y','z']\n",
    "    \n",
    "    # grow dataframe of steps \n",
    "    dataframe_cols = defaultdict(list) # dictionary of {col: list of values}\n",
    "    for (foot,foot_feature) in zip(foots, foot_features): \n",
    "        \n",
    "        # extract start and end times for current foot, using foot_feature\n",
    "        start_times, end_times, threshold = segment_steps(treadmill_data.time,\n",
    "                                                          treadmill_data[foot_feature],\n",
    "                                                          min_duration=min_duration)\n",
    "        \n",
    "        # for each step, extract treadmill data along all dimensions (x,y,z)\n",
    "        for start_time,end_time in zip(start_times,end_times): \n",
    " \n",
    "            for dimension in dimensions: \n",
    "                feature = '%s_%s'%(dimension,foot) # ex. x_left \n",
    "                step_data_for_dimension = list(treadmill_data[(treadmill_data.time >=start_time)&(treadmill_data.time <end_time)][feature])\n",
    "                dataframe_cols[dimension].append(step_data_for_dimension)\n",
    "            \n",
    "            dataframe_cols['start'].append(start_time/1000) # time in secs\n",
    "            dataframe_cols['end'].append(end_time/1000) # time in secs\n",
    "            dataframe_cols['foot'].append(foot)\n",
    "            \n",
    "    steps = pd.DataFrame(dataframe_cols)\n",
    "    \n",
    "    steps[non_data_cols] = treadmill_data[non_data_cols]\n",
    "    \n",
    "    return steps\n",
    "\n",
    "treadmill_data='treadmill_participant_1_order_1_21_06_15_10_04_data.csv'\n",
    "cols = ['time','x_left','y_left','z_left','x_right','y_right','z_right']\n",
    "treadmill_data = pd.read_csv('data/'+treadmill_data)\n",
    "treadmill_data[cols] = treadmill_data[cols].apply(pd.to_numeric)\n",
    "rs_treadmill_data = resample_all_cols(treadmill_data)\n",
    "de_treadmill_data = detrend_all_cols(rs_treadmill_data)\n",
    "steps = convert_to_steps(de_treadmill_data)\n",
    "list(steps)"
   ]
  },
  {
   "cell_type": "markdown",
   "metadata": {},
   "source": [
    "##### Merge with sound events"
   ]
  },
  {
   "cell_type": "code",
   "execution_count": 58,
   "metadata": {
    "ExecuteTime": {
     "end_time": "2022-09-12T13:55:50.571617Z",
     "start_time": "2022-09-12T13:55:46.145410Z"
    }
   },
   "outputs": [],
   "source": [
    "def merge_step_data_with_sounds(step_data,sound_data): \n",
    "# take df of individual steps (with start and end_times, and treadmill data as lists) \n",
    "# and join on sound events where sound.time is in [start,end]\n",
    "# uses a sql join (because pandas doesn't join on >= and <=), and for this convert list columns to strings\n",
    "\n",
    "    # convert data columns to str for the SQL operation\n",
    "    dimensions = ['x','y','z']\n",
    "    step_data[dimensions] = step_data[dimensions].applymap(str)\n",
    "    \n",
    "    sound_data['sound_id']= sound_data.index\n",
    "    \n",
    "    query = \"\"\"\n",
    "    SELECT step_data.*, sound_data.*\n",
    "    FROM sound_data INNER JOIN step_data\n",
    "    ON (sound_data.time >= step_data.start AND sound_data.time < step_data.end)\n",
    "    ORDER BY sound_data.time\n",
    "    \"\"\"\n",
    "    mixed_data = sqldf(query, locals())\n",
    "    \n",
    "    # convert back to list of float\n",
    "    for dimension in dimensions: \n",
    "        mixed_data[dimension]=mixed_data[dimension].apply(lambda row: [float(d) for d in row[1:-1].split(',')]  )\n",
    "    \n",
    "    # remove duplicated (categorical) columns\n",
    "    mixed_data = mixed_data.loc[:,~mixed_data.columns.duplicated()]\n",
    "    \n",
    "    return mixed_data\n",
    "\n",
    "treadmill_data='treadmill_participant_10_order_4_21_06_18_10_14_data.csv'\n",
    "cols = ['time','x_left','y_left','z_left','x_right','y_right','z_right']\n",
    "treadmill_data = pd.read_csv('data/'+treadmill_data)\n",
    "treadmill_data[cols] = treadmill_data[cols].apply(pd.to_numeric)\n",
    "rs_treadmill_data = resample_all_cols(treadmill_data)\n",
    "de_treadmill_data = detrend_all_cols(rs_treadmill_data)\n",
    "step_data = convert_to_steps(de_treadmill_data)\n",
    "sound_data='treadmill_participant_10_order_4_21_06_18_10_14_sound.csv'\n",
    "sound_data = pd.read_csv('data/'+sound_data)\n",
    "sound_data.pitch = sound_data.pitch.apply(pd.to_numeric)\n",
    "\n",
    "merged_data = merge_step_data_with_sounds(step_data,sound_data)\n",
    "\n"
   ]
  },
  {
   "cell_type": "markdown",
   "metadata": {},
   "source": [
    "##### Delete duplicates"
   ]
  },
  {
   "cell_type": "markdown",
   "metadata": {},
   "source": [
    "Some steps are attributed to two or more sound events, e.g. when the next sound starts before the previous step ends. Here, we simply drop (step,sound event) pairs for sound_id duplicates. A more advanced method would e.g. attribute the sound event to the step which has the least distance between sound.time and step.start. "
   ]
  },
  {
   "cell_type": "code",
   "execution_count": 59,
   "metadata": {
    "ExecuteTime": {
     "end_time": "2022-09-12T13:55:54.533186Z",
     "start_time": "2022-09-12T13:55:50.572586Z"
    }
   },
   "outputs": [],
   "source": [
    "treadmill_data='treadmill_participant_1_order_1_21_06_15_10_04_data.csv'\n",
    "cols = ['time','x_left','y_left','z_left','x_right','y_right','z_right']\n",
    "treadmill_data = pd.read_csv('data/'+treadmill_data)\n",
    "treadmill_data[cols] = treadmill_data[cols].apply(pd.to_numeric)\n",
    "rs_treadmill_data = resample_all_cols(treadmill_data)\n",
    "de_treadmill_data = detrend_all_cols(rs_treadmill_data)\n",
    "step_data = convert_to_steps(de_treadmill_data)\n",
    "\n",
    "sound_data='treadmill_participant_1_order_1_21_06_15_10_04_sound.csv'\n",
    "sound_data = pd.read_csv('data/'+sound_data)\n",
    "sound_data.pitch = sound_data.pitch.apply(pd.to_numeric)\n",
    "\n",
    "merged_data = merge_step_data_with_sounds(step_data,sound_data)\n",
    "\n",
    "merged_data.drop_duplicates(subset =\"sound_id\", keep = False, inplace=True)"
   ]
  },
  {
   "cell_type": "markdown",
   "metadata": {},
   "source": [
    "#### Extract step duration and amplitude"
   ]
  },
  {
   "cell_type": "code",
   "execution_count": 60,
   "metadata": {
    "ExecuteTime": {
     "end_time": "2022-09-12T13:55:58.620060Z",
     "start_time": "2022-09-12T13:55:54.533985Z"
    }
   },
   "outputs": [
    {
     "data": {
      "text/plain": [
       "<matplotlib.axes._subplots.AxesSubplot at 0x27b270fabe0>"
      ]
     },
     "execution_count": 60,
     "metadata": {},
     "output_type": "execute_result"
    },
    {
     "data": {
      "image/png": "[encoded data removed]",
      "text/plain": [
       "<Figure size 432x288 with 1 Axes>"
      ]
     },
     "metadata": {
      "needs_background": "light"
     },
     "output_type": "display_data"
    }
   ],
   "source": [
    "def extract_step_duration(step_data): \n",
    "\n",
    "    step_data['step_duration'] = step_data['end'] - step_data['start']\n",
    "    \n",
    "    return step_data\n",
    "        \n",
    "treadmill_data='treadmill_participant_1_order_1_21_06_15_10_04_data.csv'\n",
    "cols = ['time','x_left','y_left','z_left','x_right','y_right','z_right']\n",
    "treadmill_data = pd.read_csv('data/'+treadmill_data)\n",
    "treadmill_data[cols] = treadmill_data[cols].apply(pd.to_numeric)\n",
    "rs_treadmill_data = resample_all_cols(treadmill_data)\n",
    "de_treadmill_data = detrend_all_cols(rs_treadmill_data)\n",
    "step_data = convert_to_steps(de_treadmill_data)\n",
    "\n",
    "sound_data='treadmill_participant_1_order_1_21_06_15_10_04_sound.csv'\n",
    "sound_data = pd.read_csv('data/'+sound_data)\n",
    "sound_data.pitch = sound_data.pitch.apply(pd.to_numeric)\n",
    "\n",
    "merged_data = merge_step_data_with_sounds(step_data,sound_data)\n",
    "\n",
    "extract_step_duration(merged_data)\n",
    "merged_data.step_duration.hist()"
   ]
  },
  {
   "cell_type": "code",
   "execution_count": 61,
   "metadata": {
    "ExecuteTime": {
     "end_time": "2022-09-12T13:56:02.693236Z",
     "start_time": "2022-09-12T13:55:58.621090Z"
    }
   },
   "outputs": [
    {
     "data": {
      "text/plain": [
       "count    749.000000\n",
       "mean       1.041002\n",
       "std        0.041485\n",
       "min        0.948921\n",
       "25%        1.011890\n",
       "50%        1.033703\n",
       "75%        1.064540\n",
       "max        1.254101\n",
       "Name: z_max, dtype: float64"
      ]
     },
     "execution_count": 61,
     "metadata": {},
     "output_type": "execute_result"
    }
   ],
   "source": [
    "def extract_maximum_amplitude(step_data): \n",
    "\n",
    "    dimensions = ['x','y','z']\n",
    "    for dimension in dimensions: \n",
    "        step_data[dimension+'_max'] = step_data[dimension].apply(lambda row: np.max(row))\n",
    "        step_data[dimension+'_min'] = step_data[dimension].apply(lambda row: np.min(row))\n",
    "        \n",
    "    return step_data\n",
    "\n",
    "weight_data='treadmill_participant_1_21_06_15_10_04_weight.csv'\n",
    "weight_data = pd.read_csv('data/'+weight_data)\n",
    "weight_data[cols] = weight_data[cols].apply(pd.to_numeric)\n",
    "left_weight,left_zero,right_weight,right_zero = extract_weight(weight_data)\n",
    "\n",
    "treadmill_data='treadmill_participant_1_order_1_21_06_15_10_04_data.csv'\n",
    "cols = ['time','x_left','y_left','z_left','x_right','y_right','z_right']\n",
    "treadmill_data = pd.read_csv('data/'+treadmill_data)\n",
    "treadmill_data[cols] = treadmill_data[cols].apply(pd.to_numeric)\n",
    "\n",
    "norm_df = normalize_by_weight(treadmill_data,left_weight,left_zero,right_weight,right_zero)\n",
    "rs_treadmill_data = resample_all_cols(norm_df)\n",
    "de_treadmill_data = detrend_all_cols(rs_treadmill_data)\n",
    "step_data = convert_to_steps(de_treadmill_data)\n",
    "\n",
    "sound_data='treadmill_participant_1_order_1_21_06_15_10_04_sound.csv'\n",
    "sound_data = pd.read_csv('data/'+sound_data)\n",
    "sound_data.pitch = sound_data.pitch.apply(pd.to_numeric)\n",
    "merged_data = merge_step_data_with_sounds(step_data,sound_data)\n",
    "\n",
    "extract_maximum_amplitude(merged_data)\n",
    "merged_data.z_max.describe()"
   ]
  },
  {
   "cell_type": "markdown",
   "metadata": {},
   "source": [
    "#### All processing in one function"
   ]
  },
  {
   "cell_type": "code",
   "execution_count": 64,
   "metadata": {
    "ExecuteTime": {
     "end_time": "2022-09-12T13:56:06.836194Z",
     "start_time": "2022-09-12T13:56:02.706188Z"
    }
   },
   "outputs": [
    {
     "name": "stdout",
     "output_type": "stream",
     "text": [
      "load - extract weight (left: [-1.50,1.48], right: [-0.03,2.71]) - preprocess - segment (769 steps) - merge with sounds (749 trials) - extract features left: [0.04, 1.05], right: [0.03, 1.03])"
     ]
    }
   ],
   "source": [
    "def process_data(treadmill_data, weight_data, sound_data, config_data, verbose = True): \n",
    "   \n",
    "    # load data and convert to numeric\n",
    "    if verbose: \n",
    "        print('load - ',end='')\n",
    "    \n",
    "    cols = ['time','x_left','y_left','z_left','x_right','y_right','z_right']\n",
    "    weight_data = pd.read_csv(weight_data)\n",
    "    weight_data[cols] = weight_data[cols].apply(pd.to_numeric)\n",
    "    \n",
    "    treadmill_data = pd.read_csv(treadmill_data)\n",
    "    treadmill_data[cols] = treadmill_data[cols].apply(pd.to_numeric)\n",
    "    \n",
    "    sound_data = pd.read_csv(sound_data)\n",
    "    sound_data.pitch = sound_data.pitch.apply(pd.to_numeric)\n",
    "    \n",
    "    # add repeat nnumber of each sound\n",
    "    attribute_repeat_number_to_sound(sound_data)\n",
    "    \n",
    "    if verbose: \n",
    "        print('extract weight ',end='')\n",
    "    left_weight,left_zero,right_weight,right_zero = extract_weight(weight_data)\n",
    "    if verbose: \n",
    "        print('(left: [%.2f,%.2f], '%(left_zero,left_weight), end='')\n",
    "        print('right: [%.2f,%.2f]) - '%(right_zero,right_weight), end='')\n",
    "        \n",
    "    if verbose: \n",
    "        print('preprocess - ',end='')\n",
    "    norm_treadmill_data = normalize_by_weight(treadmill_data,left_weight,left_zero,right_weight,right_zero)\n",
    "     \n",
    "    \n",
    "    rs_treadmill_data = resample_all_cols(norm_treadmill_data)\n",
    "    de_treadmill_data = detrend_all_cols(rs_treadmill_data)\n",
    "        \n",
    "    # segment and merge\n",
    "    if verbose: \n",
    "        print('segment ',end='')\n",
    "    step_data = convert_to_steps(de_treadmill_data)\n",
    "    if verbose: \n",
    "        print('(%d steps) - '%len(step_data),end='')\n",
    "    \n",
    "    if verbose: \n",
    "        print('merge with sounds ',end='')\n",
    "    data = merge_step_data_with_sounds(step_data,sound_data)\n",
    "    \n",
    "    \n",
    "    \n",
    "    # delete steps for which there is ambiguity of which sound they correspond to\n",
    "    data.drop_duplicates(subset =\"sound_id\", keep = False, inplace=True) \n",
    "    if verbose: \n",
    "        print('(%d trials) - '%len(data),end='')\n",
    "\n",
    "    \n",
    "    # extract features\n",
    "    if verbose: \n",
    "        print('extract features ',end='')\n",
    "    extract_step_duration(data)\n",
    "    extract_maximum_amplitude(data)\n",
    "        \n",
    "    \n",
    "    if verbose: \n",
    "        print('left: [%.2f, %.2f], '%(data[data.foot=='left'].z_min.mean(),\n",
    "                                     data[data.foot=='left'].z_max.mean()),end='')\n",
    "        print('right: [%.2f, %.2f])'%(data[data.foot=='right'].z_min.mean(),\n",
    "                                     data[data.foot=='right'].z_max.mean()),end='')\n",
    "    \n",
    "    return data\n",
    "\n",
    "\n",
    "data_t = process_data(treadmill_data='data/treadmill_participant_1_order_1_21_06_15_10_04_data.csv',\n",
    "                     weight_data='data/treadmill_participant_1_21_06_15_10_04_weight.csv',\n",
    "                     sound_data='data/treadmill_participant_1_order_1_21_06_15_10_04_sound.csv',\n",
    "                     config_data='data/treadmill_participant_1_order_1_21_06_15_10_04_config_sound_player_cont_narrow.py')\n"
   ]
  },
  {
   "cell_type": "markdown",
   "metadata": {},
   "source": [
    "### Prepare all data"
   ]
  },
  {
   "cell_type": "markdown",
   "metadata": {},
   "source": [
    "List all sessions (participant, block) in data directory, and link with all needed files"
   ]
  },
  {
   "cell_type": "code",
   "execution_count": 65,
   "metadata": {
    "ExecuteTime": {
     "end_time": "2022-09-12T13:56:06.993752Z",
     "start_time": "2022-09-12T13:56:06.837143Z"
    },
    "scrolled": false
   },
   "outputs": [
    {
     "data": {
      "text/html": [
       "<div>\n",
       "<style scoped>\n",
       "    .dataframe tbody tr th:only-of-type {\n",
       "        vertical-align: middle;\n",
       "    }\n",
       "\n",
       "    .dataframe tbody tr th {\n",
       "        vertical-align: top;\n",
       "    }\n",
       "\n",
       "    .dataframe thead th {\n",
       "        text-align: right;\n",
       "    }\n",
       "</style>\n",
       "<table border=\"1\" class=\"dataframe\">\n",
       "  <thead>\n",
       "    <tr style=\"text-align: right;\">\n",
       "      <th></th>\n",
       "      <th>participant</th>\n",
       "      <th>block</th>\n",
       "      <th>date</th>\n",
       "      <th>data</th>\n",
       "      <th>sounds</th>\n",
       "      <th>weights</th>\n",
       "      <th>config</th>\n",
       "    </tr>\n",
       "  </thead>\n",
       "  <tbody>\n",
       "    <tr>\n",
       "      <th>0</th>\n",
       "      <td>10</td>\n",
       "      <td>1</td>\n",
       "      <td>21/06/2018</td>\n",
       "      <td>data\\treadmill_participant_10_order_1_21_06_18...</td>\n",
       "      <td>data\\treadmill_participant_10_order_1_21_06_18...</td>\n",
       "      <td>data\\treadmill_participant_10_21_06_18_10_14_w...</td>\n",
       "      <td>data\\treadmill_participant_10_order_1_21_06_18...</td>\n",
       "    </tr>\n",
       "    <tr>\n",
       "      <th>1</th>\n",
       "      <td>10</td>\n",
       "      <td>2</td>\n",
       "      <td>21/06/2018</td>\n",
       "      <td>data\\treadmill_participant_10_order_2_21_06_18...</td>\n",
       "      <td>data\\treadmill_participant_10_order_2_21_06_18...</td>\n",
       "      <td>data\\treadmill_participant_10_21_06_18_10_14_w...</td>\n",
       "      <td>data\\treadmill_participant_10_order_2_21_06_18...</td>\n",
       "    </tr>\n",
       "    <tr>\n",
       "      <th>2</th>\n",
       "      <td>10</td>\n",
       "      <td>3</td>\n",
       "      <td>21/06/2018</td>\n",
       "      <td>data\\treadmill_participant_10_order_3_21_06_18...</td>\n",
       "      <td>data\\treadmill_participant_10_order_3_21_06_18...</td>\n",
       "      <td>data\\treadmill_participant_10_21_06_18_10_14_w...</td>\n",
       "      <td>data\\treadmill_participant_10_order_3_21_06_18...</td>\n",
       "    </tr>\n",
       "    <tr>\n",
       "      <th>3</th>\n",
       "      <td>10</td>\n",
       "      <td>4</td>\n",
       "      <td>21/06/2018</td>\n",
       "      <td>data\\treadmill_participant_10_order_4_21_06_18...</td>\n",
       "      <td>data\\treadmill_participant_10_order_4_21_06_18...</td>\n",
       "      <td>data\\treadmill_participant_10_21_06_18_10_14_w...</td>\n",
       "      <td>data\\treadmill_participant_10_order_4_21_06_18...</td>\n",
       "    </tr>\n",
       "    <tr>\n",
       "      <th>4</th>\n",
       "      <td>11</td>\n",
       "      <td>1</td>\n",
       "      <td>21/06/2018</td>\n",
       "      <td>data\\treadmill_participant_11_order_1_21_06_18...</td>\n",
       "      <td>data\\treadmill_participant_11_order_1_21_06_18...</td>\n",
       "      <td>data\\treadmill_participant_11_21_06_18_11_12_w...</td>\n",
       "      <td>data\\treadmill_participant_11_order_1_21_06_18...</td>\n",
       "    </tr>\n",
       "    <tr>\n",
       "      <th>...</th>\n",
       "      <td>...</td>\n",
       "      <td>...</td>\n",
       "      <td>...</td>\n",
       "      <td>...</td>\n",
       "      <td>...</td>\n",
       "      <td>...</td>\n",
       "      <td>...</td>\n",
       "    </tr>\n",
       "    <tr>\n",
       "      <th>75</th>\n",
       "      <td>8</td>\n",
       "      <td>4</td>\n",
       "      <td>21/06/2016</td>\n",
       "      <td>data\\treadmill_participant_8_order_4_21_06_16_...</td>\n",
       "      <td>data\\treadmill_participant_8_order_4_21_06_16_...</td>\n",
       "      <td>data\\treadmill_participant_8_21_06_16_11_52_we...</td>\n",
       "      <td>data\\treadmill_participant_8_order_4_21_06_16_...</td>\n",
       "    </tr>\n",
       "    <tr>\n",
       "      <th>76</th>\n",
       "      <td>9</td>\n",
       "      <td>1</td>\n",
       "      <td>21/06/2017</td>\n",
       "      <td>data\\treadmill_participant_9_order_1_21_06_17_...</td>\n",
       "      <td>data\\treadmill_participant_9_order_1_21_06_17_...</td>\n",
       "      <td>data\\treadmill_participant_9_21_06_17_13_13_we...</td>\n",
       "      <td>data\\treadmill_participant_9_order_1_21_06_17_...</td>\n",
       "    </tr>\n",
       "    <tr>\n",
       "      <th>77</th>\n",
       "      <td>9</td>\n",
       "      <td>2</td>\n",
       "      <td>21/06/2017</td>\n",
       "      <td>data\\treadmill_participant_9_order_2_21_06_17_...</td>\n",
       "      <td>data\\treadmill_participant_9_order_2_21_06_17_...</td>\n",
       "      <td>data\\treadmill_participant_9_21_06_17_13_13_we...</td>\n",
       "      <td>data\\treadmill_participant_9_order_2_21_06_17_...</td>\n",
       "    </tr>\n",
       "    <tr>\n",
       "      <th>78</th>\n",
       "      <td>9</td>\n",
       "      <td>3</td>\n",
       "      <td>21/06/2017</td>\n",
       "      <td>data\\treadmill_participant_9_order_3_21_06_17_...</td>\n",
       "      <td>data\\treadmill_participant_9_order_3_21_06_17_...</td>\n",
       "      <td>data\\treadmill_participant_9_21_06_17_13_13_we...</td>\n",
       "      <td>data\\treadmill_participant_9_order_3_21_06_17_...</td>\n",
       "    </tr>\n",
       "    <tr>\n",
       "      <th>79</th>\n",
       "      <td>9</td>\n",
       "      <td>4</td>\n",
       "      <td>21/06/2017</td>\n",
       "      <td>data\\treadmill_participant_9_order_4_21_06_17_...</td>\n",
       "      <td>data\\treadmill_participant_9_order_4_21_06_17_...</td>\n",
       "      <td>data\\treadmill_participant_9_21_06_17_13_13_we...</td>\n",
       "      <td>data\\treadmill_participant_9_order_4_21_06_17_...</td>\n",
       "    </tr>\n",
       "  </tbody>\n",
       "</table>\n",
       "<p>80 rows × 7 columns</p>\n",
       "</div>"
      ],
      "text/plain": [
       "    participant  block        date  \\\n",
       "0            10      1  21/06/2018   \n",
       "1            10      2  21/06/2018   \n",
       "2            10      3  21/06/2018   \n",
       "3            10      4  21/06/2018   \n",
       "4            11      1  21/06/2018   \n",
       "..          ...    ...         ...   \n",
       "75            8      4  21/06/2016   \n",
       "76            9      1  21/06/2017   \n",
       "77            9      2  21/06/2017   \n",
       "78            9      3  21/06/2017   \n",
       "79            9      4  21/06/2017   \n",
       "\n",
       "                                                 data  \\\n",
       "0   data\\treadmill_participant_10_order_1_21_06_18...   \n",
       "1   data\\treadmill_participant_10_order_2_21_06_18...   \n",
       "2   data\\treadmill_participant_10_order_3_21_06_18...   \n",
       "3   data\\treadmill_participant_10_order_4_21_06_18...   \n",
       "4   data\\treadmill_participant_11_order_1_21_06_18...   \n",
       "..                                                ...   \n",
       "75  data\\treadmill_participant_8_order_4_21_06_16_...   \n",
       "76  data\\treadmill_participant_9_order_1_21_06_17_...   \n",
       "77  data\\treadmill_participant_9_order_2_21_06_17_...   \n",
       "78  data\\treadmill_participant_9_order_3_21_06_17_...   \n",
       "79  data\\treadmill_participant_9_order_4_21_06_17_...   \n",
       "\n",
       "                                               sounds  \\\n",
       "0   data\\treadmill_participant_10_order_1_21_06_18...   \n",
       "1   data\\treadmill_participant_10_order_2_21_06_18...   \n",
       "2   data\\treadmill_participant_10_order_3_21_06_18...   \n",
       "3   data\\treadmill_participant_10_order_4_21_06_18...   \n",
       "4   data\\treadmill_participant_11_order_1_21_06_18...   \n",
       "..                                                ...   \n",
       "75  data\\treadmill_participant_8_order_4_21_06_16_...   \n",
       "76  data\\treadmill_participant_9_order_1_21_06_17_...   \n",
       "77  data\\treadmill_participant_9_order_2_21_06_17_...   \n",
       "78  data\\treadmill_participant_9_order_3_21_06_17_...   \n",
       "79  data\\treadmill_participant_9_order_4_21_06_17_...   \n",
       "\n",
       "                                              weights  \\\n",
       "0   data\\treadmill_participant_10_21_06_18_10_14_w...   \n",
       "1   data\\treadmill_participant_10_21_06_18_10_14_w...   \n",
       "2   data\\treadmill_participant_10_21_06_18_10_14_w...   \n",
       "3   data\\treadmill_participant_10_21_06_18_10_14_w...   \n",
       "4   data\\treadmill_participant_11_21_06_18_11_12_w...   \n",
       "..                                                ...   \n",
       "75  data\\treadmill_participant_8_21_06_16_11_52_we...   \n",
       "76  data\\treadmill_participant_9_21_06_17_13_13_we...   \n",
       "77  data\\treadmill_participant_9_21_06_17_13_13_we...   \n",
       "78  data\\treadmill_participant_9_21_06_17_13_13_we...   \n",
       "79  data\\treadmill_participant_9_21_06_17_13_13_we...   \n",
       "\n",
       "                                               config  \n",
       "0   data\\treadmill_participant_10_order_1_21_06_18...  \n",
       "1   data\\treadmill_participant_10_order_2_21_06_18...  \n",
       "2   data\\treadmill_participant_10_order_3_21_06_18...  \n",
       "3   data\\treadmill_participant_10_order_4_21_06_18...  \n",
       "4   data\\treadmill_participant_11_order_1_21_06_18...  \n",
       "..                                                ...  \n",
       "75  data\\treadmill_participant_8_order_4_21_06_16_...  \n",
       "76  data\\treadmill_participant_9_order_1_21_06_17_...  \n",
       "77  data\\treadmill_participant_9_order_2_21_06_17_...  \n",
       "78  data\\treadmill_participant_9_order_3_21_06_17_...  \n",
       "79  data\\treadmill_participant_9_order_4_21_06_17_...  \n",
       "\n",
       "[80 rows x 7 columns]"
      ]
     },
     "execution_count": 65,
     "metadata": {},
     "output_type": "execute_result"
    }
   ],
   "source": [
    "# organize files per participants\n",
    "def parse_participant(file): \n",
    "    return int(file.split('_')[2])\n",
    "\n",
    "def parse_block(file): \n",
    "    return int(file.split('_')[4])\n",
    "\n",
    "def parse_date(file): \n",
    "    return datetime.strptime('-'.join(file.split('_')[5:10]), '%d-%m-%y-%H-%M').strftime('%d/%m/%Y')\n",
    "\n",
    "def find_sound_file(participant,block): \n",
    "    files = glob.glob('data/treadmill_participant_%d_order_%d_*_sound.csv'%(participant,block))\n",
    "    return files[0]\n",
    "\n",
    "def find_weight_file(participant): \n",
    "    files = glob.glob('data/treadmill_participant_%d_*_weight.csv'%(participant))\n",
    "    return files[0]\n",
    "\n",
    "def find_config_file(participant,block): \n",
    "    files = glob.glob('data/treadmill_participant_%d_order_%d_*_config_*.py'%(participant,block))\n",
    "    return files[0]\n",
    "\n",
    "# list sessions {participant id, block, date} from data_files\n",
    "data_files = glob.glob('data/*_data.csv')\n",
    "sessions = []\n",
    "for file_index,data_file in enumerate(data_files):\n",
    "    \n",
    "    session = {'participant':parse_participant(data_file),\n",
    "               'block':parse_block(data_file),\n",
    "               'date':parse_date(data_file),\n",
    "               'data':data_file}\n",
    "    \n",
    "    # add corresponding sound file\n",
    "    session['sounds']=find_sound_file(session['participant'],session['block'])\n",
    "    # add weights\n",
    "    session['weights']=find_weight_file(session['participant'])\n",
    "    # add config file and parameters\n",
    "    session['config']=find_config_file(session['participant'],session['block'])\n",
    "     \n",
    "    sessions.append(session)\n",
    "\n",
    "sessions_df = pd.DataFrame(sessions)\n",
    "sessions_df"
   ]
  },
  {
   "cell_type": "code",
   "execution_count": 66,
   "metadata": {
    "ExecuteTime": {
     "end_time": "2022-09-12T14:02:12.390292Z",
     "start_time": "2022-09-12T13:56:06.994720Z"
    },
    "scrolled": false
   },
   "outputs": [
    {
     "name": "stdout",
     "output_type": "stream",
     "text": [
      "Participant 1, block 4: \n",
      "load - extract weight (left: [-1.50,1.48], right: [-0.03,2.71]) - preprocess - segment (752 steps) - merge with sounds (749 trials) - extract features left: [0.13, 1.11], right: [0.08, 1.05]) -> 749 trials\n",
      "\n",
      "Participant 1, block 3: \n",
      "load - extract weight (left: [-1.50,1.48], right: [-0.03,2.71]) - preprocess - segment (753 steps) - merge with sounds (749 trials) - extract features left: [0.10, 1.09], right: [0.06, 1.04]) -> 749 trials\n",
      "\n",
      "Participant 1, block 1: \n",
      "load - extract weight (left: [-1.50,1.48], right: [-0.03,2.71]) - preprocess - segment (769 steps) - merge with sounds (749 trials) - extract features left: [0.04, 1.05], right: [0.03, 1.03]) -> 749 trials\n",
      "\n",
      "Participant 1, block 2: \n",
      "load - extract weight (left: [-1.50,1.48], right: [-0.03,2.71]) - preprocess - segment (753 steps) - merge with sounds (749 trials) - extract features left: [0.07, 1.07], right: [0.04, 1.03]) -> 749 trials\n",
      "\n",
      "Participant 2, block 2: \n",
      "load - extract weight (left: [-1.12,0.27], right: [0.15,1.44]) - preprocess - segment (762 steps) - merge with sounds (589 trials) - extract features left: [0.09, 1.07], right: [0.09, 1.04]) -> 589 trials\n",
      "\n",
      "Participant 2, block 3: \n",
      "load - extract weight (left: [-1.12,0.27], right: [0.15,1.44]) - preprocess - segment (752 steps) - merge with sounds (697 trials) - extract features left: [0.12, 1.11], right: [0.11, 1.07]) -> 697 trials\n",
      "\n",
      "Participant 2, block 4: \n",
      "load - extract weight (left: [-1.12,0.27], right: [0.15,1.44]) - preprocess - segment (753 steps) - merge with sounds (734 trials) - extract features left: [0.09, 1.08], right: [0.14, 1.09]) -> 734 trials\n",
      "\n",
      "Participant 2, block 1: \n",
      "load - extract weight (left: [-1.12,0.27], right: [0.15,1.44]) - preprocess - segment (800 steps) - merge with sounds (511 trials) - extract features left: [0.02, 1.01], right: [0.05, 1.02]) -> 511 trials\n",
      "\n",
      "Participant 3, block 1: \n",
      "load - extract weight (left: [-1.07,0.99], right: [0.31,2.18]) - preprocess - segment (753 steps) - merge with sounds (735 trials) - extract features left: [0.04, 1.04], right: [0.03, 1.02]) -> 735 trials\n",
      "\n",
      "Participant 3, block 2: \n",
      "load - extract weight (left: [-1.07,0.99], right: [0.31,2.18]) - preprocess - segment (752 steps) - merge with sounds (731 trials) - extract features left: [0.08, 1.07], right: [0.04, 1.03]) -> 731 trials\n",
      "\n",
      "Participant 3, block 4: \n",
      "load - extract weight (left: [-1.07,0.99], right: [0.31,2.18]) - preprocess - segment (754 steps) - merge with sounds (693 trials) - extract features left: [0.10, 1.09], right: [0.06, 1.05]) -> 693 trials\n",
      "\n",
      "Participant 3, block 3: \n",
      "load - extract weight (left: [-1.07,0.99], right: [0.31,2.18]) - preprocess - segment (755 steps) - merge with sounds (706 trials) - extract features left: [0.07, 1.06], right: [0.04, 1.04]) -> 706 trials\n",
      "\n",
      "Participant 4, block 1: \n",
      "load - extract weight (left: [-1.02,0.62], right: [0.35,1.89]) - preprocess - segment (768 steps) - merge with sounds (749 trials) - extract features left: [0.05, 1.06], right: [0.04, 1.02]) -> 749 trials\n",
      "\n",
      "Participant 4, block 2: \n",
      "load - extract weight (left: [-1.02,0.62], right: [0.35,1.89]) - preprocess - segment (755 steps) - merge with sounds (748 trials) - extract features left: [0.07, 1.08], right: [0.05, 1.03]) -> 748 trials\n",
      "\n",
      "Participant 4, block 3: \n",
      "load - extract weight (left: [-1.02,0.62], right: [0.35,1.89]) - preprocess - segment (754 steps) - merge with sounds (749 trials) - extract features left: [0.09, 1.10], right: [0.05, 1.04]) -> 749 trials\n",
      "\n",
      "Participant 4, block 4: \n",
      "load - extract weight (left: [-1.02,0.62], right: [0.35,1.89]) - preprocess - segment (753 steps) - merge with sounds (748 trials) - extract features left: [0.07, 1.08], right: [0.06, 1.04]) -> 748 trials\n",
      "\n",
      "Participant 5, block 1: \n",
      "load - extract weight (left: [-2.12,-0.35], right: [-0.37,1.26]) - preprocess - segment (753 steps) - merge with sounds (746 trials) - extract features left: [0.04, 1.03], right: [0.02, 0.98]) -> 746 trials\n",
      "\n",
      "Participant 5, block 2: \n",
      "load - extract weight (left: [-2.12,-0.35], right: [-0.37,1.26]) - preprocess - segment (746 steps) - merge with sounds (737 trials) - extract features left: [0.09, 1.09], right: [0.03, 0.98]) -> 737 trials\n",
      "\n",
      "Participant 5, block 3: \n",
      "load - extract weight (left: [-2.12,-0.35], right: [-0.37,1.26]) - preprocess - segment (737 steps) - merge with sounds (731 trials) - extract features left: [0.10, 1.10], right: [0.04, 1.01]) -> 731 trials\n",
      "\n",
      "Participant 5, block 4: \n",
      "load - extract weight (left: [-2.12,-0.35], right: [-0.37,1.26]) - preprocess - segment (740 steps) - merge with sounds (733 trials) - extract features left: [0.11, 1.11], right: [0.06, 1.02]) -> 733 trials\n",
      "\n",
      "Participant 6, block 1: \n",
      "load - extract weight (left: [-2.11,0.08], right: [-0.26,1.76]) - preprocess - segment (779 steps) - merge with sounds (559 trials) - extract features left: [0.04, 1.03], right: [0.03, 0.98]) -> 559 trials\n",
      "\n",
      "Participant 6, block 2: \n",
      "load - extract weight (left: [-2.11,0.08], right: [-0.26,1.76]) - preprocess - segment (760 steps) - merge with sounds (491 trials) - extract features left: [0.07, 1.07], right: [0.04, 1.00]) -> 491 trials\n",
      "\n",
      "Participant 6, block 3: \n",
      "load - extract weight (left: [-2.11,0.08], right: [-0.26,1.76]) - preprocess - segment (769 steps) - merge with sounds (579 trials) - extract features left: [0.10, 1.10], right: [0.05, 1.01]) -> 579 trials\n",
      "\n",
      "Participant 6, block 4: \n",
      "load - extract weight (left: [-2.11,0.08], right: [-0.26,1.76]) - preprocess - segment (756 steps) - merge with sounds (573 trials) - extract features left: [0.12, 1.12], right: [0.07, 1.03]) -> 573 trials\n",
      "\n",
      "Participant 7, block 1: \n",
      "load - extract weight (left: [-1.95,0.10], right: [-0.14,1.75]) - preprocess - segment (756 steps) - merge with sounds (747 trials) - extract features left: [0.03, 1.05], right: [0.03, 1.01]) -> 747 trials\n",
      "\n",
      "Participant 7, block 2: \n",
      "load - extract weight (left: [-1.95,0.10], right: [-0.14,1.75]) - preprocess - segment (751 steps) - merge with sounds (745 trials) - extract features left: [0.07, 1.08], right: [0.03, 1.02]) -> 745 trials\n",
      "\n",
      "Participant 7, block 3: \n",
      "load - extract weight (left: [-1.95,0.10], right: [-0.14,1.75]) - preprocess - segment (752 steps) - merge with sounds (749 trials) - extract features left: [0.08, 1.09], right: [0.05, 1.03]) -> 749 trials\n",
      "\n",
      "Participant 7, block 4: \n",
      "load - extract weight (left: [-1.95,0.10], right: [-0.14,1.75]) - preprocess - segment (752 steps) - merge with sounds (749 trials) - extract features left: [0.09, 1.10], right: [0.06, 1.05]) -> 749 trials\n",
      "\n",
      "Participant 8, block 1: \n",
      "load - extract weight (left: [-1.79,0.78], right: [-0.07,2.30]) - preprocess - segment (756 steps) - merge with sounds (598 trials) - extract features left: [0.03, 1.01], right: [0.04, 1.03]) -> 598 trials\n",
      "\n",
      "Participant 8, block 2: \n",
      "load - extract weight (left: [-1.79,0.78], right: [-0.07,2.30]) - preprocess - segment (758 steps) - merge with sounds (583 trials) - extract features left: [0.04, 1.04], right: [0.05, 1.05]) -> 583 trials\n",
      "\n",
      "Participant 8, block 3: \n",
      "load - extract weight (left: [-1.79,0.78], right: [-0.07,2.30]) - preprocess - segment (755 steps) - merge with sounds (619 trials) - extract features left: [0.04, 1.05], right: [0.06, 1.06]) -> 619 trials\n",
      "\n",
      "Participant 8, block 4: \n",
      "load - extract weight (left: [-1.79,0.78], right: [-0.07,2.30]) - preprocess - segment (755 steps) - merge with sounds (608 trials) - extract features left: [0.05, 1.05], right: [0.07, 1.06]) -> 608 trials\n",
      "\n",
      "Participant 9, block 4: \n",
      "load - extract weight (left: [-2.31,-0.23], right: [-0.54,1.37]) - preprocess - segment (806 steps) - merge with sounds (466 trials) - extract features left: [0.15, 1.21], right: [0.08, 1.12]) -> 466 trials\n",
      "\n",
      "Participant 9, block 2: \n",
      "load - extract weight (left: [-2.31,-0.23], right: [-0.54,1.37]) - preprocess - segment (782 steps) - merge with sounds (454 trials) - extract features left: [0.07, 1.11], right: [0.04, 1.06]) -> 454 trials\n",
      "\n",
      "Participant 9, block 1: \n",
      "load - extract weight (left: [-2.31,-0.23], right: [-0.54,1.37]) - preprocess - segment (800 steps) - merge with sounds (429 trials) - extract features left: [0.07, 1.11], right: [0.03, 1.05]) -> 429 trials\n",
      "\n",
      "Participant 9, block 3: \n",
      "load - extract weight (left: [-2.31,-0.23], right: [-0.54,1.37]) - preprocess - segment (761 steps) - merge with sounds (680 trials) - extract features left: [0.11, 1.16], right: [0.06, 1.09]) -> 680 trials\n",
      "\n",
      "Participant 10, block 1: \n",
      "load - extract weight (left: [-2.61,-0.56], right: [-0.56,1.30]) - preprocess - segment (754 steps) - merge with sounds (743 trials) - extract features left: [0.05, 1.05], right: [0.02, 1.04]) -> 743 trials\n",
      "\n",
      "Participant 10, block 2: \n",
      "load - extract weight (left: [-2.61,-0.56], right: [-0.56,1.30]) - preprocess - segment (754 steps) - merge with sounds (748 trials) - extract features left: [0.07, 1.07], right: [0.02, 1.04]) -> 748 trials\n",
      "\n",
      "Participant 10, block 4: \n",
      "load - extract weight (left: [-2.61,-0.56], right: [-0.56,1.30]) - preprocess - segment (754 steps) - merge with sounds (749 trials) - extract features left: [0.08, 1.09], right: [0.04, 1.08]) -> 749 trials\n",
      "\n",
      "Participant 10, block 3: \n",
      "load - extract weight (left: [-2.61,-0.56], right: [-0.56,1.30]) - preprocess - segment (753 steps) - merge with sounds (749 trials) - extract features left: [0.07, 1.07], right: [0.02, 1.06]) -> 749 trials\n",
      "\n",
      "Participant 11, block 4: \n",
      "load - extract weight (left: [-3.05,-1.67], right: [-0.89,0.39]) - preprocess - segment (752 steps) - merge with sounds (748 trials) - extract features left: [0.13, 1.13], right: [0.08, 1.03]) -> 748 trials\n",
      "\n",
      "Participant 11, block 2: \n",
      "load - extract weight (left: [-3.05,-1.67], right: [-0.89,0.39]) - preprocess - segment (752 steps) - merge with sounds (747 trials) - extract features left: [0.11, 1.12], right: [0.05, 1.00]) -> 747 trials\n",
      "\n",
      "Participant 11, block 3: \n",
      "load - extract weight (left: [-3.05,-1.67], right: [-0.89,0.39]) - preprocess - segment (753 steps) - merge with sounds (748 trials) - extract features left: [0.06, 1.06], right: [0.08, 1.03]) -> 748 trials\n",
      "\n",
      "Participant 11, block 1: \n",
      "load - extract weight (left: [-3.05,-1.67], right: [-0.89,0.39]) - preprocess - segment (750 steps) - merge with sounds (733 trials) - extract features left: [0.06, 1.07], right: [0.03, 1.00]) -> 733 trials\n",
      "\n",
      "Participant 12, block 4: \n",
      "load - extract weight (left: [-2.95,-1.62], right: [-0.66,0.58]) - preprocess - segment (752 steps) - merge with sounds (748 trials) - extract features left: [0.09, 1.16], right: [0.05, 1.06]) -> 748 trials\n",
      "\n",
      "Participant 12, block 3: \n",
      "load - extract weight (left: [-2.95,-1.62], right: [-0.66,0.58]) - preprocess - segment (752 steps) - merge with sounds (749 trials) - extract features left: [0.05, 1.12], right: [0.05, 1.06]) -> 749 trials\n",
      "\n",
      "Participant 12, block 2: \n",
      "load - extract weight (left: [-2.95,-1.62], right: [-0.66,0.58]) - preprocess - segment (753 steps) - merge with sounds (748 trials) - extract features left: [0.09, 1.15], right: [0.04, 1.03]) -> 748 trials\n",
      "\n",
      "Participant 12, block 1: \n",
      "load - extract weight (left: [-2.95,-1.62], right: [-0.66,0.58]) - preprocess - segment (756 steps) - merge with sounds (749 trials) - extract features left: [0.06, 1.13], right: [0.03, 1.03]) -> 749 trials\n",
      "\n",
      "Participant 13, block 1: \n",
      "load - extract weight (left: [-2.95,-1.31], right: [-0.63,0.87]) - preprocess - segment (770 steps) - merge with sounds (640 trials) - extract features left: [0.05, 1.06], right: [0.03, 1.02]) -> 640 trials\n",
      "\n",
      "Participant 13, block 3: \n",
      "load - extract weight (left: [-2.95,-1.31], right: [-0.63,0.87]) - preprocess - segment (755 steps) - merge with sounds (737 trials) - extract features left: [0.03, 1.04], right: [0.04, 1.04]) -> 737 trials\n",
      "\n",
      "Participant 13, block 4: \n",
      "load - extract weight (left: [-2.95,-1.31], right: [-0.63,0.87]) - preprocess - segment (754 steps) - merge with sounds (679 trials) - extract features left: [0.08, 1.08], right: [0.04, 1.03]) -> 679 trials\n",
      "\n",
      "Participant 13, block 2: \n",
      "load - extract weight (left: [-2.95,-1.31], right: [-0.63,0.87]) - preprocess - segment (756 steps) - merge with sounds (731 trials) - extract features left: [0.08, 1.08], right: [0.03, 1.03]) -> 731 trials\n",
      "\n",
      "Participant 14, block 1: \n",
      "load - extract weight (left: [-1.87,-0.11], right: [-0.68,0.95]) - preprocess - segment (751 steps) - merge with sounds (737 trials) - extract features left: [0.05, 1.06], right: [0.03, 1.00]) -> 737 trials\n",
      "\n",
      "Participant 14, block 2: \n",
      "load - extract weight (left: [-1.87,-0.11], right: [-0.68,0.95]) - preprocess - segment (747 steps) - merge with sounds (735 trials) - extract features left: [0.09, 1.08], right: [0.03, 0.99]) -> 735 trials\n",
      "\n",
      "Participant 14, block 3: \n",
      "load - extract weight (left: [-1.87,-0.11], right: [-0.68,0.95]) - preprocess - segment (746 steps) - merge with sounds (738 trials) - extract features left: [0.10, 1.09], right: [0.04, 1.00]) -> 738 trials\n",
      "\n",
      "Participant 14, block 4: \n",
      "load - extract weight (left: [-1.87,-0.11], right: [-0.68,0.95]) - preprocess - segment (753 steps) - merge with sounds (737 trials) - extract features left: [0.11, 1.10], right: [0.06, 1.02]) -> 737 trials\n",
      "\n",
      "Participant 15, block 2: \n",
      "load - extract weight (left: [-2.21,-0.65], right: [-0.61,0.84]) - preprocess - segment (762 steps) - merge with sounds (749 trials) - extract features left: [0.10, 1.11], right: [0.06, 1.06]) -> 749 trials\n",
      "\n",
      "Participant 15, block 1: \n",
      "load - extract weight (left: [-2.21,-0.65], right: [-0.61,0.84]) - preprocess - segment (763 steps) - merge with sounds (738 trials) - extract features left: [0.07, 1.08], right: [0.05, 1.04]) -> 738 trials\n",
      "\n",
      "Participant 15, block 4: \n",
      "load - extract weight (left: [-2.21,-0.65], right: [-0.61,0.84]) - preprocess - segment (756 steps) - merge with sounds (748 trials) - extract features left: [0.14, 1.14], right: [0.10, 1.10]) -> 748 trials\n",
      "\n",
      "Participant 15, block 3: \n",
      "load - extract weight (left: [-2.21,-0.65], right: [-0.61,0.84]) - preprocess - segment (765 steps) - merge with sounds (749 trials) - extract features left: [0.12, 1.13], right: [0.08, 1.08]) -> 749 trials\n",
      "\n",
      "Participant 16, block 2: \n",
      "load - extract weight (left: [-2.47,-0.55], right: [-0.56,1.22]) - preprocess - segment (760 steps) - merge with sounds (719 trials) - extract features left: [0.07, 1.11], right: [0.04, 1.04]) -> 719 trials\n",
      "\n",
      "Participant 16, block 3: \n",
      "load - extract weight (left: [-2.47,-0.55], right: [-0.56,1.22]) - preprocess - segment (770 steps) - merge with sounds (743 trials) - extract features left: [0.07, 1.11], right: [0.05, 1.05]) -> 743 trials\n",
      "\n",
      "Participant 16, block 4: \n",
      "load - extract weight (left: [-2.47,-0.55], right: [-0.56,1.22]) - preprocess - segment (758 steps) - merge with sounds (733 trials) - extract features left: [0.09, 1.12], right: [0.06, 1.06]) -> 733 trials\n",
      "\n",
      "Participant 16, block 1: \n",
      "load - extract weight (left: [-2.47,-0.55], right: [-0.56,1.22]) - preprocess - segment (772 steps) - merge with sounds (588 trials) - extract features left: [0.06, 1.09], right: [0.04, 1.03]) -> 588 trials\n",
      "\n",
      "Participant 17, block 1: \n",
      "load - extract weight (left: [-2.64,-0.83], right: [-0.57,1.11]) - preprocess - segment (782 steps) - merge with sounds (482 trials) - extract features left: [0.05, 1.06], right: [0.03, 1.00]) -> 482 trials\n",
      "\n",
      "Participant 17, block 2: \n",
      "load - extract weight (left: [-2.64,-0.83], right: [-0.57,1.11]) - preprocess - segment (744 steps) - merge with sounds (599 trials) - extract features left: [0.08, 1.07], right: [0.04, 0.99]) -> 599 trials\n",
      "\n",
      "Participant 17, block 3: \n",
      "load - extract weight (left: [-2.64,-0.83], right: [-0.57,1.11]) - preprocess - segment (779 steps) - merge with sounds (516 trials) - extract features left: [0.09, 1.08], right: [0.04, 1.01]) -> 516 trials\n",
      "\n",
      "Participant 17, block 4: \n",
      "load - extract weight (left: [-2.64,-0.83], right: [-0.57,1.11]) - preprocess - segment (783 steps) - merge with sounds (446 trials) - extract features left: [0.10, 1.09], right: [0.05, 1.02]) -> 446 trials\n",
      "\n",
      "Participant 18, block 1: \n",
      "load - extract weight (left: [-2.46,-1.16], right: [-0.75,0.43]) - preprocess - segment (764 steps) - merge with sounds (403 trials) - extract features left: [0.06, 1.08], right: [0.02, 1.00]) -> 403 trials\n",
      "\n",
      "Participant 18, block 2: \n",
      "load - extract weight (left: [-2.46,-1.16], right: [-0.75,0.43]) - preprocess - segment (761 steps) - merge with sounds (398 trials) - extract features left: [0.10, 1.11], right: [0.03, 1.00]) -> 398 trials\n",
      "\n",
      "Participant 18, block 3: \n"
     ]
    },
    {
     "name": "stdout",
     "output_type": "stream",
     "text": [
      "load - extract weight (left: [-2.46,-1.16], right: [-0.75,0.43]) - preprocess - segment (765 steps) - merge with sounds (325 trials) - extract features left: [0.11, 1.12], right: [0.04, 1.02]) -> 325 trials\n",
      "\n",
      "Participant 18, block 4: \n",
      "load - extract weight (left: [-2.46,-1.16], right: [-0.75,0.43]) - preprocess - segment (762 steps) - merge with sounds (301 trials) - extract features left: [0.13, 1.14], right: [0.06, 1.04]) -> 301 trials\n",
      "\n",
      "Participant 19, block 2: \n",
      "load - extract weight (left: [-1.25,-0.05], right: [-0.63,0.41]) - preprocess - ABNORMAL z_left VALUE AFTER NORM: -0.824895,1.267932\n",
      "ABNORMAL z_right VALUE AFTER NORM: -0.039216,2.235294\n",
      "segment (753 steps) - merge with sounds (726 trials) - extract features left: [0.05, 1.05], right: [0.05, 1.03]) -> 726 trials\n",
      "\n",
      "Participant 19, block 3: \n",
      "load - extract weight (left: [-1.25,-0.05], right: [-0.63,0.41]) - preprocess - ABNORMAL z_left VALUE AFTER NORM: -0.810127,1.295359\n",
      "ABNORMAL z_right VALUE AFTER NORM: 0.000000,2.254902\n",
      "segment (753 steps) - merge with sounds (738 trials) - extract features left: [0.05, 1.04], right: [0.05, 1.04]) -> 738 trials\n",
      "\n",
      "Participant 19, block 1: \n",
      "load - extract weight (left: [-1.25,-0.05], right: [-0.63,0.41]) - preprocess - ABNORMAL z_left VALUE AFTER NORM: -0.902954,1.238397\n",
      "ABNORMAL z_right VALUE AFTER NORM: -0.049020,2.225490\n",
      "segment (755 steps) - merge with sounds (744 trials) - extract features left: [0.06, 1.03], right: [0.05, 1.03]) -> 744 trials\n",
      "\n",
      "Participant 19, block 4: \n",
      "load - extract weight (left: [-1.25,-0.05], right: [-0.63,0.41]) - preprocess - ABNORMAL z_left VALUE AFTER NORM: -0.782700,1.301688\n",
      "ABNORMAL z_right VALUE AFTER NORM: 0.009804,2.313725\n",
      "segment (754 steps) - merge with sounds (716 trials) - extract features left: [0.05, 1.05], right: [0.06, 1.04]) -> 716 trials\n",
      "\n",
      "Participant 20, block 4: \n",
      "load - extract weight (left: [-2.37,-0.21], right: [-0.81,1.19]) - preprocess - segment (762 steps) - merge with sounds (724 trials) - extract features left: [0.13, 1.13], right: [0.09, 1.06]) -> 724 trials\n",
      "\n",
      "Participant 20, block 3: \n",
      "load - extract weight (left: [-2.37,-0.21], right: [-0.81,1.19]) - preprocess - segment (765 steps) - merge with sounds (717 trials) - extract features left: [0.10, 1.10], right: [0.06, 1.03]) -> 717 trials\n",
      "\n",
      "Participant 20, block 2: \n",
      "load - extract weight (left: [-2.37,-0.21], right: [-0.81,1.19]) - preprocess - segment (764 steps) - merge with sounds (726 trials) - extract features left: [0.06, 1.06], right: [0.04, 1.02]) -> 726 trials\n",
      "\n",
      "Participant 20, block 1: \n",
      "load - extract weight (left: [-2.37,-0.21], right: [-0.81,1.19]) - preprocess - segment (762 steps) - merge with sounds (722 trials) - extract features left: [0.05, 1.06], right: [0.03, 1.00]) -> 722 trials\n",
      "\n"
     ]
    }
   ],
   "source": [
    "all_session_data = []\n",
    "for index, session in sessions_df.sort_values(by='participant').iterrows():\n",
    "\n",
    "    print('Participant %d, block %d: \\n'%(session['participant'],session['block']), end='')\n",
    "    # process session data into dataframe of trials\n",
    "    session_data_df = process_data(treadmill_data = session['data'],\n",
    "                                   weight_data = session['weights'],\n",
    "                                   sound_data = session['sounds'],\n",
    "                                   config_data = session['config'],\n",
    "                                   verbose=True)\n",
    "    print(' -> %d trials\\n'%len(session_data_df))\n",
    "    all_session_data.append(session_data_df)\n",
    "\n",
    "data = pd.concat(all_session_data)\n"
   ]
  },
  {
   "cell_type": "code",
   "execution_count": 67,
   "metadata": {
    "ExecuteTime": {
     "end_time": "2022-09-12T14:02:12.455236Z",
     "start_time": "2022-09-12T14:02:12.391255Z"
    }
   },
   "outputs": [],
   "source": [
    "# add musical score to treadmill data\n",
    "data = data.merge(answers_msi[['participant','age','gender','musician','musical_score']],\n",
    "                      left_on = 'participant',\n",
    "                      right_on = 'participant',\n",
    "                      how='left',\n",
    "                     suffixes=['','_msi']) \n",
    "# passer les données dans un nouveau fichier texte ?"
   ]
  },
  {
   "cell_type": "code",
   "execution_count": 68,
   "metadata": {
    "ExecuteTime": {
     "end_time": "2022-09-12T14:02:12.523899Z",
     "start_time": "2022-09-12T14:02:12.457078Z"
    }
   },
   "outputs": [],
   "source": [
    "data = data.reset_index().rename(columns={\"index\": \"trial_index\"})"
   ]
  },
  {
   "cell_type": "markdown",
   "metadata": {},
   "source": [
    "The complete datasets includes several configurations, using only original recordings or using all pitch-shifted recordings, using notes from 2 octaves or 5 octaves, and using isolated or repeated notes. In the following, we only analyse data from the `cont_narrow_repeat_3` configuration, which corresponds to notes extracted from octaves 4 and 5, including all pitch shifted versions, and each successive note repeated three consecutive times. "
   ]
  },
  {
   "cell_type": "code",
   "execution_count": 69,
   "metadata": {
    "ExecuteTime": {
     "end_time": "2022-09-12T14:02:12.572787Z",
     "start_time": "2022-09-12T14:02:12.525895Z"
    }
   },
   "outputs": [
    {
     "data": {
      "text/html": [
       "<div>\n",
       "<style scoped>\n",
       "    .dataframe tbody tr th:only-of-type {\n",
       "        vertical-align: middle;\n",
       "    }\n",
       "\n",
       "    .dataframe tbody tr th {\n",
       "        vertical-align: top;\n",
       "    }\n",
       "\n",
       "    .dataframe thead tr th {\n",
       "        text-align: left;\n",
       "    }\n",
       "\n",
       "    .dataframe thead tr:last-of-type th {\n",
       "        text-align: right;\n",
       "    }\n",
       "</style>\n",
       "<table border=\"1\" class=\"dataframe\">\n",
       "  <thead>\n",
       "    <tr>\n",
       "      <th></th>\n",
       "      <th colspan=\"2\" halign=\"left\">note</th>\n",
       "      <th>sound_id</th>\n",
       "      <th>pitch</th>\n",
       "    </tr>\n",
       "    <tr>\n",
       "      <th></th>\n",
       "      <th>min</th>\n",
       "      <th>max</th>\n",
       "      <th>nunique</th>\n",
       "      <th>nunique</th>\n",
       "    </tr>\n",
       "    <tr>\n",
       "      <th>condition_name</th>\n",
       "      <th></th>\n",
       "      <th></th>\n",
       "      <th></th>\n",
       "      <th></th>\n",
       "    </tr>\n",
       "  </thead>\n",
       "  <tbody>\n",
       "    <tr>\n",
       "      <th>cont_narrow_1</th>\n",
       "      <td>A4</td>\n",
       "      <td>Gb5</td>\n",
       "      <td>749</td>\n",
       "      <td>252</td>\n",
       "    </tr>\n",
       "    <tr>\n",
       "      <th>cont_narrow_repeat_3</th>\n",
       "      <td>A4</td>\n",
       "      <td>Gb5</td>\n",
       "      <td>749</td>\n",
       "      <td>249</td>\n",
       "    </tr>\n",
       "    <tr>\n",
       "      <th>discret_large_1</th>\n",
       "      <td>A2</td>\n",
       "      <td>Gb6</td>\n",
       "      <td>750</td>\n",
       "      <td>71</td>\n",
       "    </tr>\n",
       "    <tr>\n",
       "      <th>discret_large_repeat_3</th>\n",
       "      <td>A2</td>\n",
       "      <td>Gb6</td>\n",
       "      <td>749</td>\n",
       "      <td>71</td>\n",
       "    </tr>\n",
       "  </tbody>\n",
       "</table>\n",
       "</div>"
      ],
      "text/plain": [
       "                       note      sound_id   pitch\n",
       "                        min  max  nunique nunique\n",
       "condition_name                                   \n",
       "cont_narrow_1            A4  Gb5      749     252\n",
       "cont_narrow_repeat_3     A4  Gb5      749     249\n",
       "discret_large_1          A2  Gb6      750      71\n",
       "discret_large_repeat_3   A2  Gb6      749      71"
      ]
     },
     "execution_count": 69,
     "metadata": {},
     "output_type": "execute_result"
    }
   ],
   "source": [
    "data.groupby(['condition_name']).agg({'note':['min','max'], 'sound_id':'nunique','pitch':'nunique'})"
   ]
  },
  {
   "cell_type": "code",
   "execution_count": 70,
   "metadata": {
    "ExecuteTime": {
     "end_time": "2022-09-12T14:02:12.659537Z",
     "start_time": "2022-09-12T14:02:12.573768Z"
    }
   },
   "outputs": [],
   "source": [
    "data = data[data.condition_name =='cont_narrow_repeat_3']"
   ]
  },
  {
   "cell_type": "markdown",
   "metadata": {},
   "source": [
    "### Remove outliers"
   ]
  },
  {
   "cell_type": "markdown",
   "metadata": {},
   "source": [
    "This procedure results in an average M=668 trials per participant (min=403, max=750, SD=114), each associating the time-series of a single step and the characteristics of the corresponding musical note."
   ]
  },
  {
   "cell_type": "code",
   "execution_count": 71,
   "metadata": {
    "ExecuteTime": {
     "end_time": "2022-09-12T14:02:12.668514Z",
     "start_time": "2022-09-12T14:02:12.660533Z"
    }
   },
   "outputs": [
    {
     "data": {
      "text/plain": [
       "min     403.000000\n",
       "max     749.000000\n",
       "mean    668.650000\n",
       "std     114.535802\n",
       "Name: sound_id, dtype: float64"
      ]
     },
     "execution_count": 71,
     "metadata": {},
     "output_type": "execute_result"
    }
   ],
   "source": [
    "data.groupby(['participant']).sound_id.count().apply(['min','max','mean','std'])"
   ]
  },
  {
   "cell_type": "markdown",
   "metadata": {},
   "source": [
    "We removed participants who had more than 20% steps not associated with sounds. "
   ]
  },
  {
   "cell_type": "code",
   "execution_count": 89,
   "metadata": {
    "ExecuteTime": {
     "end_time": "2022-09-13T05:00:35.088302Z",
     "start_time": "2022-09-13T05:00:34.514815Z"
    }
   },
   "outputs": [
    {
     "name": "stdout",
     "output_type": "stream",
     "text": [
      "14 participants left in analysis (0 removed)\n"
     ]
    }
   ],
   "source": [
    "thresh=0.2\n",
    "data['nb_trials'] = data.groupby(['participant']).sound_id.transform(\"count\")\n",
    "data.loc[:,'outlier_status'] = data.nb_trials < 750*(1-thresh)\n",
    "print(\"%d participants left in analysis (%d removed)\"%(data[data.outlier_status==False].participant.nunique(),\n",
    "                                                       data[data.outlier_status==True].participant.nunique()))"
   ]
  },
  {
   "cell_type": "code",
   "execution_count": 73,
   "metadata": {
    "ExecuteTime": {
     "end_time": "2022-09-12T14:02:12.711432Z",
     "start_time": "2022-09-12T14:02:12.699488Z"
    }
   },
   "outputs": [
    {
     "data": {
      "text/plain": [
       "gender  musician\n",
       "F       non         1\n",
       "        oui         2\n",
       "M       non         2\n",
       "        oui         1\n",
       "Name: participant, dtype: int64"
      ]
     },
     "execution_count": 73,
     "metadata": {},
     "output_type": "execute_result"
    }
   ],
   "source": [
    "data[data.outlier_status==True].groupby(['gender','musician']).participant.nunique()"
   ]
  },
  {
   "cell_type": "code",
   "execution_count": 74,
   "metadata": {
    "ExecuteTime": {
     "end_time": "2022-09-12T14:02:20.500350Z",
     "start_time": "2022-09-12T14:02:12.712397Z"
    }
   },
   "outputs": [],
   "source": [
    "data[data.outlier_status==False].to_csv('data/data.csv')"
   ]
  },
  {
   "cell_type": "markdown",
   "metadata": {},
   "source": [
    "### Data-driven analysis"
   ]
  },
  {
   "cell_type": "markdown",
   "metadata": {},
   "source": [
    "While previous work has focused on quantifying step data based on predefined characteristics (such as step and stride length, or heel and toe contact force), and contrast them along predefined stimulus properties (such as consonance), we use here a data-driven strategy in which we let regions showing significant associations with sound emerge from an \\emph{a-posteriori} analysis of participant responses to many, systematically-varied sounds. \n",
    "\n",
    "In more details, we use a method inspired by the psychophysical technique of \"classification images\" . For each participant $k$, we compute a kernel $\\tilde{p}_k(t)$ obtained by multiplying the time series of each the participant's $n$ steps $p_i(t)$ (with $t\\in[0,100]$ for a 1-sec step sampled at 100Hz) by a weighting factor $z_i$ corresponding to the z-score of the log-transformed pitch of the corresponding note, and then averaging these weighted time-series over all $n$ steps: \n",
    "$\\tilde{p}_k(t)=\\Sigma_{i=1}^{n} p_{i}^{k}(t)z_i$. Doing so, we weight negatively the patterns of step data that are associated with sound events with lower-than-average pitch, and positively weight those associated with high pitch. The resulting kernel $\\tilde{p}_k(t)$ is itself a time-series analog to a single step, which represents the strength of statistical association between step force and musical pitch, as a function of time. We test the statistical significance of this association with a one-sample ttest comparison to zero at each time point. \n"
   ]
  },
  {
   "cell_type": "markdown",
   "metadata": {},
   "source": [
    "#### Melt time series as successive (t,v) rows for each step"
   ]
  },
  {
   "cell_type": "code",
   "execution_count": 3,
   "metadata": {
    "ExecuteTime": {
     "end_time": "2022-09-20T13:11:23.646766Z",
     "start_time": "2022-09-20T13:11:23.636791Z"
    }
   },
   "outputs": [],
   "source": [
    "def melt_time_series (data_in, \n",
    "                      feature='z',\n",
    "                     normalize_time=True,\n",
    "                     z_score=False): \n",
    "    \n",
    "    QUANT = .99\n",
    "    columns = {}\n",
    "    \n",
    "    data = data_in.copy()\n",
    "    \n",
    "    # convert x,y,z string representations to lists (by evaluating them as literals)\n",
    "    data[feature] = data[feature].apply(lambda row: ast.literal_eval(row))\n",
    "    \n",
    "    if z_score: \n",
    "        data[feature] = data[feature].apply(lambda x: (x-np.nanmean(x))/np.nanstd(x))\n",
    "\n",
    "    data['relative_time'] = (data.time - data.start)/data.step_duration # location of sound in % step duration\n",
    "\n",
    "    # remove all steps larger than QUANT quantile\n",
    "    length_col = 'len_'+feature+'_value'\n",
    "    data[length_col] = data[feature].apply(len)\n",
    "    maximum_length = data[length_col].quantile(QUANT)\n",
    "    data = data[data[length_col] <= maximum_length]\n",
    "    \n",
    "    if normalize_time: \n",
    "        NORM_LENGTH = 100 \n",
    "        # normalize x,y,z to 100\n",
    "        data[feature] = data.apply(lambda row: signal.resample(row[feature],NORM_LENGTH), axis=1)\n",
    "        maximum_length = NORM_LENGTH\n",
    "                               \n",
    "    else: \n",
    "        # pad x,y,z to maximum_length\n",
    "        data[feature] = data.apply(lambda row: np.pad(row[feature],\n",
    "                                                      (0, int(maximum_length-row[length_col])),\n",
    "                                                      'constant',constant_values=np.nan), axis=1)\n",
    "    \n",
    "    # create dataframe with series data as columns\n",
    "    for i in np.arange(maximum_length): \n",
    "        columns['%s_%d'%(feature,i)]= np.stack(data[feature].to_numpy())[:,int(i)]\n",
    "    df = pd.DataFrame(columns)\n",
    "\n",
    "    # merge with data\n",
    "    data = pd.concat([data.reset_index(drop=True),df], axis=1)\n",
    "\n",
    "    # melt series data columns as lines (t,value)\n",
    "    value_vars = [feature+'_%d'%i for i in np.arange(maximum_length)]\n",
    "    id_vars = [x for x in list(data) if (x not in value_vars)]\n",
    "    data = pd.melt(data, \n",
    "                   id_vars=id_vars, \n",
    "                   value_vars=value_vars,\n",
    "                   var_name='t',\n",
    "                   value_name=feature+'_value')\n",
    "\n",
    "    # reformat t as integer (z_32 -> 32)\n",
    "    data.t = data.t.apply(lambda v: int(v.split('_')[1]))\n",
    "    \n",
    "    return data"
   ]
  },
  {
   "cell_type": "markdown",
   "metadata": {},
   "source": [
    "#### Compute classification images"
   ]
  },
  {
   "cell_type": "code",
   "execution_count": 4,
   "metadata": {
    "ExecuteTime": {
     "end_time": "2022-09-20T13:11:24.545043Z",
     "start_time": "2022-09-20T13:11:24.542021Z"
    }
   },
   "outputs": [],
   "source": [
    "zscore = lambda x: (x-np.nanmean(x))/np.nanstd(x)\n",
    "\n",
    "def compute_classification_image(data, \n",
    "                                 feature='z_value',\n",
    "                                 criteria = 'log_pitch'): \n",
    "    \n",
    "    kernels = data.copy()\n",
    "    \n",
    "    # compute classification image\n",
    "    # normalize musical pitch\n",
    "    kernels['norm_criteria'] = kernels.groupby(['participant'])[criteria].transform(zscore)\n",
    "    # ponderate times series with criteria\n",
    "    kernels['gain'] = (kernels[feature] * kernels.norm_criteria)\n",
    "    \n",
    "    return kernels"
   ]
  },
  {
   "cell_type": "code",
   "execution_count": 5,
   "metadata": {
    "ExecuteTime": {
     "end_time": "2022-09-20T13:11:24.725508Z",
     "start_time": "2022-09-20T13:11:24.719526Z"
    }
   },
   "outputs": [],
   "source": [
    "def compute_one_sample_stats(kernels): \n",
    "    \n",
    "    stats = []\n",
    "    for t in kernels.t.unique():\n",
    "        sample = kernels[kernels.t==t].gain # all kernel gains at that time\n",
    "        # if length is not normalized, and for high-t's, we may have samples witha  single point (and the rest of NaNs)\n",
    "        if np.count_nonzero(~np.isnan(sample))>1: # test that sample > 1\n",
    "            stats += [pg.ttest(sample,0).loc['T-test',['p-val','T','dof']]] # one-sample difference to zero\n",
    "            \n",
    "    # display time steps where stat is significant\n",
    "    all_stats = [(t,cell) for t,cell in enumerate(stats)]\n",
    "    sig_t = [(t,cell) for t,cell in enumerate(stats) if cell['p-val']<=0.05]\n",
    "    #for t,cell in sig_t:\n",
    "    #    print('- %d: t(%d)=%.2f, p=%.3f'%(t+offset,cell['dof'],cell['T'],cell['p-val']))\n",
    "    return all_stats, sig_t\n",
    "            "
   ]
  },
  {
   "cell_type": "code",
   "execution_count": 6,
   "metadata": {
    "ExecuteTime": {
     "end_time": "2022-09-20T13:11:24.940611Z",
     "start_time": "2022-09-20T13:11:24.934610Z"
    }
   },
   "outputs": [],
   "source": [
    "def compute_two_sample_stats(kernels1, kernels2): \n",
    "    \n",
    "    stats = []\n",
    "            \n",
    "    for t in kernels1.t.unique():\n",
    "        sample_1 = kernels1[kernels1.t==t].gain\n",
    "        sample_2 = kernels2[kernels2.t==t].gain                \n",
    "        if (np.count_nonzero(~np.isnan(sample_1))>1) & (np.count_nonzero(~np.isnan(sample_2))>1): # test that both samples > 1\n",
    "            stats += [pg.ttest(sample_1,sample_2,paired=False).loc['T-test',['p-val','T','dof']]]\n",
    "            \n",
    "    all_stats = [(t,cell) for t,cell in enumerate(stats)]\n",
    "    sig_t = [(t,cell) for t,cell in enumerate(stats) if cell['p-val']<=0.05]\n",
    "    # for t,cell in sig_t:\n",
    "    #     print('- %d: t(%d)=%.2f, p=%.3f'%(t,cell['dof'],cell['T'],cell['p-val']))\n",
    "    \n",
    "    return all_stats, sig_t"
   ]
  },
  {
   "cell_type": "markdown",
   "metadata": {},
   "source": [
    "#### Kernel visualization"
   ]
  },
  {
   "cell_type": "code",
   "execution_count": 7,
   "metadata": {
    "ExecuteTime": {
     "end_time": "2022-09-20T13:11:25.425879Z",
     "start_time": "2022-09-20T13:11:25.416898Z"
    }
   },
   "outputs": [],
   "source": [
    "def plot_classification_image(kernels,\n",
    "                              mean_time, \n",
    "                              stats, \n",
    "                              ylim = [-0.01, 0.01],\n",
    "                              ylabel=True,\n",
    "                              label = \"\",\n",
    "                              xlabel=True,\n",
    "                              legend='brief',\n",
    "                              alphas=[1.0,1.0], \n",
    "                              fontsize = 40,\n",
    "                              linewidth = 3):\n",
    "    \n",
    "    if legend:\n",
    "        legend='brief'\n",
    "     \n",
    "    for epoch_index,epoch in enumerate(['before','after']):\n",
    "        \n",
    "        if(epoch=='before'):\n",
    "            a = kernels[kernels.t<=mean_time]\n",
    "            legend_label = label + \"pre-stimulus\"\n",
    "        \n",
    "        if(epoch=='after'):\n",
    "            a = kernels[kernels.t>=mean_time]\n",
    "            legend_label = label + \"post-stimulus\"\n",
    "        \n",
    "        sns.lineplot(data=a,\n",
    "                     x='t',\n",
    "                     y='gain',\n",
    "                     palette=sns.color_palette()[epoch_index], \n",
    "                     legend=legend,\n",
    "                     label = legend_label,\n",
    "                     alpha=alphas[epoch_index],\n",
    "                     linewidth = linewidth)        \n",
    "    \n",
    "        for t,cell in stats:\n",
    "            if(epoch=='before'):\n",
    "                if(t>=mean_time):\n",
    "                    break\n",
    "            if(epoch=='after'):\n",
    "                if(t<=mean_time):\n",
    "                    continue\n",
    "            plt.text(t,ylim[1]/3,'*',color=sns.color_palette()[epoch_index], fontsize=fontsize, alpha=alphas[epoch_index])\n",
    "                    \n",
    "    # format graph\n",
    "    plt.plot([0,120],[0,0],'k:')\n",
    "    plt.xlim([0,100])\n",
    "    plt.xlabel('time', fontsize=fontsize)\n",
    "    plt.ylim(ylim)\n",
    "    plt.xticks(fontsize=fontsize)\n",
    "    plt.yticks(fontsize=fontsize)\n",
    "    plt.ylabel('gain (a.u.)',fontsize=fontsize)\n",
    "    if not xlabel:\n",
    "        plt.xlabel('')\n",
    "        plt.xticks([])\n",
    "    if not ylabel:\n",
    "        plt.ylabel('')\n",
    "        plt.yticks([])\n",
    "    if legend: \n",
    "        leg = plt.legend(loc=2, prop={'size': fontsize})\n",
    "        for line in leg.get_lines():\n",
    "            line.set_linewidth(linewidth)\n",
    "            \n",
    "    \n",
    "    # plot mean onset time\n",
    "    plt.plot([mean_time,mean_time],ylim,'k:', linewidth=linewidth)   \n"
   ]
  },
  {
   "cell_type": "markdown",
   "metadata": {},
   "source": [
    "## Results"
   ]
  },
  {
   "cell_type": "code",
   "execution_count": 8,
   "metadata": {
    "ExecuteTime": {
     "end_time": "2022-09-20T13:11:27.202601Z",
     "start_time": "2022-09-20T13:11:26.207947Z"
    }
   },
   "outputs": [],
   "source": [
    "data = pd.read_csv('data/data.csv', index_col=0)\n",
    "data = data.reset_index(drop=True)"
   ]
  },
  {
   "cell_type": "markdown",
   "metadata": {},
   "source": [
    "### Average step"
   ]
  },
  {
   "cell_type": "markdown",
   "metadata": {},
   "source": [
    "Participants' step data displayed a saddle shape in the vertical and medio-lateral force dimensions and a progressive transition from anterior to posterior force, which is the expected shape for a stance including an initial, braking heel strike followed by a final propulsive 'toe off'. Step duration was stable at M=105ms (SD=71ms). Consistent with similar synchronization tasks in the literature, we found that participants' steps steadily anticipated the onset of the notes, with a mean onset time occurring M=608ms (SD=83ms) after the start of support of the corresponding step, roughly at a local minimum of antero-posterior and latero-medial forces. "
   ]
  },
  {
   "cell_type": "code",
   "execution_count": null,
   "metadata": {
    "ExecuteTime": {
     "start_time": "2022-09-20T13:11:27.129Z"
    }
   },
   "outputs": [
    {
     "name": "stdout",
     "output_type": "stream",
     "text": [
      "mean onset time t=608.7ms\n"
     ]
    }
   ],
   "source": [
    "fig = plt.figure(figsize=(5,5))\n",
    "    \n",
    "z_data = melt_time_series (data_in=data, feature='z',\n",
    "                         normalize_time=False) \n",
    "a = z_data.groupby(['participant','t']).agg({'z_value':np.nanmean}).reset_index()\n",
    "\n",
    "sns.lineplot(data=a,\n",
    "             x='t',\n",
    "             y='z_value',\n",
    "             #estimator=None,\n",
    "             #units='participant', \n",
    "            alpha=0.6)\n",
    "             #hue='p '+a['participant'].astype(str))\n",
    "plt.title('Vertical')\n",
    "_=plt.xlabel('time (x 10ms)')\n",
    "_=plt.ylabel('Force (% static weight)')\n",
    "#plt.legend(loc=8, ncol=6)\n",
    "\n",
    "mean_relative_time = z_data.groupby(['participant']).relative_time.mean().mean()\n",
    "mean_duration = z_data.groupby(['participant']).step_duration.mean().mean()\n",
    "mean_time = mean_relative_time * mean_duration / 0.01\n",
    "print(\"mean onset time t=%.1fms\"%(mean_time*10))\n",
    "plt.text(mean_time+2,1.15, \"t=%.1fms\"%(mean_time*10))\n",
    "plt.plot([mean_time, mean_time],[0,1.2], 'k:', linewidth=3)\n",
    "plt.xlim([0,100])\n",
    "plt.savefig('./pics/average_z.pdf', format='pdf', dpi=600, transparent=True)\n",
    "\n",
    "#fig = plt.figure(figsize=(5,5))\n",
    "\n",
    "fig = plt.figure(figsize=(5,5))\n",
    "    \n",
    "x_data = melt_time_series (data_in=data,\n",
    "                           feature='x',\n",
    "                         normalize_time=False, \n",
    "                        z_score=True) \n",
    "a = x_data.groupby(['participant','t']).agg({'x_value':np.nanmean}).reset_index()\n",
    "\n",
    "sns.lineplot(data=a,\n",
    "             x='t',\n",
    "             y='x_value',\n",
    "             #estimator=None,\n",
    "             #units='participant', \n",
    "            alpha=0.6)\n",
    "             #hue='p '+a['participant'].astype(str))\n",
    "plt.title('Antero-posterior')\n",
    "_=plt.xlabel('time (x 10ms)')\n",
    "_=plt.ylabel('Force (zscore)')\n",
    "plt.ylim([-0.5,0.5])\n",
    "plt.plot([mean_time, mean_time],[-0.5,0.5], 'k:', linewidth=3)\n",
    "plt.text(mean_time+2,0.4, \"t=%.1fms\"%(mean_time*10))\n",
    "\n",
    "plt.plot([0,100],[0,0],'k:')\n",
    "plt.xlim([0,100])\n",
    "plt.savefig('./pics/average_x.pdf', format='pdf', dpi=600, transparent=True)\n",
    "\n",
    "#fig = plt.figure(figsize=(5,5))\n",
    "\n",
    "fig = plt.figure(figsize=(5,5))\n",
    "    \n",
    "y_data = melt_time_series (data_in=data, \n",
    "                         feature='y',\n",
    "                         normalize_time=False, \n",
    "                        z_score=True) \n",
    "a = y_data.groupby(['participant','t']).agg({'y_value':lambda x: -np.nanmean(x)}).reset_index()\n",
    "\n",
    "sns.lineplot(data=a,\n",
    "             x='t',\n",
    "             y='y_value',\n",
    "             #estimator=None\n",
    "             #units='participant', \n",
    "            alpha=0.6)\n",
    "             #hue='p '+a['participant'].astype(str))\n",
    "plt.title('Latero-medial')\n",
    "_=plt.xlabel('time (x 10ms)')\n",
    "_=plt.ylabel('Force (zscore)')\n",
    "plt.plot([mean_time, mean_time],[-1.0,2.5], 'k:', linewidth=3)\n",
    "plt.text(mean_time+2,2, \"t=%.1fms\"%(mean_time*10))\n",
    "plt.plot([0,100],[0,0],'k:')\n",
    "plt.xlim([0,100])\n",
    "plt.savefig('./pics/average_y.pdf', format='pdf', dpi=600, transparent=True)\n"
   ]
  },
  {
   "cell_type": "code",
   "execution_count": null,
   "metadata": {
    "ExecuteTime": {
     "start_time": "2022-09-20T13:11:27.341Z"
    },
    "scrolled": false
   },
   "outputs": [],
   "source": [
    "data['onset_time'] = (data.time - data.start)\n",
    "sns.histplot(data=data, x=\"onset_time\", kde=True, binwidth=0.05)\n",
    "plt.xlim([0,1])\n",
    "data.onset_time.describe()"
   ]
  },
  {
   "cell_type": "code",
   "execution_count": null,
   "metadata": {
    "ExecuteTime": {
     "start_time": "2022-09-20T13:11:27.530Z"
    },
    "scrolled": false
   },
   "outputs": [],
   "source": [
    "sns.histplot(data=data, x=\"step_duration\", kde=True, binwidth=0.05)\n",
    "plt.xlim([0.5,1.5])\n",
    "data.step_duration.describe()"
   ]
  },
  {
   "cell_type": "markdown",
   "metadata": {},
   "source": [
    "### Classification images - all steps"
   ]
  },
  {
   "cell_type": "markdown",
   "metadata": {},
   "source": [
    "Participants' classification images showed a cluster of statistically-significant negative associations between musical pitch and vertical force from t=800 to 1000ms (t(13) $\\in$ [-2.20,-3.58], all ps < .046), showing that steps that occurred on lower notes exhibited more positive vertical force in their later, propulsive phase. This cluster co-occurred with a similarly negative association in the latero-medial dimension (from t=780 to 880ms; t(13) $\\in$ [-2.24,-3.71], all ps < .043), indicating a medial direction consistent with the final toe off. There was no association between musical pitch and participants' steps in the antero-posterior dimension. "
   ]
  },
  {
   "cell_type": "markdown",
   "metadata": {},
   "source": [
    "#### Vertical force"
   ]
  },
  {
   "cell_type": "code",
   "execution_count": null,
   "metadata": {
    "ExecuteTime": {
     "start_time": "2022-09-20T13:11:28.374Z"
    }
   },
   "outputs": [],
   "source": [
    "z_data = melt_time_series (data_in=data, feature='z',\n",
    "                         normalize_time=False) "
   ]
  },
  {
   "cell_type": "code",
   "execution_count": null,
   "metadata": {
    "ExecuteTime": {
     "start_time": "2022-09-20T13:11:28.581Z"
    }
   },
   "outputs": [],
   "source": [
    "kernels = compute_classification_image(z_data, \n",
    "                                 feature='z_value',\n",
    "                                 criteria = 'log_pitch')\n",
    "\n",
    "participant_kernels = kernels.groupby(['participant','t']).gain.mean().reset_index()"
   ]
  },
  {
   "cell_type": "code",
   "execution_count": null,
   "metadata": {
    "ExecuteTime": {
     "start_time": "2022-09-20T13:11:28.790Z"
    }
   },
   "outputs": [],
   "source": [
    "stats, sig_t = compute_one_sample_stats(participant_kernels)\n",
    "for t,cell in sig_t:\n",
    "    print('- %d: t(%d)=%.2f, p=%.3f'%(t,cell['dof'],cell['T'],cell['p-val']))"
   ]
  },
  {
   "cell_type": "code",
   "execution_count": null,
   "metadata": {
    "ExecuteTime": {
     "start_time": "2022-09-20T13:11:29.017Z"
    }
   },
   "outputs": [],
   "source": [
    "mean_relative_time = z_data.groupby(['participant']).relative_time.mean().mean()\n",
    "mean_duration = z_data.groupby(['participant']).step_duration.mean().mean()\n",
    "mean_time = mean_relative_time * mean_duration / 0.01\n",
    "print(\"mean onset time t=%.1fms\"%(mean_time*10))\n",
    "\n",
    "fig = plt.figure(figsize=(10,5))\n",
    "plot_classification_image(kernels=participant_kernels,\n",
    "                         mean_time=mean_time,\n",
    "                         stats=sig_t, \n",
    "                         alphas=[0.2,1], fontsize=20)\n",
    "plt.title('Vertical force')\n",
    "\n",
    "plt.savefig('./pics/kernel_z.pdf', format='pdf', dpi=600, transparent=True)\n"
   ]
  },
  {
   "cell_type": "markdown",
   "metadata": {},
   "source": [
    "#### Antero-posterior"
   ]
  },
  {
   "cell_type": "code",
   "execution_count": null,
   "metadata": {
    "ExecuteTime": {
     "start_time": "2022-09-20T13:11:29.449Z"
    }
   },
   "outputs": [],
   "source": [
    "x_data = melt_time_series (data_in=data, feature='x',\n",
    "                         normalize_time=False, z_score=True) "
   ]
  },
  {
   "cell_type": "code",
   "execution_count": null,
   "metadata": {
    "ExecuteTime": {
     "start_time": "2022-09-20T13:11:29.668Z"
    }
   },
   "outputs": [],
   "source": [
    "kernels = compute_classification_image(x_data, \n",
    "                                 feature='x_value',\n",
    "                                 criteria = 'log_pitch')\n",
    "\n",
    "participant_kernels = kernels.groupby(['participant','t']).gain.mean().reset_index()"
   ]
  },
  {
   "cell_type": "code",
   "execution_count": null,
   "metadata": {
    "ExecuteTime": {
     "start_time": "2022-09-20T13:11:29.887Z"
    }
   },
   "outputs": [],
   "source": [
    "stats, sig_t = compute_one_sample_stats(participant_kernels)\n",
    "for t,cell in sig_t:\n",
    "    print('- %d: t(%d)=%.2f, p=%.3f'%(t,cell['dof'],cell['T'],cell['p-val']))"
   ]
  },
  {
   "cell_type": "code",
   "execution_count": null,
   "metadata": {
    "ExecuteTime": {
     "start_time": "2022-09-20T13:11:30.098Z"
    },
    "scrolled": true
   },
   "outputs": [],
   "source": [
    "fig = plt.figure(figsize=(10,5))\n",
    "plot_classification_image(kernels=participant_kernels,\n",
    "                         mean_time=mean_time,\n",
    "                         stats=sig_t, \n",
    "                         alphas=[0.2,1], ylim=[-0.05,0.05],fontsize=20)\n",
    "plt.title('Antero-posterior force')\n",
    "plt.savefig('./pics/kernel_x.pdf', format='pdf', dpi=600, transparent=True)\n",
    "\n"
   ]
  },
  {
   "cell_type": "markdown",
   "metadata": {},
   "source": [
    "#### Medio-lateral force"
   ]
  },
  {
   "cell_type": "code",
   "execution_count": null,
   "metadata": {
    "ExecuteTime": {
     "start_time": "2022-09-20T13:11:30.529Z"
    }
   },
   "outputs": [],
   "source": [
    "y_data = melt_time_series (data_in=data, feature='y',\n",
    "                         normalize_time=False, z_score=True) "
   ]
  },
  {
   "cell_type": "code",
   "execution_count": null,
   "metadata": {
    "ExecuteTime": {
     "start_time": "2022-09-20T13:11:30.743Z"
    }
   },
   "outputs": [],
   "source": [
    "kernels = compute_classification_image(y_data, \n",
    "                                 feature='y_value',\n",
    "                                 criteria = 'log_pitch')\n",
    "\n",
    "participant_kernels = kernels.groupby(['participant','t']).gain.mean().reset_index()"
   ]
  },
  {
   "cell_type": "code",
   "execution_count": null,
   "metadata": {
    "ExecuteTime": {
     "start_time": "2022-09-20T13:11:30.961Z"
    }
   },
   "outputs": [],
   "source": [
    "stats, sig_t = compute_one_sample_stats(participant_kernels)\n",
    "for t,cell in sig_t:\n",
    "    print('- %d: t(%d)=%.2f, p=%.3f'%(t,cell['dof'],cell['T'],cell['p-val']))"
   ]
  },
  {
   "cell_type": "code",
   "execution_count": null,
   "metadata": {
    "ExecuteTime": {
     "start_time": "2022-09-20T13:11:31.155Z"
    }
   },
   "outputs": [],
   "source": [
    "fig = plt.figure(figsize=(10,5))\n",
    "plot_classification_image(kernels=participant_kernels,\n",
    "                         mean_time=mean_time,\n",
    "                         stats=sig_t, \n",
    "                         alphas=[0.2,1], ylim=[-0.05,0.05],fontsize=20)\n",
    "plt.title('Medio-lateral force', fontsize=20)\n",
    "plt.savefig('./pics/kernel_y.pdf', format='pdf', dpi=600, transparent=True)\n"
   ]
  },
  {
   "cell_type": "markdown",
   "metadata": {},
   "source": [
    "### Classification images - by repeats"
   ]
  },
  {
   "cell_type": "markdown",
   "metadata": {},
   "source": [
    "We then grouped each participant's trials and computed separated classification images for steps that occurred on the first, second and third repetition of each note. This revealed that the above effect was driven by negative associations that occurred specifically the second and third consecutive time any given note was heard and stepped onto. In the vertical force dimension, step 2 had a significant negative cluster from t=710 to 810ms (t(13) $\\in$ [-2.23,-2.99], all ps < .044) and step 3 from 810 to 1060ms (t(13) $\\in$ [-2.18, -4.01], all ps < .049), but none in step 1."
   ]
  },
  {
   "cell_type": "code",
   "execution_count": null,
   "metadata": {
    "ExecuteTime": {
     "start_time": "2022-09-20T13:11:31.776Z"
    }
   },
   "outputs": [],
   "source": [
    "z_data = melt_time_series (data_in=data, feature='z',\n",
    "                         normalize_time=False) "
   ]
  },
  {
   "cell_type": "code",
   "execution_count": null,
   "metadata": {
    "ExecuteTime": {
     "start_time": "2022-09-20T13:11:31.984Z"
    }
   },
   "outputs": [],
   "source": [
    "fig = plt.figure(figsize=(60,15))\n",
    "plt.subplots_adjust(wspace=0.05,hspace=0.1)\n",
    "fontsize=40\n",
    "\n",
    "for index,repeat in enumerate([1,2,3]): \n",
    "    \n",
    "    kernels = compute_classification_image(data=z_data[z_data.repeat_index==repeat], \n",
    "                                 feature='z_value',\n",
    "                                 criteria = 'log_pitch')\n",
    "    \n",
    "    participant_kernels = kernels.groupby(['participant','t']).gain.mean().reset_index()\n",
    "    stats, sig_t = compute_one_sample_stats(participant_kernels)\n",
    "    \n",
    "    print('REPEAT_INDEX =%d'%repeat)\n",
    "    for t,cell in sig_t:\n",
    "        print('- %d: t(%d)=%.2f, p=%.3f'%(t,cell['dof'],cell['T'],cell['p-val']))\n",
    "    \n",
    "    plt.subplot(1,3,index+1)\n",
    "    \n",
    "    plot_classification_image(kernels=participant_kernels,\n",
    "                              mean_time=mean_time,\n",
    "                              stats=sig_t, \n",
    "                              ylabel = True if index == 0 else False, \n",
    "                              legend = False if repeat > 1 else 'brief',\n",
    "                              fontsize=fontsize)\n",
    "    plt.title ('Step %d'%repeat, fontsize=fontsize) \n",
    "    plt.xlabel('time (x10ms)')\n",
    "            \n",
    "            \n",
    "plt.savefig('./pics/step_kernel_z.pdf', format='pdf', dpi=600, transparent=True)\n",
    " "
   ]
  },
  {
   "cell_type": "markdown",
   "metadata": {},
   "source": [
    "### Repeated-measure correlations"
   ]
  },
  {
   "cell_type": "markdown",
   "metadata": {},
   "source": [
    "This pattern of data is consistent with both the interpretation that participants' steps performed on tones with lower pitch were heavier (showing more vertical force), but also that these steps were longer: because classification images were computed by aggregating steps of varied duration, it is possible that steps that had (positive) vertical force for longer amounts of time occurred more often for lower pitch, and that shorter steps, whose vertical force reached zero earlier, were conversely associated with higher pitch. For a confirmatory analysis, we therefore computed separate repeated-measure correlations between the (log-transformed) pitch in each participant's trials and the weight (computed as the mean vertical force between 800 and 1000ms) and duration of the corresponding steps: both correlations were significant at step 3 (weight: r(2291)=-0.043  [-0.08, -0.0], p=.03; duration: r(2291)=-0.066 [-0.11, -0.03], p=.001)."
   ]
  },
  {
   "cell_type": "code",
   "execution_count": null,
   "metadata": {
    "ExecuteTime": {
     "start_time": "2022-09-20T13:11:32.582Z"
    },
    "scrolled": false
   },
   "outputs": [],
   "source": [
    "for repeat_index in [1,2,3]:\n",
    "    corr_data = z_data[(z_data.t.isin(np.arange(80,100)))\n",
    "         &(z_data.repeat_index==repeat_index)].groupby(['participant','log_pitch']).agg({'z_value':np.nanmean}).reset_index()\n",
    "    \n",
    "    print('REPEAT '+str(repeat_index))\n",
    "    print(pg.rm_corr(data=corr_data, x='log_pitch', y='z_value', subject='participant'))\n",
    "    pg.plot_rm_corr(data=corr_data, x='log_pitch', y='z_value', subject='participant', legend=True, \n",
    "                    kwargs_facetgrid=dict(height=6, aspect=1,palette='flare'))\n",
    "    \n",
    "    plt.savefig('./pics/corr_weight_step%d.pdf'%repeat_index, format='pdf', dpi=600, transparent=True)\n",
    "      \n",
    "    #plt.ylim([0.8,1.1])\n"
   ]
  },
  {
   "cell_type": "code",
   "execution_count": null,
   "metadata": {
    "ExecuteTime": {
     "start_time": "2022-09-20T13:11:32.776Z"
    },
    "scrolled": false
   },
   "outputs": [],
   "source": [
    "for repeat_index in [1,2,3]:\n",
    "    corr_data = z_data[z_data.repeat_index==repeat_index].groupby(['participant','log_pitch']).agg({'len_z_value':np.nanmean}).reset_index()\n",
    "    \n",
    "    print('REPEAT '+str(repeat_index))\n",
    "    print(pg.rm_corr(data=corr_data, x='log_pitch', y='len_z_value', subject='participant'))\n",
    "    pg.plot_rm_corr(data=corr_data, x='log_pitch', y='len_z_value', subject='participant', legend=True, \n",
    "                    kwargs_facetgrid=dict(height=6, aspect=1,palette='flare'))\n",
    "    plt.ylim([95,115])\n",
    "    plt.savefig('./pics/corr_duration_step%d.pdf'%repeat_index, format='pdf', dpi=600, transparent=True)\n",
    "\n"
   ]
  },
  {
   "cell_type": "markdown",
   "metadata": {},
   "source": [
    "### Control : normalized duration"
   ]
  },
  {
   "cell_type": "markdown",
   "metadata": {},
   "source": [
    "In addition, to verify that musical pitch had an influence on stepping weight beyond the effect on step duration, we repeated the classification image analysis by normalizing all steps to 100\\% duration. Classification images in the vertical dimension continued to exhibit a significant negative cluster at step 2 (from t=670 to 740ms, t(13)$\\in$[-2.23,-3.72], all ps < .044), and repeated-measure correlations between log pitch and weight in the same range (700-750ms) remained consistent, albeit non significant: r(2286)=-0.034 [-0.08, 0.01], p=.09. All in one, we therefore found converging evidence that participants' steps were both longer and heavier when they stepped on musical notes with lower pitch. \\hl{effect size}"
   ]
  },
  {
   "cell_type": "markdown",
   "metadata": {},
   "source": [
    "#### Classification images"
   ]
  },
  {
   "cell_type": "code",
   "execution_count": null,
   "metadata": {
    "ExecuteTime": {
     "start_time": "2022-09-20T13:11:33.567Z"
    }
   },
   "outputs": [],
   "source": [
    "norm_z_data = melt_time_series (data_in=data, feature='z',\n",
    "                         normalize_time=True) "
   ]
  },
  {
   "cell_type": "code",
   "execution_count": null,
   "metadata": {
    "ExecuteTime": {
     "start_time": "2022-09-20T13:11:33.768Z"
    }
   },
   "outputs": [],
   "source": [
    "kernels = compute_classification_image(norm_z_data, \n",
    "                                 feature='z_value',\n",
    "                                 criteria = 'log_pitch')\n",
    "\n",
    "participant_kernels = kernels.groupby(['participant','t']).gain.mean().reset_index()"
   ]
  },
  {
   "cell_type": "code",
   "execution_count": null,
   "metadata": {
    "ExecuteTime": {
     "start_time": "2022-09-20T13:11:33.968Z"
    }
   },
   "outputs": [],
   "source": [
    "stats, sig_t = compute_one_sample_stats(participant_kernels)\n",
    "for t,cell in sig_t:\n",
    "    print('- %d: t(%d)=%.2f, p=%.3f'%(t,cell['dof'],cell['T'],cell['p-val']))"
   ]
  },
  {
   "cell_type": "code",
   "execution_count": null,
   "metadata": {
    "ExecuteTime": {
     "start_time": "2022-09-20T13:11:34.172Z"
    },
    "scrolled": true
   },
   "outputs": [],
   "source": [
    "fig = plt.figure(figsize=(10,5))\n",
    "plot_classification_image(kernels=participant_kernels,\n",
    "                         mean_time=mean_time,\n",
    "                         stats=sig_t, \n",
    "                         alphas=[0.2,1], fontsize=20)\n"
   ]
  },
  {
   "cell_type": "code",
   "execution_count": null,
   "metadata": {
    "ExecuteTime": {
     "start_time": "2022-09-20T13:11:34.370Z"
    },
    "scrolled": false
   },
   "outputs": [],
   "source": [
    "fig = plt.figure(figsize=(60,15))\n",
    "plt.subplots_adjust(wspace=0.05,hspace=0.1)\n",
    "fontsize=40\n",
    "\n",
    "for index,repeat in enumerate([1,2,3]): \n",
    "    \n",
    "    kernels = compute_classification_image(data=norm_z_data[norm_z_data.repeat_index==repeat], \n",
    "                                 feature='z_value',\n",
    "                                 criteria = 'log_pitch')\n",
    "    \n",
    "    participant_kernels = kernels.groupby(['participant','t']).gain.mean().reset_index()\n",
    "    stats, sig_t = compute_one_sample_stats(participant_kernels)\n",
    "    \n",
    "    print('REPEAT_INDEX =%d'%repeat)\n",
    "    for t,cell in sig_t:\n",
    "        print('- %d: t(%d)=%.2f, p=%.3f'%(t,cell['dof'],cell['T'],cell['p-val']))\n",
    "    \n",
    "    plt.subplot(1,3,index+1)\n",
    "    \n",
    "    plot_classification_image(kernels=participant_kernels,\n",
    "                              mean_time=mean_time,\n",
    "                              stats=sig_t, \n",
    "                              ylabel = True if index == 0 else False, \n",
    "                              legend = False if repeat > 1 else 'brief',\n",
    "                              fontsize=fontsize)\n",
    "    plt.title ('Step %d'%repeat, fontsize=fontsize) \n",
    "    plt.xlabel('time (% total duration)')\n",
    "            \n",
    "plt.savefig('./pics/step_kernel_norm_z.pdf', format='pdf', dpi=600, transparent=True)\n",
    "            \n",
    "    "
   ]
  },
  {
   "cell_type": "markdown",
   "metadata": {},
   "source": [
    "#### Correlation"
   ]
  },
  {
   "cell_type": "code",
   "execution_count": null,
   "metadata": {
    "ExecuteTime": {
     "start_time": "2022-09-20T13:11:34.758Z"
    },
    "scrolled": false
   },
   "outputs": [],
   "source": [
    "for repeat_index in [1,2,3]:\n",
    "    corr_data = norm_z_data[(norm_z_data.t.isin(np.arange(70,75)))\n",
    "         &(norm_z_data.repeat_index==repeat_index)].groupby(['participant','log_pitch']).agg({'z_value':np.nanmean}).reset_index()\n",
    "    \n",
    "    print('REPEAT '+str(repeat_index))\n",
    "    print(pg.rm_corr(data=corr_data, x='log_pitch', y='z_value', subject='participant'))\n",
    "    pg.plot_rm_corr(data=corr_data, x='log_pitch', y='z_value', subject='participant', legend=True, \n",
    "                    kwargs_facetgrid=dict(height=6, aspect=1,palette='flare'))\n",
    "    #plt.ylim([0.8,1.1])\n",
    "    plt.savefig('./pics/corr_weight_norm_z_%d.pdf'%repeat_index, format='pdf', dpi=600, transparent=True)\n",
    "\n"
   ]
  },
  {
   "cell_type": "markdown",
   "metadata": {},
   "source": [
    "### Musicianship"
   ]
  },
  {
   "cell_type": "markdown",
   "metadata": {},
   "source": [
    "Finally, to test whether the influence of pitch was an effect of musical inculturation, we tested for possible differences between the classification images of musically- and non-musically trained participants, using paired t-tests at each time point. There was no difference between both types of participants at any time point, for any of the effects we tested, regardless of whether we used reported training or a standard test of musicianship (Gold-MSI) as a cutoff measure (e.g. vertical force, all ps > .55 from t=80 to 100ms)."
   ]
  },
  {
   "cell_type": "code",
   "execution_count": null,
   "metadata": {
    "ExecuteTime": {
     "start_time": "2022-09-20T13:11:35.332Z"
    },
    "scrolled": false
   },
   "outputs": [],
   "source": [
    "# kernels musicians\n",
    "kernels_musicians = compute_classification_image(z_data[z_data.musician=='oui'], \n",
    "                                 feature='z_value',\n",
    "                                 criteria = 'log_pitch')\n",
    "participant_kernels_musicians = kernels_musicians.groupby(['participant','t']).gain.mean().reset_index()\n",
    "\n",
    "# kernels musicians\n",
    "kernels_non_musicians = compute_classification_image(z_data[z_data.musician=='non'], \n",
    "                                 feature='z_value',\n",
    "                                 criteria = 'log_pitch')\n",
    "participant_kernels_non_musicians = kernels_non_musicians.groupby(['participant','t']).gain.mean().reset_index()\n",
    "\n",
    "# stats\n",
    "stats, two_sig_t = compute_two_sample_stats(participant_kernels_musicians,\n",
    "                                 participant_kernels_non_musicians)\n",
    "\n",
    "for t,cell in stats:\n",
    "        print('- %d: t(%d)=%.2f, p=%.3f'%(t,cell['dof'],cell['T'],cell['p-val']))"
   ]
  },
  {
   "cell_type": "code",
   "execution_count": null,
   "metadata": {
    "ExecuteTime": {
     "start_time": "2022-09-20T13:11:35.531Z"
    },
    "scrolled": false
   },
   "outputs": [],
   "source": [
    "fig = plt.figure(figsize=(10,5))\n",
    "\n",
    "for musician in ['oui','non']: \n",
    "        \n",
    "    # compute musician kernels \n",
    "    kernels = compute_classification_image(data=z_data[z_data.musician==musician], \n",
    "                                 feature='z_value',\n",
    "                                 criteria = 'log_pitch')\n",
    "    \n",
    "    participant_kernels = kernels.groupby(['participant','t']).gain.mean().reset_index()\n",
    "        \n",
    "    #print(\"MUSICIAN %s\"%musician)\n",
    "    #for t,cell in stats:\n",
    "    #    print('- %d: t(%d)=%.2f, p=%.3f'%(t,cell['dof'],cell['T'],cell['p-val']))\n",
    "    \n",
    "    plot_classification_image(kernels=participant_kernels,\n",
    "                                  mean_time=mean_time,\n",
    "                                  stats=sig_t, \n",
    "                                  ylabel = True if index == 0 else False, \n",
    "                                  fontsize=20,\n",
    "                                  legend = 'brief',\n",
    "                                  label='musician, ' if musician =='oui' else 'non-musician, ')\n",
    "    plt.title ('Vertical force', fontsize=20) \n",
    "    plt.xlabel('time (x10ms)')\n",
    "    plt.ylabel('gain (a.u.)')\n",
    "    plt.legend(loc=2,fontsize=10)\n",
    "            \n",
    "plt.savefig('./pics/kernel_z_musician.pdf', format='pdf', dpi=600, transparent=True)\n",
    "      \n",
    "    "
   ]
  },
  {
   "cell_type": "code",
   "execution_count": null,
   "metadata": {},
   "outputs": [],
   "source": []
  },
  {
   "cell_type": "code",
   "execution_count": null,
   "metadata": {},
   "outputs": [],
   "source": []
  },
  {
   "cell_type": "code",
   "execution_count": null,
   "metadata": {},
   "outputs": [],
   "source": []
  },
  {
   "cell_type": "code",
   "execution_count": null,
   "metadata": {},
   "outputs": [],
   "source": []
  }
 ],
 "metadata": {
  "kernelspec": {
   "display_name": "Python 3",
   "language": "python",
   "name": "python3"
  },
  "language_info": {
   "codemirror_mode": {
    "name": "ipython",
    "version": 3
   },
   "file_extension": ".py",
   "mimetype": "text/x-python",
   "name": "python",
   "nbconvert_exporter": "python",
   "pygments_lexer": "ipython3",
   "version": "3.6.8"
  },
  "toc": {
   "base_numbering": 1,
   "nav_menu": {},
   "number_sections": true,
   "sideBar": true,
   "skip_h1_title": true,
   "title_cell": "Table of Contents",
   "title_sidebar": "Contents",
   "toc_cell": false,
   "toc_position": {
    "height": "calc(100% - 180px)",
    "left": "10px",
    "top": "150px",
    "width": "305.4px"
   },
   "toc_section_display": true,
   "toc_window_display": true
  }
 },
 "nbformat": 4,
 "nbformat_minor": 4
}
